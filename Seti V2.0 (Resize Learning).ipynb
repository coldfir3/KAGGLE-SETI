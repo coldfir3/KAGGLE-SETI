{
  "nbformat": 4,
  "nbformat_minor": 0,
  "metadata": {
    "accelerator": "GPU",
    "colab": {
      "name": "Seti V2.0.ipynb",
      "provenance": [],
      "collapsed_sections": [],
      "authorship_tag": "ABX9TyP8727okuD4BG2MunqJmPBd",
      "include_colab_link": true
    },
    "kernelspec": {
      "display_name": "Python 3",
      "name": "python3"
    },
    "language_info": {
      "name": "python"
    },
    "widgets": {
      "application/vnd.jupyter.widget-state+json": {
        "6fc1f3f47ffc41b388a52022aea5457b": {
          "model_module": "@jupyter-widgets/controls",
          "model_name": "HBoxModel",
          "model_module_version": "1.5.0",
          "state": {
            "_view_name": "HBoxView",
            "_dom_classes": [],
            "_model_name": "HBoxModel",
            "_view_module": "@jupyter-widgets/controls",
            "_model_module_version": "1.5.0",
            "_view_count": null,
            "_view_module_version": "1.5.0",
            "box_style": "",
            "layout": "IPY_MODEL_61723c352900434a94657c73126409ba",
            "_model_module": "@jupyter-widgets/controls",
            "children": [
              "IPY_MODEL_3556be4e91d84675a8c1764c4e20d1bd",
              "IPY_MODEL_6edcdf0c34d341a29a41cece34f03d83",
              "IPY_MODEL_4a7d4a14a63f42d9949b0f699e059091"
            ]
          }
        },
        "61723c352900434a94657c73126409ba": {
          "model_module": "@jupyter-widgets/base",
          "model_name": "LayoutModel",
          "model_module_version": "1.2.0",
          "state": {
            "_view_name": "LayoutView",
            "grid_template_rows": null,
            "right": null,
            "justify_content": null,
            "_view_module": "@jupyter-widgets/base",
            "overflow": null,
            "_model_module_version": "1.2.0",
            "_view_count": null,
            "flex_flow": null,
            "width": null,
            "min_width": null,
            "border": null,
            "align_items": null,
            "bottom": null,
            "_model_module": "@jupyter-widgets/base",
            "top": null,
            "grid_column": null,
            "overflow_y": null,
            "overflow_x": null,
            "grid_auto_flow": null,
            "grid_area": null,
            "grid_template_columns": null,
            "flex": null,
            "_model_name": "LayoutModel",
            "justify_items": null,
            "grid_row": null,
            "max_height": null,
            "align_content": null,
            "visibility": null,
            "align_self": null,
            "height": null,
            "min_height": null,
            "padding": null,
            "grid_auto_rows": null,
            "grid_gap": null,
            "max_width": null,
            "order": null,
            "_view_module_version": "1.2.0",
            "grid_template_areas": null,
            "object_position": null,
            "object_fit": null,
            "grid_auto_columns": null,
            "margin": null,
            "display": null,
            "left": null
          }
        },
        "3556be4e91d84675a8c1764c4e20d1bd": {
          "model_module": "@jupyter-widgets/controls",
          "model_name": "HTMLModel",
          "model_module_version": "1.5.0",
          "state": {
            "_view_name": "HTMLView",
            "style": "IPY_MODEL_3a7d96e195cb44a0a1b8a88b221f010b",
            "_dom_classes": [],
            "description": "",
            "_model_name": "HTMLModel",
            "placeholder": "​",
            "_view_module": "@jupyter-widgets/controls",
            "_model_module_version": "1.5.0",
            "value": "Extracting: 100%",
            "_view_count": null,
            "_view_module_version": "1.5.0",
            "description_tooltip": null,
            "_model_module": "@jupyter-widgets/controls",
            "layout": "IPY_MODEL_a0f6d70eb3214225b06e437c8ce4464e"
          }
        },
        "6edcdf0c34d341a29a41cece34f03d83": {
          "model_module": "@jupyter-widgets/controls",
          "model_name": "FloatProgressModel",
          "model_module_version": "1.5.0",
          "state": {
            "_view_name": "ProgressView",
            "style": "IPY_MODEL_75011b8daa7048a4b406d374d3cf216b",
            "_dom_classes": [],
            "description": "",
            "_model_name": "FloatProgressModel",
            "bar_style": "success",
            "max": 99996,
            "_view_module": "@jupyter-widgets/controls",
            "_model_module_version": "1.5.0",
            "value": 99996,
            "_view_count": null,
            "_view_module_version": "1.5.0",
            "orientation": "horizontal",
            "min": 0,
            "description_tooltip": null,
            "_model_module": "@jupyter-widgets/controls",
            "layout": "IPY_MODEL_3e90a5cb07034fdbb29eafddcf021744"
          }
        },
        "4a7d4a14a63f42d9949b0f699e059091": {
          "model_module": "@jupyter-widgets/controls",
          "model_name": "HTMLModel",
          "model_module_version": "1.5.0",
          "state": {
            "_view_name": "HTMLView",
            "style": "IPY_MODEL_8f02851687aa45e8a4de640a2444d52a",
            "_dom_classes": [],
            "description": "",
            "_model_name": "HTMLModel",
            "placeholder": "​",
            "_view_module": "@jupyter-widgets/controls",
            "_model_module_version": "1.5.0",
            "value": " 99996/99996 [04:01&lt;00:00, 397.08it/s]",
            "_view_count": null,
            "_view_module_version": "1.5.0",
            "description_tooltip": null,
            "_model_module": "@jupyter-widgets/controls",
            "layout": "IPY_MODEL_430da87df23c41afb3ecb0024d05420c"
          }
        },
        "3a7d96e195cb44a0a1b8a88b221f010b": {
          "model_module": "@jupyter-widgets/controls",
          "model_name": "DescriptionStyleModel",
          "model_module_version": "1.5.0",
          "state": {
            "_view_name": "StyleView",
            "_model_name": "DescriptionStyleModel",
            "description_width": "",
            "_view_module": "@jupyter-widgets/base",
            "_model_module_version": "1.5.0",
            "_view_count": null,
            "_view_module_version": "1.2.0",
            "_model_module": "@jupyter-widgets/controls"
          }
        },
        "a0f6d70eb3214225b06e437c8ce4464e": {
          "model_module": "@jupyter-widgets/base",
          "model_name": "LayoutModel",
          "model_module_version": "1.2.0",
          "state": {
            "_view_name": "LayoutView",
            "grid_template_rows": null,
            "right": null,
            "justify_content": null,
            "_view_module": "@jupyter-widgets/base",
            "overflow": null,
            "_model_module_version": "1.2.0",
            "_view_count": null,
            "flex_flow": null,
            "width": null,
            "min_width": null,
            "border": null,
            "align_items": null,
            "bottom": null,
            "_model_module": "@jupyter-widgets/base",
            "top": null,
            "grid_column": null,
            "overflow_y": null,
            "overflow_x": null,
            "grid_auto_flow": null,
            "grid_area": null,
            "grid_template_columns": null,
            "flex": null,
            "_model_name": "LayoutModel",
            "justify_items": null,
            "grid_row": null,
            "max_height": null,
            "align_content": null,
            "visibility": null,
            "align_self": null,
            "height": null,
            "min_height": null,
            "padding": null,
            "grid_auto_rows": null,
            "grid_gap": null,
            "max_width": null,
            "order": null,
            "_view_module_version": "1.2.0",
            "grid_template_areas": null,
            "object_position": null,
            "object_fit": null,
            "grid_auto_columns": null,
            "margin": null,
            "display": null,
            "left": null
          }
        },
        "75011b8daa7048a4b406d374d3cf216b": {
          "model_module": "@jupyter-widgets/controls",
          "model_name": "ProgressStyleModel",
          "model_module_version": "1.5.0",
          "state": {
            "_view_name": "StyleView",
            "_model_name": "ProgressStyleModel",
            "description_width": "",
            "_view_module": "@jupyter-widgets/base",
            "_model_module_version": "1.5.0",
            "_view_count": null,
            "_view_module_version": "1.2.0",
            "bar_color": null,
            "_model_module": "@jupyter-widgets/controls"
          }
        },
        "3e90a5cb07034fdbb29eafddcf021744": {
          "model_module": "@jupyter-widgets/base",
          "model_name": "LayoutModel",
          "model_module_version": "1.2.0",
          "state": {
            "_view_name": "LayoutView",
            "grid_template_rows": null,
            "right": null,
            "justify_content": null,
            "_view_module": "@jupyter-widgets/base",
            "overflow": null,
            "_model_module_version": "1.2.0",
            "_view_count": null,
            "flex_flow": null,
            "width": null,
            "min_width": null,
            "border": null,
            "align_items": null,
            "bottom": null,
            "_model_module": "@jupyter-widgets/base",
            "top": null,
            "grid_column": null,
            "overflow_y": null,
            "overflow_x": null,
            "grid_auto_flow": null,
            "grid_area": null,
            "grid_template_columns": null,
            "flex": null,
            "_model_name": "LayoutModel",
            "justify_items": null,
            "grid_row": null,
            "max_height": null,
            "align_content": null,
            "visibility": null,
            "align_self": null,
            "height": null,
            "min_height": null,
            "padding": null,
            "grid_auto_rows": null,
            "grid_gap": null,
            "max_width": null,
            "order": null,
            "_view_module_version": "1.2.0",
            "grid_template_areas": null,
            "object_position": null,
            "object_fit": null,
            "grid_auto_columns": null,
            "margin": null,
            "display": null,
            "left": null
          }
        },
        "8f02851687aa45e8a4de640a2444d52a": {
          "model_module": "@jupyter-widgets/controls",
          "model_name": "DescriptionStyleModel",
          "model_module_version": "1.5.0",
          "state": {
            "_view_name": "StyleView",
            "_model_name": "DescriptionStyleModel",
            "description_width": "",
            "_view_module": "@jupyter-widgets/base",
            "_model_module_version": "1.5.0",
            "_view_count": null,
            "_view_module_version": "1.2.0",
            "_model_module": "@jupyter-widgets/controls"
          }
        },
        "430da87df23c41afb3ecb0024d05420c": {
          "model_module": "@jupyter-widgets/base",
          "model_name": "LayoutModel",
          "model_module_version": "1.2.0",
          "state": {
            "_view_name": "LayoutView",
            "grid_template_rows": null,
            "right": null,
            "justify_content": null,
            "_view_module": "@jupyter-widgets/base",
            "overflow": null,
            "_model_module_version": "1.2.0",
            "_view_count": null,
            "flex_flow": null,
            "width": null,
            "min_width": null,
            "border": null,
            "align_items": null,
            "bottom": null,
            "_model_module": "@jupyter-widgets/base",
            "top": null,
            "grid_column": null,
            "overflow_y": null,
            "overflow_x": null,
            "grid_auto_flow": null,
            "grid_area": null,
            "grid_template_columns": null,
            "flex": null,
            "_model_name": "LayoutModel",
            "justify_items": null,
            "grid_row": null,
            "max_height": null,
            "align_content": null,
            "visibility": null,
            "align_self": null,
            "height": null,
            "min_height": null,
            "padding": null,
            "grid_auto_rows": null,
            "grid_gap": null,
            "max_width": null,
            "order": null,
            "_view_module_version": "1.2.0",
            "grid_template_areas": null,
            "object_position": null,
            "object_fit": null,
            "grid_auto_columns": null,
            "margin": null,
            "display": null,
            "left": null
          }
        }
      }
    }
  },
  "cells": [
    {
      "cell_type": "markdown",
      "metadata": {
        "id": "view-in-github",
        "colab_type": "text"
      },
      "source": [
        "<a href=\"https://colab.research.google.com/github/coldfir3/KAGGLE-SETI/blob/main/Seti%20V2.0%20(Resize%20Learning).ipynb\" target=\"_parent\"><img src=\"https://colab.research.google.com/assets/colab-badge.svg\" alt=\"Open In Colab\"/></a>"
      ]
    },
    {
      "cell_type": "markdown",
      "metadata": {
        "id": "g_ie26T9NjC1"
      },
      "source": [
        "## Initial Setup"
      ]
    },
    {
      "cell_type": "code",
      "metadata": {
        "id": "TG1UcdQLNV_X"
      },
      "source": [
        "import sys\n",
        "import os\n",
        "is_colab = 'google.colab' in sys.modules"
      ],
      "execution_count": null,
      "outputs": []
    },
    {
      "cell_type": "markdown",
      "metadata": {
        "id": "0HDbko4QJMoA"
      },
      "source": [
        "### Downloading data\n",
        "\n"
      ]
    },
    {
      "cell_type": "code",
      "metadata": {
        "colab": {
          "base_uri": "https://localhost:8080/",
          "height": 327,
          "referenced_widgets": [
            "6fc1f3f47ffc41b388a52022aea5457b",
            "61723c352900434a94657c73126409ba",
            "3556be4e91d84675a8c1764c4e20d1bd",
            "6edcdf0c34d341a29a41cece34f03d83",
            "4a7d4a14a63f42d9949b0f699e059091",
            "3a7d96e195cb44a0a1b8a88b221f010b",
            "a0f6d70eb3214225b06e437c8ce4464e",
            "75011b8daa7048a4b406d374d3cf216b",
            "3e90a5cb07034fdbb29eafddcf021744",
            "8f02851687aa45e8a4de640a2444d52a",
            "430da87df23c41afb3ecb0024d05420c"
          ]
        },
        "id": "b5f5KDhnr1x2",
        "outputId": "fc0592e3-24a7-4443-a706-08d594c4b867"
      },
      "source": [
        "if is_colab:\n",
        "\n",
        "    from google.colab import drive\n",
        "    from os.path import exists\n",
        "\n",
        "    if not exists('/content/drive'):\n",
        "        drive.mount('/content/drive')\n",
        "    %run '/content/drive/MyDrive/Kaggle/My Kaggle [colab].ipynb'\n",
        "\n",
        "    if not exists('/content/train/'):\n",
        "        setup_kaggle()\n",
        "        get_kaggle_data('d', 'coldfir3/seti-spatial-dataset-v3')\n",
        "        ! kaggle competitions download -c seti-breakthrough-listen -f train_labels.csv"
      ],
      "execution_count": 2,
      "outputs": [
        {
          "output_type": "stream",
          "text": [
            "Mounted at /content/drive\n",
            "Downloading...\n",
            "From: https://drive.google.com/uc?id=19H3_BYiHuzIiY9vo9rBsVIu1aSlPlbKx\n",
            "To: /content/Kaggle/kaggle.json\n",
            "100% 64.0/64.0 [00:00<00:00, 109kB/s]\n",
            "drive  Kaggle  sample_data\n",
            "\u001b[K     |████████████████████████████████| 58 kB 5.8 MB/s \n",
            "\u001b[?25h  Building wheel for kaggle (setup.py) ... \u001b[?25l\u001b[?25hdone\n",
            "! kaggle datasets download -d coldfir3/seti-spatial-dataset-v3\n",
            "Downloading seti-spatial-dataset-v3.zip to /content\n",
            "100% 15.8G/15.8G [03:32<00:00, 99.9MB/s]\n",
            "100% 15.8G/15.8G [03:32<00:00, 79.7MB/s]\n",
            "seti-spatial-dataset-v3.zip\n"
          ],
          "name": "stdout"
        },
        {
          "output_type": "display_data",
          "data": {
            "application/vnd.jupyter.widget-view+json": {
              "model_id": "6fc1f3f47ffc41b388a52022aea5457b",
              "version_minor": 0,
              "version_major": 2
            },
            "text/plain": [
              "Extracting:   0%|          | 0/99996 [00:00<?, ?it/s]"
            ]
          },
          "metadata": {
            "tags": []
          }
        },
        {
          "output_type": "stream",
          "text": [
            "Downloading train_labels.csv.zip to /content\n",
            "\r  0% 0.00/522k [00:00<?, ?B/s]\n",
            "\r100% 522k/522k [00:00<00:00, 124MB/s]\n"
          ],
          "name": "stdout"
        }
      ]
    },
    {
      "cell_type": "markdown",
      "metadata": {
        "id": "67MUjz6-Nm6G"
      },
      "source": [
        "### Installing packages"
      ]
    },
    {
      "cell_type": "code",
      "metadata": {
        "colab": {
          "base_uri": "https://localhost:8080/"
        },
        "id": "uQMtm6YEtMwg",
        "outputId": "67eb1563-9fa5-48c5-a1e5-8dc94b4c5298"
      },
      "source": [
        "if is_colab:\n",
        "    !pip install -Uqqq wandb\n",
        "    !pip install -Uqqq fastai\n",
        "    !pip install -Uqqq timm"
      ],
      "execution_count": 3,
      "outputs": [
        {
          "output_type": "stream",
          "text": [
            "\u001b[?25l\r\u001b[K     |▏                               | 10 kB 33.4 MB/s eta 0:00:01\r\u001b[K     |▍                               | 20 kB 40.6 MB/s eta 0:00:01\r\u001b[K     |▋                               | 30 kB 42.6 MB/s eta 0:00:01\r\u001b[K     |▉                               | 40 kB 25.0 MB/s eta 0:00:01\r\u001b[K     |█                               | 51 kB 16.9 MB/s eta 0:00:01\r\u001b[K     |█▏                              | 61 kB 18.2 MB/s eta 0:00:01\r\u001b[K     |█▍                              | 71 kB 16.5 MB/s eta 0:00:01\r\u001b[K     |█▋                              | 81 kB 18.1 MB/s eta 0:00:01\r\u001b[K     |█▉                              | 92 kB 14.1 MB/s eta 0:00:01\r\u001b[K     |██                              | 102 kB 14.7 MB/s eta 0:00:01\r\u001b[K     |██▏                             | 112 kB 14.7 MB/s eta 0:00:01\r\u001b[K     |██▍                             | 122 kB 14.7 MB/s eta 0:00:01\r\u001b[K     |██▋                             | 133 kB 14.7 MB/s eta 0:00:01\r\u001b[K     |██▉                             | 143 kB 14.7 MB/s eta 0:00:01\r\u001b[K     |███                             | 153 kB 14.7 MB/s eta 0:00:01\r\u001b[K     |███▎                            | 163 kB 14.7 MB/s eta 0:00:01\r\u001b[K     |███▍                            | 174 kB 14.7 MB/s eta 0:00:01\r\u001b[K     |███▋                            | 184 kB 14.7 MB/s eta 0:00:01\r\u001b[K     |███▉                            | 194 kB 14.7 MB/s eta 0:00:01\r\u001b[K     |████                            | 204 kB 14.7 MB/s eta 0:00:01\r\u001b[K     |████▎                           | 215 kB 14.7 MB/s eta 0:00:01\r\u001b[K     |████▍                           | 225 kB 14.7 MB/s eta 0:00:01\r\u001b[K     |████▋                           | 235 kB 14.7 MB/s eta 0:00:01\r\u001b[K     |████▉                           | 245 kB 14.7 MB/s eta 0:00:01\r\u001b[K     |█████                           | 256 kB 14.7 MB/s eta 0:00:01\r\u001b[K     |█████▎                          | 266 kB 14.7 MB/s eta 0:00:01\r\u001b[K     |█████▌                          | 276 kB 14.7 MB/s eta 0:00:01\r\u001b[K     |█████▋                          | 286 kB 14.7 MB/s eta 0:00:01\r\u001b[K     |█████▉                          | 296 kB 14.7 MB/s eta 0:00:01\r\u001b[K     |██████                          | 307 kB 14.7 MB/s eta 0:00:01\r\u001b[K     |██████▎                         | 317 kB 14.7 MB/s eta 0:00:01\r\u001b[K     |██████▌                         | 327 kB 14.7 MB/s eta 0:00:01\r\u001b[K     |██████▋                         | 337 kB 14.7 MB/s eta 0:00:01\r\u001b[K     |██████▉                         | 348 kB 14.7 MB/s eta 0:00:01\r\u001b[K     |███████                         | 358 kB 14.7 MB/s eta 0:00:01\r\u001b[K     |███████▎                        | 368 kB 14.7 MB/s eta 0:00:01\r\u001b[K     |███████▌                        | 378 kB 14.7 MB/s eta 0:00:01\r\u001b[K     |███████▊                        | 389 kB 14.7 MB/s eta 0:00:01\r\u001b[K     |███████▉                        | 399 kB 14.7 MB/s eta 0:00:01\r\u001b[K     |████████                        | 409 kB 14.7 MB/s eta 0:00:01\r\u001b[K     |████████▎                       | 419 kB 14.7 MB/s eta 0:00:01\r\u001b[K     |████████▌                       | 430 kB 14.7 MB/s eta 0:00:01\r\u001b[K     |████████▊                       | 440 kB 14.7 MB/s eta 0:00:01\r\u001b[K     |████████▉                       | 450 kB 14.7 MB/s eta 0:00:01\r\u001b[K     |█████████                       | 460 kB 14.7 MB/s eta 0:00:01\r\u001b[K     |█████████▎                      | 471 kB 14.7 MB/s eta 0:00:01\r\u001b[K     |█████████▌                      | 481 kB 14.7 MB/s eta 0:00:01\r\u001b[K     |█████████▊                      | 491 kB 14.7 MB/s eta 0:00:01\r\u001b[K     |██████████                      | 501 kB 14.7 MB/s eta 0:00:01\r\u001b[K     |██████████                      | 512 kB 14.7 MB/s eta 0:00:01\r\u001b[K     |██████████▎                     | 522 kB 14.7 MB/s eta 0:00:01\r\u001b[K     |██████████▌                     | 532 kB 14.7 MB/s eta 0:00:01\r\u001b[K     |██████████▊                     | 542 kB 14.7 MB/s eta 0:00:01\r\u001b[K     |███████████                     | 552 kB 14.7 MB/s eta 0:00:01\r\u001b[K     |███████████                     | 563 kB 14.7 MB/s eta 0:00:01\r\u001b[K     |███████████▎                    | 573 kB 14.7 MB/s eta 0:00:01\r\u001b[K     |███████████▌                    | 583 kB 14.7 MB/s eta 0:00:01\r\u001b[K     |███████████▊                    | 593 kB 14.7 MB/s eta 0:00:01\r\u001b[K     |████████████                    | 604 kB 14.7 MB/s eta 0:00:01\r\u001b[K     |████████████▏                   | 614 kB 14.7 MB/s eta 0:00:01\r\u001b[K     |████████████▎                   | 624 kB 14.7 MB/s eta 0:00:01\r\u001b[K     |████████████▌                   | 634 kB 14.7 MB/s eta 0:00:01\r\u001b[K     |████████████▊                   | 645 kB 14.7 MB/s eta 0:00:01\r\u001b[K     |█████████████                   | 655 kB 14.7 MB/s eta 0:00:01\r\u001b[K     |█████████████▏                  | 665 kB 14.7 MB/s eta 0:00:01\r\u001b[K     |█████████████▎                  | 675 kB 14.7 MB/s eta 0:00:01\r\u001b[K     |█████████████▌                  | 686 kB 14.7 MB/s eta 0:00:01\r\u001b[K     |█████████████▊                  | 696 kB 14.7 MB/s eta 0:00:01\r\u001b[K     |██████████████                  | 706 kB 14.7 MB/s eta 0:00:01\r\u001b[K     |██████████████▏                 | 716 kB 14.7 MB/s eta 0:00:01\r\u001b[K     |██████████████▍                 | 727 kB 14.7 MB/s eta 0:00:01\r\u001b[K     |██████████████▌                 | 737 kB 14.7 MB/s eta 0:00:01\r\u001b[K     |██████████████▊                 | 747 kB 14.7 MB/s eta 0:00:01\r\u001b[K     |███████████████                 | 757 kB 14.7 MB/s eta 0:00:01\r\u001b[K     |███████████████▏                | 768 kB 14.7 MB/s eta 0:00:01\r\u001b[K     |███████████████▍                | 778 kB 14.7 MB/s eta 0:00:01\r\u001b[K     |███████████████▌                | 788 kB 14.7 MB/s eta 0:00:01\r\u001b[K     |███████████████▊                | 798 kB 14.7 MB/s eta 0:00:01\r\u001b[K     |████████████████                | 808 kB 14.7 MB/s eta 0:00:01\r\u001b[K     |████████████████▏               | 819 kB 14.7 MB/s eta 0:00:01\r\u001b[K     |████████████████▍               | 829 kB 14.7 MB/s eta 0:00:01\r\u001b[K     |████████████████▌               | 839 kB 14.7 MB/s eta 0:00:01\r\u001b[K     |████████████████▊               | 849 kB 14.7 MB/s eta 0:00:01\r\u001b[K     |█████████████████               | 860 kB 14.7 MB/s eta 0:00:01\r\u001b[K     |█████████████████▏              | 870 kB 14.7 MB/s eta 0:00:01\r\u001b[K     |█████████████████▍              | 880 kB 14.7 MB/s eta 0:00:01\r\u001b[K     |█████████████████▋              | 890 kB 14.7 MB/s eta 0:00:01\r\u001b[K     |█████████████████▊              | 901 kB 14.7 MB/s eta 0:00:01\r\u001b[K     |██████████████████              | 911 kB 14.7 MB/s eta 0:00:01\r\u001b[K     |██████████████████▏             | 921 kB 14.7 MB/s eta 0:00:01\r\u001b[K     |██████████████████▍             | 931 kB 14.7 MB/s eta 0:00:01\r\u001b[K     |██████████████████▋             | 942 kB 14.7 MB/s eta 0:00:01\r\u001b[K     |██████████████████▊             | 952 kB 14.7 MB/s eta 0:00:01\r\u001b[K     |███████████████████             | 962 kB 14.7 MB/s eta 0:00:01\r\u001b[K     |███████████████████▏            | 972 kB 14.7 MB/s eta 0:00:01\r\u001b[K     |███████████████████▍            | 983 kB 14.7 MB/s eta 0:00:01\r\u001b[K     |███████████████████▋            | 993 kB 14.7 MB/s eta 0:00:01\r\u001b[K     |███████████████████▉            | 1.0 MB 14.7 MB/s eta 0:00:01\r\u001b[K     |████████████████████            | 1.0 MB 14.7 MB/s eta 0:00:01\r\u001b[K     |████████████████████▏           | 1.0 MB 14.7 MB/s eta 0:00:01\r\u001b[K     |████████████████████▍           | 1.0 MB 14.7 MB/s eta 0:00:01\r\u001b[K     |████████████████████▋           | 1.0 MB 14.7 MB/s eta 0:00:01\r\u001b[K     |████████████████████▉           | 1.1 MB 14.7 MB/s eta 0:00:01\r\u001b[K     |█████████████████████           | 1.1 MB 14.7 MB/s eta 0:00:01\r\u001b[K     |█████████████████████▏          | 1.1 MB 14.7 MB/s eta 0:00:01\r\u001b[K     |█████████████████████▍          | 1.1 MB 14.7 MB/s eta 0:00:01\r\u001b[K     |█████████████████████▋          | 1.1 MB 14.7 MB/s eta 0:00:01\r\u001b[K     |█████████████████████▉          | 1.1 MB 14.7 MB/s eta 0:00:01\r\u001b[K     |██████████████████████          | 1.1 MB 14.7 MB/s eta 0:00:01\r\u001b[K     |██████████████████████▏         | 1.1 MB 14.7 MB/s eta 0:00:01\r\u001b[K     |██████████████████████▍         | 1.1 MB 14.7 MB/s eta 0:00:01\r\u001b[K     |██████████████████████▋         | 1.1 MB 14.7 MB/s eta 0:00:01\r\u001b[K     |██████████████████████▉         | 1.2 MB 14.7 MB/s eta 0:00:01\r\u001b[K     |███████████████████████         | 1.2 MB 14.7 MB/s eta 0:00:01\r\u001b[K     |███████████████████████▏        | 1.2 MB 14.7 MB/s eta 0:00:01\r\u001b[K     |███████████████████████▍        | 1.2 MB 14.7 MB/s eta 0:00:01\r\u001b[K     |███████████████████████▋        | 1.2 MB 14.7 MB/s eta 0:00:01\r\u001b[K     |███████████████████████▉        | 1.2 MB 14.7 MB/s eta 0:00:01\r\u001b[K     |████████████████████████        | 1.2 MB 14.7 MB/s eta 0:00:01\r\u001b[K     |████████████████████████▎       | 1.2 MB 14.7 MB/s eta 0:00:01\r\u001b[K     |████████████████████████▍       | 1.2 MB 14.7 MB/s eta 0:00:01\r\u001b[K     |████████████████████████▋       | 1.2 MB 14.7 MB/s eta 0:00:01\r\u001b[K     |████████████████████████▉       | 1.3 MB 14.7 MB/s eta 0:00:01\r\u001b[K     |█████████████████████████       | 1.3 MB 14.7 MB/s eta 0:00:01\r\u001b[K     |█████████████████████████▎      | 1.3 MB 14.7 MB/s eta 0:00:01\r\u001b[K     |█████████████████████████▍      | 1.3 MB 14.7 MB/s eta 0:00:01\r\u001b[K     |█████████████████████████▋      | 1.3 MB 14.7 MB/s eta 0:00:01\r\u001b[K     |█████████████████████████▉      | 1.3 MB 14.7 MB/s eta 0:00:01\r\u001b[K     |██████████████████████████      | 1.3 MB 14.7 MB/s eta 0:00:01\r\u001b[K     |██████████████████████████▎     | 1.3 MB 14.7 MB/s eta 0:00:01\r\u001b[K     |██████████████████████████▌     | 1.3 MB 14.7 MB/s eta 0:00:01\r\u001b[K     |██████████████████████████▋     | 1.4 MB 14.7 MB/s eta 0:00:01\r\u001b[K     |██████████████████████████▉     | 1.4 MB 14.7 MB/s eta 0:00:01\r\u001b[K     |███████████████████████████     | 1.4 MB 14.7 MB/s eta 0:00:01\r\u001b[K     |███████████████████████████▎    | 1.4 MB 14.7 MB/s eta 0:00:01\r\u001b[K     |███████████████████████████▌    | 1.4 MB 14.7 MB/s eta 0:00:01\r\u001b[K     |███████████████████████████▋    | 1.4 MB 14.7 MB/s eta 0:00:01\r\u001b[K     |███████████████████████████▉    | 1.4 MB 14.7 MB/s eta 0:00:01\r\u001b[K     |████████████████████████████    | 1.4 MB 14.7 MB/s eta 0:00:01\r\u001b[K     |████████████████████████████▎   | 1.4 MB 14.7 MB/s eta 0:00:01\r\u001b[K     |████████████████████████████▌   | 1.4 MB 14.7 MB/s eta 0:00:01\r\u001b[K     |████████████████████████████▊   | 1.5 MB 14.7 MB/s eta 0:00:01\r\u001b[K     |████████████████████████████▉   | 1.5 MB 14.7 MB/s eta 0:00:01\r\u001b[K     |█████████████████████████████   | 1.5 MB 14.7 MB/s eta 0:00:01\r\u001b[K     |█████████████████████████████▎  | 1.5 MB 14.7 MB/s eta 0:00:01\r\u001b[K     |█████████████████████████████▌  | 1.5 MB 14.7 MB/s eta 0:00:01\r\u001b[K     |█████████████████████████████▊  | 1.5 MB 14.7 MB/s eta 0:00:01\r\u001b[K     |█████████████████████████████▉  | 1.5 MB 14.7 MB/s eta 0:00:01\r\u001b[K     |██████████████████████████████  | 1.5 MB 14.7 MB/s eta 0:00:01\r\u001b[K     |██████████████████████████████▎ | 1.5 MB 14.7 MB/s eta 0:00:01\r\u001b[K     |██████████████████████████████▌ | 1.5 MB 14.7 MB/s eta 0:00:01\r\u001b[K     |██████████████████████████████▊ | 1.6 MB 14.7 MB/s eta 0:00:01\r\u001b[K     |██████████████████████████████▉ | 1.6 MB 14.7 MB/s eta 0:00:01\r\u001b[K     |███████████████████████████████ | 1.6 MB 14.7 MB/s eta 0:00:01\r\u001b[K     |███████████████████████████████▎| 1.6 MB 14.7 MB/s eta 0:00:01\r\u001b[K     |███████████████████████████████▌| 1.6 MB 14.7 MB/s eta 0:00:01\r\u001b[K     |███████████████████████████████▊| 1.6 MB 14.7 MB/s eta 0:00:01\r\u001b[K     |████████████████████████████████| 1.6 MB 14.7 MB/s eta 0:00:01\r\u001b[K     |████████████████████████████████| 1.6 MB 14.7 MB/s \n",
            "\u001b[K     |████████████████████████████████| 97 kB 9.4 MB/s \n",
            "\u001b[K     |████████████████████████████████| 170 kB 63.3 MB/s \n",
            "\u001b[K     |████████████████████████████████| 133 kB 60.1 MB/s \n",
            "\u001b[K     |████████████████████████████████| 63 kB 2.3 MB/s \n",
            "\u001b[?25h  Building wheel for subprocess32 (setup.py) ... \u001b[?25l\u001b[?25hdone\n",
            "  Building wheel for pathtools (setup.py) ... \u001b[?25l\u001b[?25hdone\n",
            "\u001b[K     |████████████████████████████████| 188 kB 13.3 MB/s \n",
            "\u001b[K     |████████████████████████████████| 56 kB 5.2 MB/s \n",
            "\u001b[K     |████████████████████████████████| 376 kB 12.7 MB/s \n",
            "\u001b[?25h"
          ],
          "name": "stdout"
        }
      ]
    },
    {
      "cell_type": "markdown",
      "metadata": {
        "id": "aFs1gKxXNt1K"
      },
      "source": [
        "### Loading packages"
      ]
    },
    {
      "cell_type": "code",
      "metadata": {
        "id": "GfaReODVtOU0"
      },
      "source": [
        "from fastai.vision.all import *\n",
        "import wandb\n",
        "from fastai.callback.wandb import *\n",
        "from argparse import Namespace\n",
        "import timm"
      ],
      "execution_count": 4,
      "outputs": []
    },
    {
      "cell_type": "markdown",
      "metadata": {
        "id": "HYcpcs_qzYy6"
      },
      "source": [
        "## Setting up the DataFrames"
      ]
    },
    {
      "cell_type": "code",
      "metadata": {
        "colab": {
          "base_uri": "https://localhost:8080/",
          "height": 423
        },
        "id": "crhElQyIs9qe",
        "outputId": "b9448dc6-c506-491a-e754-23f4adae0f49"
      },
      "source": [
        "from sklearn.model_selection import StratifiedKFold\n",
        "if is_colab: \n",
        "    base_path = '/content/train/'\n",
        "    train_df = pd.read_csv('/content/train_labels.csv.zip')\n",
        "else:\n",
        "    pass\n",
        "    # train_study = pd.read_csv('/media/passos/Data/DSET/siim-covid19-detection/train_study_level.csv')\n",
        "\n",
        "train_df['fold'] = -1\n",
        "train_df['path'] = train_df['id'].apply(lambda x: base_path + x + '.png')\n",
        "train_df['label'] = train_df['target'].apply(lambda x: 'alien' if x == 1 else 'no-alien')\n",
        "skf = StratifiedKFold(n_splits = 6, random_state = 42, shuffle = True)\n",
        "for fold, (train_index, test_index) in enumerate(skf.split(train_df['id'], train_df['target'])):\n",
        "    train_df.loc[test_index, 'fold'] = fold\n",
        "train_df"
      ],
      "execution_count": 5,
      "outputs": [
        {
          "output_type": "execute_result",
          "data": {
            "text/html": [
              "<div>\n",
              "<style scoped>\n",
              "    .dataframe tbody tr th:only-of-type {\n",
              "        vertical-align: middle;\n",
              "    }\n",
              "\n",
              "    .dataframe tbody tr th {\n",
              "        vertical-align: top;\n",
              "    }\n",
              "\n",
              "    .dataframe thead th {\n",
              "        text-align: right;\n",
              "    }\n",
              "</style>\n",
              "<table border=\"1\" class=\"dataframe\">\n",
              "  <thead>\n",
              "    <tr style=\"text-align: right;\">\n",
              "      <th></th>\n",
              "      <th>id</th>\n",
              "      <th>target</th>\n",
              "      <th>fold</th>\n",
              "      <th>path</th>\n",
              "      <th>label</th>\n",
              "    </tr>\n",
              "  </thead>\n",
              "  <tbody>\n",
              "    <tr>\n",
              "      <th>0</th>\n",
              "      <td>0000799a2b2c42d</td>\n",
              "      <td>0</td>\n",
              "      <td>3</td>\n",
              "      <td>/content/train/0000799a2b2c42d.png</td>\n",
              "      <td>no-alien</td>\n",
              "    </tr>\n",
              "    <tr>\n",
              "      <th>1</th>\n",
              "      <td>00042890562ff68</td>\n",
              "      <td>0</td>\n",
              "      <td>3</td>\n",
              "      <td>/content/train/00042890562ff68.png</td>\n",
              "      <td>no-alien</td>\n",
              "    </tr>\n",
              "    <tr>\n",
              "      <th>2</th>\n",
              "      <td>0005364cdcb8e5b</td>\n",
              "      <td>0</td>\n",
              "      <td>4</td>\n",
              "      <td>/content/train/0005364cdcb8e5b.png</td>\n",
              "      <td>no-alien</td>\n",
              "    </tr>\n",
              "    <tr>\n",
              "      <th>3</th>\n",
              "      <td>0007a5a46901c56</td>\n",
              "      <td>0</td>\n",
              "      <td>3</td>\n",
              "      <td>/content/train/0007a5a46901c56.png</td>\n",
              "      <td>no-alien</td>\n",
              "    </tr>\n",
              "    <tr>\n",
              "      <th>4</th>\n",
              "      <td>0009283e145448e</td>\n",
              "      <td>0</td>\n",
              "      <td>3</td>\n",
              "      <td>/content/train/0009283e145448e.png</td>\n",
              "      <td>no-alien</td>\n",
              "    </tr>\n",
              "    <tr>\n",
              "      <th>...</th>\n",
              "      <td>...</td>\n",
              "      <td>...</td>\n",
              "      <td>...</td>\n",
              "      <td>...</td>\n",
              "      <td>...</td>\n",
              "    </tr>\n",
              "    <tr>\n",
              "      <th>59995</th>\n",
              "      <td>fff8217fe05aba3</td>\n",
              "      <td>0</td>\n",
              "      <td>4</td>\n",
              "      <td>/content/train/fff8217fe05aba3.png</td>\n",
              "      <td>no-alien</td>\n",
              "    </tr>\n",
              "    <tr>\n",
              "      <th>59996</th>\n",
              "      <td>fffa939e610ed70</td>\n",
              "      <td>0</td>\n",
              "      <td>4</td>\n",
              "      <td>/content/train/fffa939e610ed70.png</td>\n",
              "      <td>no-alien</td>\n",
              "    </tr>\n",
              "    <tr>\n",
              "      <th>59997</th>\n",
              "      <td>fffbb1c9c3d6c31</td>\n",
              "      <td>1</td>\n",
              "      <td>5</td>\n",
              "      <td>/content/train/fffbb1c9c3d6c31.png</td>\n",
              "      <td>alien</td>\n",
              "    </tr>\n",
              "    <tr>\n",
              "      <th>59998</th>\n",
              "      <td>fffc9a763d23647</td>\n",
              "      <td>0</td>\n",
              "      <td>0</td>\n",
              "      <td>/content/train/fffc9a763d23647.png</td>\n",
              "      <td>no-alien</td>\n",
              "    </tr>\n",
              "    <tr>\n",
              "      <th>59999</th>\n",
              "      <td>ffff0a799efa529</td>\n",
              "      <td>0</td>\n",
              "      <td>1</td>\n",
              "      <td>/content/train/ffff0a799efa529.png</td>\n",
              "      <td>no-alien</td>\n",
              "    </tr>\n",
              "  </tbody>\n",
              "</table>\n",
              "<p>60000 rows × 5 columns</p>\n",
              "</div>"
            ],
            "text/plain": [
              "                    id  target  ...                                path     label\n",
              "0      0000799a2b2c42d       0  ...  /content/train/0000799a2b2c42d.png  no-alien\n",
              "1      00042890562ff68       0  ...  /content/train/00042890562ff68.png  no-alien\n",
              "2      0005364cdcb8e5b       0  ...  /content/train/0005364cdcb8e5b.png  no-alien\n",
              "3      0007a5a46901c56       0  ...  /content/train/0007a5a46901c56.png  no-alien\n",
              "4      0009283e145448e       0  ...  /content/train/0009283e145448e.png  no-alien\n",
              "...                ...     ...  ...                                 ...       ...\n",
              "59995  fff8217fe05aba3       0  ...  /content/train/fff8217fe05aba3.png  no-alien\n",
              "59996  fffa939e610ed70       0  ...  /content/train/fffa939e610ed70.png  no-alien\n",
              "59997  fffbb1c9c3d6c31       1  ...  /content/train/fffbb1c9c3d6c31.png     alien\n",
              "59998  fffc9a763d23647       0  ...  /content/train/fffc9a763d23647.png  no-alien\n",
              "59999  ffff0a799efa529       0  ...  /content/train/ffff0a799efa529.png  no-alien\n",
              "\n",
              "[60000 rows x 5 columns]"
            ]
          },
          "metadata": {
            "tags": []
          },
          "execution_count": 5
        }
      ]
    },
    {
      "cell_type": "markdown",
      "metadata": {
        "id": "fNzjXdp3zzA9"
      },
      "source": [
        "## DataBlock & DataLoader"
      ]
    },
    {
      "cell_type": "code",
      "metadata": {
        "colab": {
          "base_uri": "https://localhost:8080/",
          "height": 270
        },
        "id": "y7B2iqV2zUfi",
        "outputId": "8ba70953-e20b-4494-fa4b-1ffeb36e7097"
      },
      "source": [
        "def get_dls(df, **config):\n",
        "    is_colab = 'google.colab' in sys.modules\n",
        "    workers = 2 if is_colab else 10\n",
        "    splitter = IndexSplitter(df[df.fold == config['fold']].index)\n",
        "    return DataBlock(\n",
        "        blocks=(ImageBlock(cls=PILImageBW), CategoryBlock()),\n",
        "        splitter = splitter,\n",
        "        getters=[ColReader('path'), ColReader('target')],\n",
        "        # item_tfms=Resize(224),\n",
        "        batch_tfms=[Flip(), Normalize(mean = tensor(0.5), std = tensor(0.177))]\n",
        "        ).dataloaders(df, bs = config['bs'], num_workers = workers)\n",
        "\n",
        "dls = get_dls(train_df, **{'bs':8, 'fold':0})\n",
        "dls.show_batch()"
      ],
      "execution_count": 6,
      "outputs": [
        {
          "output_type": "display_data",
          "data": {
            "image/png": "[encoded data removed]",
            "text/plain": [
              "<Figure size 864x432 with 8 Axes>"
            ]
          },
          "metadata": {
            "tags": [],
            "needs_background": "light"
          }
        }
      ]
    },
    {
      "cell_type": "code",
      "metadata": {
        "id": "A1XqAhSgrJur"
      },
      "source": [
        "# https://arxiv.org/pdf/2103.09950.pdf\n",
        "# https://github.com/yundaehyuck/Learning-to-resize-images-for-computer-vision-tasks/blob/main/resizing_network.ipynb\n",
        "\n",
        "class ResBlock(nn.Module):\n",
        "    def __init__(self,num_channels=16):\n",
        "        super(ResBlock,self).__init__()\n",
        "        \n",
        "        self.conv1 = nn.Conv2d(num_channels,num_channels,kernel_size=3,stride=1,padding=1)\n",
        "        self.bn1 = nn.BatchNorm2d(num_channels)\n",
        "        self.leakyrelu = nn.LeakyReLU(negative_slope=0.2,inplace=True)\n",
        "        \n",
        "        self.conv2 = nn.Conv2d(num_channels,num_channels,kernel_size=3,stride=1,padding=1)\n",
        "        self.bn2 = nn.BatchNorm2d(num_channels)\n",
        "    \n",
        "    def forward(self,x):\n",
        "        residual = x\n",
        "        \n",
        "        out = self.conv1(x)\n",
        "        out = self.bn1(out)\n",
        "        \n",
        "        out = self.leakyrelu(out)\n",
        "        \n",
        "        out = self.conv2(out)\n",
        "        out = self.bn2(out)\n",
        "        out += residual\n",
        "        \n",
        "        return out\n",
        "\n",
        "def make_block(r,n):\n",
        "    residual = []\n",
        "    \n",
        "    for i in range(r):\n",
        "        block = ResBlock(num_channels=n)\n",
        "        residual.append(block)\n",
        "    \n",
        "    return nn.Sequential(*residual)\n",
        "\n",
        "class ResizingNetwork(nn.Module):\n",
        "    def __init__(self, img_size, in_chans = 3, r=1, n=16):\n",
        "        super(ResizingNetwork, self).__init__()\n",
        "\n",
        "        self.img_size = img_size\n",
        "        \n",
        "        self.conv1 = nn.Conv2d(in_channels=in_chans,out_channels=n,kernel_size=7,stride=1,padding=3)\n",
        "        self.leakyrelu1 = nn.LeakyReLU(negative_slope=0.2,inplace=True)\n",
        "        \n",
        "        self.conv2 = nn.Conv2d(n,n,kernel_size=1,stride=1)\n",
        "        self.leakyrelu2 = nn.LeakyReLU(negative_slope=0.2,inplace=True)\n",
        "        self.bn1 = nn.BatchNorm2d(n)\n",
        "                \n",
        "        self.resblock = make_block(r,n)        \n",
        "        \n",
        "        self.conv3 = nn.Conv2d(n,n,kernel_size=3,stride=1,padding=1)\n",
        "        self.bn2 = nn.BatchNorm2d(n)\n",
        "        \n",
        "        self.conv4 = nn.Conv2d(n,out_channels=in_chans,kernel_size=7,stride=1,padding=3)\n",
        "        \n",
        "    def forward(self, x):\n",
        "        \n",
        "        residual = F.interpolate(x, size=(self.img_size, self.img_size), mode='bilinear', align_corners=False)\n",
        "        \n",
        "        out = self.conv1(x)\n",
        "        out = self.leakyrelu1(out)\n",
        "        \n",
        "        out = self.conv2(out)\n",
        "        out = self.leakyrelu2(out)\n",
        "        out = self.bn1(out)\n",
        "        \n",
        "        out_residual = F.interpolate(out, size=(self.img_size, self.img_size), mode='bilinear', align_corners=False)\n",
        "        \n",
        "        out = self.resblock(out_residual)\n",
        "        \n",
        "        out = self.conv3(out)\n",
        "        out = self.bn2(out)\n",
        "        out += out_residual\n",
        "        \n",
        "        out = self.conv4(out)\n",
        "        out += residual\n",
        "        \n",
        "        return out"
      ],
      "execution_count": 7,
      "outputs": []
    },
    {
      "cell_type": "code",
      "metadata": {
        "id": "wEKD8ny83UQN",
        "colab": {
          "base_uri": "https://localhost:8080/"
        },
        "outputId": "6be61e49-332e-4eda-9e5b-19da5ec28be4"
      },
      "source": [
        "def create_timm_model(**cfg):\n",
        "    model_name = cfg.pop('arch')\n",
        "    if 'img_size' in cfg.keys():\n",
        "        img_size = cfg.pop('img_size')\n",
        "        res = ResizingNetwork(img_size, cfg['in_chans'])\n",
        "    else:\n",
        "        img_size = 224\n",
        "        res = Identity()\n",
        "    body = timm.create_model(model_name, True, **cfg)\n",
        "    body = nn.Sequential(res, body)\n",
        "\n",
        "    ## head\n",
        "    nf = body(torch.randn((2,cfg['num_classes'],img_size,img_size))).shape[-1]\n",
        "    head = nn.Linear(nf, cfg['num_classes'])\n",
        "\n",
        "    model = nn.Sequential(body, head)\n",
        "\n",
        "    return model\n",
        "\n",
        "# model = create_timm_model(**{\n",
        "#     'arch':'swin_large_patch4_window7_224',\n",
        "#     'img_size':224,\n",
        "#     'in_chans' : 1, \n",
        "#     'num_classes' : 1,\n",
        "# })\n",
        "# m"
      ],
      "execution_count": 15,
      "outputs": [
        {
          "output_type": "stream",
          "text": [
            "Downloading: \"https://github.com/SwinTransformer/storage/releases/download/v1.0.0/swin_large_patch4_window7_224_22kto1k.pth\" to /root/.cache/torch/hub/checkpoints/swin_large_patch4_window7_224_22kto1k.pth\n"
          ],
          "name": "stderr"
        }
      ]
    },
    {
      "cell_type": "code",
      "metadata": {
        "id": "sKbLds1Z31AO"
      },
      "source": [
        "class SaveAndLogBestModel(SaveModelCallback):\n",
        "\n",
        "    def __init__(self, mon='valid_loss', **kwargs):\n",
        "        super().__init__(monitor = mon, fname = mon, **kwargs)\n",
        "\n",
        "    def _save(self, name): \n",
        "        self.last_saved_path = self.learn.save(name, with_opt=self.with_opt)\n",
        "        self.model_path = Path(*list(self.last_saved_path.parts[:-1])) / (self.fname + '.pth')\n",
        "        self.metadata = {n:s for n,s in zip(self.recorder.metric_names, self.recorder.log) if n not in ['time']}\n",
        "\n",
        "    def after_fit(self, **kwargs):\n",
        "        metadata = self.metadata\n",
        "        for k,v in metadata.items(): metadata[k] = str(v)\n",
        "        name = f'run_{wandb.run.id}_model'\n",
        "        artifact_model = wandb.Artifact(name=name, type='model', metadata=metadata, description='trained model')\n",
        "        with artifact_model.new_file(name, mode='wb') as fa:\n",
        "            fa.write(self.model_path.read_bytes())\n",
        "        wandb.run.log_artifact(artifact_model, aliases = [f'best {self.fname}', f'epoch {metadata[\"epoch\"]}'])"
      ],
      "execution_count": 9,
      "outputs": []
    },
    {
      "cell_type": "code",
      "metadata": {
        "id": "3Kvqi8Eg5YlQ"
      },
      "source": [
        "class wandb_learner():\n",
        "\n",
        "    def __init__(self, df, **config):\n",
        "\n",
        "        cbs = []\n",
        "        if config['Fit']['n_epoch'] < 1:\n",
        "            df = df.sample(frac=config['Fit']['n_epoch']).reset_index(drop=True)\n",
        "            config['Fit']['n_epoch'] = 1\n",
        "            \n",
        "        self.df = df\n",
        "        self.config = config\n",
        "\n",
        "        self.dls = get_dls(df, **config['Dataloader'])\n",
        "        self.model = create_timm_model(**config['Model'])\n",
        "        self.learn = Learner(self.dls, self.model, **config['Learner']).add_cbs(cbs)\n",
        "\n",
        "        self.scheduler = self.config['Fit'].pop('scheduler')\n",
        "        self.wandb_config = self.config.pop('WandB')\n",
        "\n",
        "    def unfrozen_count(self):\n",
        "        return sum([np.prod(p.size()) for p in filter(lambda p: p.requires_grad, self.model.parameters())])\n",
        "\n",
        "    def fit(self):\n",
        "\n",
        "        if self.scheduler == 'fine_tune':\n",
        "\n",
        "            lr_max  = self.config['Fit'].pop('lr_max')\n",
        "            n_epoch = self.config['Fit'].pop('n_epoch')\n",
        "            freeze_lr = self.config['Fit'].pop('freeze_lr')\n",
        "            freeze_epochs = self.config['Fit'].pop('freeze_epochs')\n",
        "            lr_mult = self.config['Fit'].pop('lr_mult')\n",
        "            lr = slice(lr_max/lr_mult, lr_max)\n",
        "\n",
        "            self.learn.freeze()\n",
        "            print(f'Training {self.unfrozen_count()} parameters ...')\n",
        "            self.learn.fit_one_cycle(freeze_epochs, slice(freeze_lr), pct_start=0.99, **self.config['Fit'])\n",
        "\n",
        "            self.learn.unfreeze()\n",
        "            print(f'Training {self.unfrozen_count()} parameters ...')\n",
        "            self.learn.fit_one_cycle(n_epoch - freeze_epochs, lr, pct_start=0.3, div=5.0, **self.config['Fit'])    \n",
        "            \n",
        "            self.config['Fit']['lr_max'] = lr_max\n",
        "            self.config['Fit']['n_epoch'] = n_epoch\n",
        "            self.config['Fit']['freeze_lr'] = freeze_lr\n",
        "            self.config['Fit']['freeze_epochs'] = freeze_epochs\n",
        "            self.config['Fit']['lr_mult'] = lr_mult\n",
        "            \n",
        "        elif self.scheduler == 'one_cycle': \n",
        "          print(f'Training {self.unfrozen_count()} parameters ...')\n",
        "          self.learn.fit_one_cycle(**self.config['Fit'])\n",
        "\n",
        "        elif self.scheduler == 'cossine': print('not implemented')\n",
        "\n",
        "        elif self.scheduler == 'reduce_on_plateau': print('not implemented')\n",
        "\n",
        "        else: self.learn.fit(**self.config['Fit'])\n",
        "\n",
        "    def wandb_fit(self):\n",
        "        \n",
        "        with wandb.init(config = self.config, **self.wandb_config) as run:\n",
        "            self.learn.add_cb(WandbCallback(log=None, log_preds=False, log_model=False))\n",
        "            self.learn.add_cb(SaveAndLogBestModel())\n",
        "            self.fit()"
      ],
      "execution_count": 12,
      "outputs": []
    },
    {
      "cell_type": "code",
      "metadata": {
        "id": "GA7DOtU38Pih",
        "colab": {
          "base_uri": "https://localhost:8080/",
          "height": 482
        },
        "outputId": "cfad322e-fa8f-4600-f846-46b9cc541c7e"
      },
      "source": [
        "CFG = {\n",
        "    'WandB' : {\n",
        "        'project' : 'Seti V1',\n",
        "        'tags': ['transformer', 'BASELINE', 'RESIZE'],\n",
        "        'notes':\n",
        "        \"\"\"\n",
        "        \"\"\",\n",
        "    },\n",
        "    'Dataloader' : {\n",
        "        'bs' : 8,\n",
        "        'fold' : 0, \n",
        "    },\n",
        "    'Model' : {\n",
        "        'arch':'swin_large_patch4_window7_224',\n",
        "        'img_size':224,\n",
        "        'in_chans' : 1, \n",
        "        'num_classes' : 1,\n",
        "    },\n",
        "    'Learner' : {\n",
        "        'loss_func' : BCEWithLogitsLossFlat(),\n",
        "        'metrics' : RocAucMulti(),\n",
        "        'cbs' : [\n",
        "                #  GradientAccumulation(8192//8),\n",
        "                #  MixUp()\n",
        "                ],\n",
        "        'splitter' : default_split\n",
        "      },\n",
        "    'Fit' : {\n",
        "        'scheduler' : 'fine_tune',\n",
        "        'lr_max' : 0.001,\n",
        "        'n_epoch' : 10,\n",
        "        'freeze_lr' : 0.002,\n",
        "        'freeze_epochs' : 2,\n",
        "        'lr_mult' : 100,\n",
        "    }\n",
        "}\n",
        "\n",
        "learn = wandb_learner(train_df, **CFG)\n",
        "# learn.learn.lr_find()\n",
        "learn.wandb_fit()\n",
        "# learn.fit()"
      ],
      "execution_count": null,
      "outputs": [
        {
          "output_type": "display_data",
          "data": {
            "application/javascript": [
              "\n",
              "        window._wandbApiKey = new Promise((resolve, reject) => {\n",
              "            function loadScript(url) {\n",
              "            return new Promise(function(resolve, reject) {\n",
              "                let newScript = document.createElement(\"script\");\n",
              "                newScript.onerror = reject;\n",
              "                newScript.onload = resolve;\n",
              "                document.body.appendChild(newScript);\n",
              "                newScript.src = url;\n",
              "            });\n",
              "            }\n",
              "            loadScript(\"https://cdn.jsdelivr.net/npm/postmate/build/postmate.min.js\").then(() => {\n",
              "            const iframe = document.createElement('iframe')\n",
              "            iframe.style.cssText = \"width:0;height:0;border:none\"\n",
              "            document.body.appendChild(iframe)\n",
              "            const handshake = new Postmate({\n",
              "                container: iframe,\n",
              "                url: 'https://wandb.ai/authorize'\n",
              "            });\n",
              "            const timeout = setTimeout(() => reject(\"Couldn't auto authenticate\"), 5000)\n",
              "            handshake.then(function(child) {\n",
              "                child.on('authorize', data => {\n",
              "                    clearTimeout(timeout)\n",
              "                    resolve(data)\n",
              "                });\n",
              "            });\n",
              "            })\n",
              "        });\n",
              "    "
            ],
            "text/plain": [
              "<IPython.core.display.Javascript object>"
            ]
          },
          "metadata": {
            "tags": []
          }
        },
        {
          "output_type": "stream",
          "text": [
            "\u001b[34m\u001b[1mwandb\u001b[0m: You can find your API key in your browser here: https://wandb.ai/authorize\n"
          ],
          "name": "stderr"
        },
        {
          "output_type": "stream",
          "text": [
            "wandb: Paste an API key from your profile and hit enter: ··········\n"
          ],
          "name": "stdout"
        },
        {
          "output_type": "stream",
          "text": [
            "\u001b[34m\u001b[1mwandb\u001b[0m: Appending key for api.wandb.ai to your netrc file: /root/.netrc\n"
          ],
          "name": "stderr"
        },
        {
          "output_type": "display_data",
          "data": {
            "text/html": [
              "\n",
              "                Tracking run with wandb version 0.12.0<br/>\n",
              "                Syncing run <strong style=\"color:#cdcd00\">legendary-hill-114</strong> to <a href=\"https://wandb.ai\" target=\"_blank\">Weights & Biases</a> <a href=\"https://docs.wandb.com/integrations/jupyter.html\" target=\"_blank\">(Documentation)</a>.<br/>\n",
              "                Project page: <a href=\"https://wandb.ai/coldfir3/Seti%20V1\" target=\"_blank\">https://wandb.ai/coldfir3/Seti%20V1</a><br/>\n",
              "                Run page: <a href=\"https://wandb.ai/coldfir3/Seti%20V1/runs/3q5919qc\" target=\"_blank\">https://wandb.ai/coldfir3/Seti%20V1/runs/3q5919qc</a><br/>\n",
              "                Run data is saved locally in <code>/content/wandb/run-20210814_222257-3q5919qc</code><br/><br/>\n",
              "            "
            ],
            "text/plain": [
              "<IPython.core.display.HTML object>"
            ]
          },
          "metadata": {
            "tags": []
          }
        },
        {
          "output_type": "stream",
          "text": [
            "Training 86530 parameters ...\n"
          ],
          "name": "stdout"
        },
        {
          "output_type": "display_data",
          "data": {
            "text/html": [
              "<table border=\"1\" class=\"dataframe\">\n",
              "  <thead>\n",
              "    <tr style=\"text-align: left;\">\n",
              "      <th>epoch</th>\n",
              "      <th>train_loss</th>\n",
              "      <th>valid_loss</th>\n",
              "      <th>roc_auc_score</th>\n",
              "      <th>time</th>\n",
              "    </tr>\n",
              "  </thead>\n",
              "  <tbody>\n",
              "    <tr>\n",
              "      <td>0</td>\n",
              "      <td>0.374589</td>\n",
              "      <td>0.326676</td>\n",
              "      <td>0.525576</td>\n",
              "      <td>34:32</td>\n",
              "    </tr>\n",
              "    <tr>\n",
              "      <td>1</td>\n",
              "      <td>0.275200</td>\n",
              "      <td>0.273696</td>\n",
              "      <td>0.730849</td>\n",
              "      <td>34:31</td>\n",
              "    </tr>\n",
              "  </tbody>\n",
              "</table>"
            ],
            "text/plain": [
              "<IPython.core.display.HTML object>"
            ]
          },
          "metadata": {
            "tags": []
          }
        },
        {
          "output_type": "stream",
          "text": [
            "Better model found at epoch 0 with valid_loss value: 0.32667604088783264.\n",
            "Better model found at epoch 1 with valid_loss value: 0.2736964523792267.\n",
            "Training 194999816 parameters ...\n"
          ],
          "name": "stdout"
        },
        {
          "output_type": "display_data",
          "data": {
            "text/html": [
              "\n",
              "    <div>\n",
              "        <style>\n",
              "            /* Turns off some styling */\n",
              "            progress {\n",
              "                /* gets rid of default border in Firefox and Opera. */\n",
              "                border: none;\n",
              "                /* Needs to be in here for Safari polyfill so background images work as expected. */\n",
              "                background-size: auto;\n",
              "            }\n",
              "            .progress-bar-interrupted, .progress-bar-interrupted::-webkit-progress-bar {\n",
              "                background: #F44336;\n",
              "            }\n",
              "        </style>\n",
              "      <progress value='1' class='' max='8' style='width:300px; height:20px; vertical-align: middle;'></progress>\n",
              "      12.50% [1/8 49:28<5:46:20]\n",
              "    </div>\n",
              "    \n",
              "<table border=\"1\" class=\"dataframe\">\n",
              "  <thead>\n",
              "    <tr style=\"text-align: left;\">\n",
              "      <th>epoch</th>\n",
              "      <th>train_loss</th>\n",
              "      <th>valid_loss</th>\n",
              "      <th>roc_auc_score</th>\n",
              "      <th>time</th>\n",
              "    </tr>\n",
              "  </thead>\n",
              "  <tbody>\n",
              "    <tr>\n",
              "      <td>0</td>\n",
              "      <td>0.193280</td>\n",
              "      <td>0.242515</td>\n",
              "      <td>0.778970</td>\n",
              "      <td>49:26</td>\n",
              "    </tr>\n",
              "  </tbody>\n",
              "</table><p>\n",
              "\n",
              "    <div>\n",
              "        <style>\n",
              "            /* Turns off some styling */\n",
              "            progress {\n",
              "                /* gets rid of default border in Firefox and Opera. */\n",
              "                border: none;\n",
              "                /* Needs to be in here for Safari polyfill so background images work as expected. */\n",
              "                background-size: auto;\n",
              "            }\n",
              "            .progress-bar-interrupted, .progress-bar-interrupted::-webkit-progress-bar {\n",
              "                background: #F44336;\n",
              "            }\n",
              "        </style>\n",
              "      <progress value='5362' class='' max='6250' style='width:300px; height:20px; vertical-align: middle;'></progress>\n",
              "      85.79% [5362/6250 39:52<06:36 0.1669]\n",
              "    </div>\n",
              "    "
            ],
            "text/plain": [
              "<IPython.core.display.HTML object>"
            ]
          },
          "metadata": {
            "tags": []
          }
        },
        {
          "output_type": "stream",
          "text": [
            "Better model found at epoch 0 with valid_loss value: 0.24251486361026764.\n"
          ],
          "name": "stdout"
        }
      ]
    },
    {
      "cell_type": "code",
      "metadata": {
        "id": "DWDMhwozMa0i"
      },
      "source": [
        ""
      ],
      "execution_count": null,
      "outputs": []
    }
  ]
}
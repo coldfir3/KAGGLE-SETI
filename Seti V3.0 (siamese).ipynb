{
  "nbformat": 4,
  "nbformat_minor": 0,
  "metadata": {
    "accelerator": "GPU",
    "colab": {
      "name": "Seti V3.0 (siamese).ipynb",
      "provenance": [],
      "collapsed_sections": [],
      "authorship_tag": "ABX9TyNiQSmiamTvIO5hG+ejR6ng",
      "include_colab_link": true
    },
    "kernelspec": {
      "display_name": "Python 3",
      "name": "python3"
    },
    "language_info": {
      "name": "python"
    }
  },
  "cells": [
    {
      "cell_type": "markdown",
      "metadata": {
        "id": "view-in-github",
        "colab_type": "text"
      },
      "source": [
        "<a href=\"https://colab.research.google.com/github/coldfir3/KAGGLE-SETI/blob/main/Seti%20V3.0%20(siamese).ipynb\" target=\"_parent\"><img src=\"https://colab.research.google.com/assets/colab-badge.svg\" alt=\"Open In Colab\"/></a>"
      ]
    },
    {
      "cell_type": "markdown",
      "metadata": {
        "id": "g_ie26T9NjC1"
      },
      "source": [
        "## Initial Setup"
      ]
    },
    {
      "cell_type": "code",
      "metadata": {
        "id": "TG1UcdQLNV_X",
        "colab": {
          "base_uri": "https://localhost:8080/"
        },
        "outputId": "dc1f180c-6dc2-486d-b46c-90c56c64e063"
      },
      "source": [
        "import sys\n",
        "import os\n",
        "is_colab = 'google.colab' in sys.modules\n",
        "!nvidia-smi"
      ],
      "execution_count": 1,
      "outputs": [
        {
          "output_type": "stream",
          "text": [
            "Mon Aug 16 00:10:16 2021       \n",
            "+-----------------------------------------------------------------------------+\n",
            "| NVIDIA-SMI 470.42.01    Driver Version: 460.32.03    CUDA Version: 11.2     |\n",
            "|-------------------------------+----------------------+----------------------+\n",
            "| GPU  Name        Persistence-M| Bus-Id        Disp.A | Volatile Uncorr. ECC |\n",
            "| Fan  Temp  Perf  Pwr:Usage/Cap|         Memory-Usage | GPU-Util  Compute M. |\n",
            "|                               |                      |               MIG M. |\n",
            "|===============================+======================+======================|\n",
            "|   0  Tesla P100-PCIE...  Off  | 00000000:00:04.0 Off |                    0 |\n",
            "| N/A   52C    P0    30W / 250W |      0MiB / 16280MiB |      0%      Default |\n",
            "|                               |                      |                  N/A |\n",
            "+-------------------------------+----------------------+----------------------+\n",
            "                                                                               \n",
            "+-----------------------------------------------------------------------------+\n",
            "| Processes:                                                                  |\n",
            "|  GPU   GI   CI        PID   Type   Process name                  GPU Memory |\n",
            "|        ID   ID                                                   Usage      |\n",
            "|=============================================================================|\n",
            "|  No running processes found                                                 |\n",
            "+-----------------------------------------------------------------------------+\n"
          ],
          "name": "stdout"
        }
      ]
    },
    {
      "cell_type": "markdown",
      "metadata": {
        "id": "67MUjz6-Nm6G"
      },
      "source": [
        "### Installing packages"
      ]
    },
    {
      "cell_type": "code",
      "metadata": {
        "id": "uQMtm6YEtMwg"
      },
      "source": [
        "if is_colab:\n",
        "    !pip install -Uqqq wandb\n",
        "    !pip install -Uqqq fastai\n",
        "    !pip install -Uqqq timm"
      ],
      "execution_count": 2,
      "outputs": []
    },
    {
      "cell_type": "markdown",
      "metadata": {
        "id": "aFs1gKxXNt1K"
      },
      "source": [
        "### Loading packages"
      ]
    },
    {
      "cell_type": "code",
      "metadata": {
        "id": "GfaReODVtOU0"
      },
      "source": [
        "from fastai.vision.all import *\n",
        "import wandb\n",
        "from fastai.callback.wandb import *\n",
        "from argparse import Namespace\n",
        "import timm"
      ],
      "execution_count": 3,
      "outputs": []
    },
    {
      "cell_type": "markdown",
      "metadata": {
        "id": "0HDbko4QJMoA"
      },
      "source": [
        "### Downloading data\n",
        "\n"
      ]
    },
    {
      "cell_type": "code",
      "metadata": {
        "id": "b5f5KDhnr1x2"
      },
      "source": [
        "wandb.Api()\n",
        "if is_colab:\n",
        "\n",
        "    from google.colab import drive\n",
        "    from os.path import exists\n",
        "\n",
        "    if not exists('/content/drive'):\n",
        "        drive.mount('/content/drive')\n",
        "    %run '/content/drive/MyDrive/Kaggle/My Kaggle [colab].ipynb'\n",
        "\n",
        "    if not exists('/content/train/'):\n",
        "        setup_kaggle()\n",
        "        get_kaggle_data('d', 'coldfir3/setispatialdatasetv2-off')\n",
        "        get_kaggle_data('d', 'coldfir3/seti-spatial-dataset-v2')\n",
        "        ! kaggle competitions download -c seti-breakthrough-listen -f train_labels.csv"
      ],
      "execution_count": 4,
      "outputs": []
    },
    {
      "cell_type": "markdown",
      "metadata": {
        "id": "HYcpcs_qzYy6"
      },
      "source": [
        "## Setting up the DataFrames"
      ]
    },
    {
      "cell_type": "code",
      "metadata": {
        "colab": {
          "base_uri": "https://localhost:8080/",
          "height": 423
        },
        "id": "crhElQyIs9qe",
        "outputId": "358371b5-a5d8-42e8-c3be-742fcfc9cc3d"
      },
      "source": [
        "from sklearn.model_selection import StratifiedKFold\n",
        "if is_colab: \n",
        "    base_path = '/content/train/'\n",
        "    train_df = pd.read_csv('/content/train_labels.csv.zip')\n",
        "else:\n",
        "    pass\n",
        "    # train_study = pd.read_csv('/media/passos/Data/DSET/siim-covid19-detection/train_study_level.csv')\n",
        "\n",
        "train_df['fold'] = -1\n",
        "train_df['path'] = train_df['id'].apply(lambda x: base_path + x + '.png')\n",
        "train_df['path_off'] = train_df['id'].apply(lambda x: base_path[:-1] + '_off/' + x + '.png')\n",
        "skf = StratifiedKFold(n_splits = 6, random_state = 42, shuffle = True)\n",
        "for fold, (train_index, test_index) in enumerate(skf.split(train_df['id'], train_df['target'])):\n",
        "    train_df.loc[test_index, 'fold'] = fold\n",
        "train_df"
      ],
      "execution_count": 5,
      "outputs": [
        {
          "output_type": "execute_result",
          "data": {
            "text/html": [
              "<div>\n",
              "<style scoped>\n",
              "    .dataframe tbody tr th:only-of-type {\n",
              "        vertical-align: middle;\n",
              "    }\n",
              "\n",
              "    .dataframe tbody tr th {\n",
              "        vertical-align: top;\n",
              "    }\n",
              "\n",
              "    .dataframe thead th {\n",
              "        text-align: right;\n",
              "    }\n",
              "</style>\n",
              "<table border=\"1\" class=\"dataframe\">\n",
              "  <thead>\n",
              "    <tr style=\"text-align: right;\">\n",
              "      <th></th>\n",
              "      <th>id</th>\n",
              "      <th>target</th>\n",
              "      <th>fold</th>\n",
              "      <th>path</th>\n",
              "      <th>path_off</th>\n",
              "    </tr>\n",
              "  </thead>\n",
              "  <tbody>\n",
              "    <tr>\n",
              "      <th>0</th>\n",
              "      <td>0000799a2b2c42d</td>\n",
              "      <td>0</td>\n",
              "      <td>3</td>\n",
              "      <td>/content/train/0000799a2b2c42d.png</td>\n",
              "      <td>/content/train_off/0000799a2b2c42d.png</td>\n",
              "    </tr>\n",
              "    <tr>\n",
              "      <th>1</th>\n",
              "      <td>00042890562ff68</td>\n",
              "      <td>0</td>\n",
              "      <td>3</td>\n",
              "      <td>/content/train/00042890562ff68.png</td>\n",
              "      <td>/content/train_off/00042890562ff68.png</td>\n",
              "    </tr>\n",
              "    <tr>\n",
              "      <th>2</th>\n",
              "      <td>0005364cdcb8e5b</td>\n",
              "      <td>0</td>\n",
              "      <td>4</td>\n",
              "      <td>/content/train/0005364cdcb8e5b.png</td>\n",
              "      <td>/content/train_off/0005364cdcb8e5b.png</td>\n",
              "    </tr>\n",
              "    <tr>\n",
              "      <th>3</th>\n",
              "      <td>0007a5a46901c56</td>\n",
              "      <td>0</td>\n",
              "      <td>3</td>\n",
              "      <td>/content/train/0007a5a46901c56.png</td>\n",
              "      <td>/content/train_off/0007a5a46901c56.png</td>\n",
              "    </tr>\n",
              "    <tr>\n",
              "      <th>4</th>\n",
              "      <td>0009283e145448e</td>\n",
              "      <td>0</td>\n",
              "      <td>3</td>\n",
              "      <td>/content/train/0009283e145448e.png</td>\n",
              "      <td>/content/train_off/0009283e145448e.png</td>\n",
              "    </tr>\n",
              "    <tr>\n",
              "      <th>...</th>\n",
              "      <td>...</td>\n",
              "      <td>...</td>\n",
              "      <td>...</td>\n",
              "      <td>...</td>\n",
              "      <td>...</td>\n",
              "    </tr>\n",
              "    <tr>\n",
              "      <th>59995</th>\n",
              "      <td>fff8217fe05aba3</td>\n",
              "      <td>0</td>\n",
              "      <td>4</td>\n",
              "      <td>/content/train/fff8217fe05aba3.png</td>\n",
              "      <td>/content/train_off/fff8217fe05aba3.png</td>\n",
              "    </tr>\n",
              "    <tr>\n",
              "      <th>59996</th>\n",
              "      <td>fffa939e610ed70</td>\n",
              "      <td>0</td>\n",
              "      <td>4</td>\n",
              "      <td>/content/train/fffa939e610ed70.png</td>\n",
              "      <td>/content/train_off/fffa939e610ed70.png</td>\n",
              "    </tr>\n",
              "    <tr>\n",
              "      <th>59997</th>\n",
              "      <td>fffbb1c9c3d6c31</td>\n",
              "      <td>1</td>\n",
              "      <td>5</td>\n",
              "      <td>/content/train/fffbb1c9c3d6c31.png</td>\n",
              "      <td>/content/train_off/fffbb1c9c3d6c31.png</td>\n",
              "    </tr>\n",
              "    <tr>\n",
              "      <th>59998</th>\n",
              "      <td>fffc9a763d23647</td>\n",
              "      <td>0</td>\n",
              "      <td>0</td>\n",
              "      <td>/content/train/fffc9a763d23647.png</td>\n",
              "      <td>/content/train_off/fffc9a763d23647.png</td>\n",
              "    </tr>\n",
              "    <tr>\n",
              "      <th>59999</th>\n",
              "      <td>ffff0a799efa529</td>\n",
              "      <td>0</td>\n",
              "      <td>1</td>\n",
              "      <td>/content/train/ffff0a799efa529.png</td>\n",
              "      <td>/content/train_off/ffff0a799efa529.png</td>\n",
              "    </tr>\n",
              "  </tbody>\n",
              "</table>\n",
              "<p>60000 rows × 5 columns</p>\n",
              "</div>"
            ],
            "text/plain": [
              "                    id  ...                                path_off\n",
              "0      0000799a2b2c42d  ...  /content/train_off/0000799a2b2c42d.png\n",
              "1      00042890562ff68  ...  /content/train_off/00042890562ff68.png\n",
              "2      0005364cdcb8e5b  ...  /content/train_off/0005364cdcb8e5b.png\n",
              "3      0007a5a46901c56  ...  /content/train_off/0007a5a46901c56.png\n",
              "4      0009283e145448e  ...  /content/train_off/0009283e145448e.png\n",
              "...                ...  ...                                     ...\n",
              "59995  fff8217fe05aba3  ...  /content/train_off/fff8217fe05aba3.png\n",
              "59996  fffa939e610ed70  ...  /content/train_off/fffa939e610ed70.png\n",
              "59997  fffbb1c9c3d6c31  ...  /content/train_off/fffbb1c9c3d6c31.png\n",
              "59998  fffc9a763d23647  ...  /content/train_off/fffc9a763d23647.png\n",
              "59999  ffff0a799efa529  ...  /content/train_off/ffff0a799efa529.png\n",
              "\n",
              "[60000 rows x 5 columns]"
            ]
          },
          "metadata": {
            "tags": []
          },
          "execution_count": 5
        }
      ]
    },
    {
      "cell_type": "markdown",
      "metadata": {
        "id": "fNzjXdp3zzA9"
      },
      "source": [
        "## DataBlock & DataLoader"
      ]
    },
    {
      "cell_type": "code",
      "metadata": {
        "id": "J5eTU2ixdIZw"
      },
      "source": [
        "class ImageTuple(fastuple):\n",
        "    @classmethod\n",
        "    def create(cls, fns): return cls(tuple(PILImageBW.create(f) for f in fns))\n",
        "    \n",
        "    def show(self, ctx=None, **kwargs): \n",
        "        t1,t2 = self\n",
        "        if not isinstance(t1, Tensor) or not isinstance(t2, Tensor) or t1.shape != t2.shape: return ctx\n",
        "        line = t1.new_zeros(t1.shape[0], 10, t1.shape[2])\n",
        "        return show_image(torch.cat([t1,line,t2], dim=1), ctx=ctx, **kwargs)\n",
        "\n",
        "def ImageTupleBlock(): return TransformBlock(type_tfms=ImageTuple.create, batch_tfms=IntToFloatTensor)\n",
        "\n",
        "@typedispatch\n",
        "def show_batch(x:ImageTuple, y, samples, ctxs=None, max_n=6, nrows=None, ncols=2, figsize=None, **kwargs):\n",
        "    if figsize is None: figsize = (ncols*6, max_n//ncols * 3)\n",
        "    if ctxs is None: ctxs = get_grid(min(len(samples), max_n), nrows=nrows, ncols=ncols, figsize=figsize)\n",
        "    ctxs = show_batch[object](x, y, samples, ctxs=ctxs, max_n=max_n, **kwargs)\n",
        "    return ctxs"
      ],
      "execution_count": 6,
      "outputs": []
    },
    {
      "cell_type": "code",
      "metadata": {
        "colab": {
          "base_uri": "https://localhost:8080/",
          "height": 209
        },
        "id": "Q3eqdfm2eBLj",
        "outputId": "221b5ad9-f3c7-49ba-dcac-7629fd4c1755"
      },
      "source": [
        "row = train_df[train_df['target'] == 1].iloc[0]\n",
        "img = ImageTuple.create((row['path'], row['path_off']))\n",
        "img = ToTensor()(img)\n",
        "img.show();"
      ],
      "execution_count": 7,
      "outputs": [
        {
          "output_type": "display_data",
          "data": {
            "image/png": "[encoded data removed]",
            "text/plain": [
              "<Figure size 360x360 with 1 Axes>"
            ]
          },
          "metadata": {
            "tags": [],
            "needs_background": "light"
          }
        }
      ]
    },
    {
      "cell_type": "code",
      "metadata": {
        "id": "Y7Rh7M003veY"
      },
      "source": [
        "import albumentations as A\n",
        "class AlbumentationsTransform(Transform):\n",
        "    split_idx = 0\n",
        "    def __init__(self, aug): self.aug = aug\n",
        "    def encodes(self, img: PILImage):\n",
        "        aug_img = self.aug(image=np.array(img))['image']\n",
        "        return PILImage.create(aug_img)\n",
        "tfms = A.Compose([\n",
        "        A.HorizontalFlip(p=.5),\n",
        "        A.VerticalFlip(p=.5),\n",
        "        A.ShiftScaleRotate(rotate_limit=0, p=.25),\n",
        "        A.MotionBlur(p=.2),\n",
        "        A.IAASharpen(p=.25)\n",
        "])"
      ],
      "execution_count": 8,
      "outputs": []
    },
    {
      "cell_type": "code",
      "metadata": {
        "id": "y7B2iqV2zUfi"
      },
      "source": [
        "def get_tuples(files): return [ColReader('path')(files), ColReader('path_off')(files)]\n",
        "def get_dls(df, **config):\n",
        "    is_colab = 'google.colab' in sys.modules\n",
        "    workers = 2 if is_colab else 10\n",
        "    splitter = IndexSplitter(df[df.fold == config['fold']].index)\n",
        "    return DataBlock(\n",
        "        blocks=(ImageTupleBlock, CategoryBlock),\n",
        "        splitter = splitter,\n",
        "        getters=[get_tuples, ColReader('target')],\n",
        "        item_tfms=AlbumentationsTransform(tfms),\n",
        "        batch_tfms=[Flip(), Normalize(mean = tensor(0.5), std = tensor(0.177))]\n",
        "        ).dataloaders(df, bs = config['bs'], num_workers = workers)\n",
        "\n",
        "dls = get_dls(train_df, **{'bs':8, 'fold':0})\n",
        "# dls.show_batch(figsize=(2,2))"
      ],
      "execution_count": 9,
      "outputs": []
    },
    {
      "cell_type": "code",
      "metadata": {
        "id": "A1XqAhSgrJur"
      },
      "source": [
        "# https://arxiv.org/pdf/2103.09950.pdf\n",
        "# https://github.com/yundaehyuck/Learning-to-resize-images-for-computer-vision-tasks/blob/main/resizing_network.ipynb\n",
        "\n",
        "class ResBlock(nn.Module):\n",
        "    def __init__(self,num_channels=16):\n",
        "        super(ResBlock,self).__init__()\n",
        "        \n",
        "        self.conv1 = nn.Conv2d(num_channels,num_channels,kernel_size=3,stride=1,padding=1)\n",
        "        self.bn1 = nn.BatchNorm2d(num_channels)\n",
        "        self.leakyrelu = nn.LeakyReLU(negative_slope=0.2,inplace=True)\n",
        "        \n",
        "        self.conv2 = nn.Conv2d(num_channels,num_channels,kernel_size=3,stride=1,padding=1)\n",
        "        self.bn2 = nn.BatchNorm2d(num_channels)\n",
        "    \n",
        "    def forward(self,x):\n",
        "        residual = x\n",
        "        \n",
        "        out = self.conv1(x)\n",
        "        out = self.bn1(out)\n",
        "        \n",
        "        out = self.leakyrelu(out)\n",
        "        \n",
        "        out = self.conv2(out)\n",
        "        out = self.bn2(out)\n",
        "        out += residual\n",
        "        \n",
        "        return out\n",
        "\n",
        "def make_block(r,n):\n",
        "    residual = []\n",
        "    \n",
        "    for i in range(r):\n",
        "        block = ResBlock(num_channels=n)\n",
        "        residual.append(block)\n",
        "    \n",
        "    return nn.Sequential(*residual)\n",
        "\n",
        "class ResizingNetwork(nn.Module):\n",
        "    def __init__(self, img_size, in_chans = 3, r=1, n=16):\n",
        "        super(ResizingNetwork, self).__init__()\n",
        "\n",
        "        self.img_size = img_size\n",
        "        \n",
        "        self.conv1 = nn.Conv2d(in_channels=in_chans,out_channels=n,kernel_size=7,stride=1,padding=3)\n",
        "        self.leakyrelu1 = nn.LeakyReLU(negative_slope=0.2,inplace=True)\n",
        "        \n",
        "        self.conv2 = nn.Conv2d(n,n,kernel_size=1,stride=1)\n",
        "        self.leakyrelu2 = nn.LeakyReLU(negative_slope=0.2,inplace=True)\n",
        "        self.bn1 = nn.BatchNorm2d(n)\n",
        "                \n",
        "        self.resblock = make_block(r,n)        \n",
        "        \n",
        "        self.conv3 = nn.Conv2d(n,n,kernel_size=3,stride=1,padding=1)\n",
        "        self.bn2 = nn.BatchNorm2d(n)\n",
        "        \n",
        "        self.conv4 = nn.Conv2d(n,out_channels=in_chans,kernel_size=7,stride=1,padding=3)\n",
        "        \n",
        "    def forward(self, x):\n",
        "        \n",
        "        residual = F.interpolate(x, size=(self.img_size, self.img_size), mode='bilinear', align_corners=False)\n",
        "        \n",
        "        out = self.conv1(x)\n",
        "        out = self.leakyrelu1(out)\n",
        "        \n",
        "        out = self.conv2(out)\n",
        "        out = self.leakyrelu2(out)\n",
        "        out = self.bn1(out)\n",
        "        \n",
        "        out_residual = F.interpolate(out, size=(self.img_size, self.img_size), mode='bilinear', align_corners=False)\n",
        "        \n",
        "        out = self.resblock(out_residual)\n",
        "        \n",
        "        out = self.conv3(out)\n",
        "        out = self.bn2(out)\n",
        "        out += out_residual\n",
        "        \n",
        "        out = self.conv4(out)\n",
        "        out += residual\n",
        "        \n",
        "        return out"
      ],
      "execution_count": 10,
      "outputs": []
    },
    {
      "cell_type": "code",
      "metadata": {
        "id": "wEKD8ny83UQN",
        "colab": {
          "base_uri": "https://localhost:8080/"
        },
        "outputId": "8d62202d-9ec0-4dd9-dd9c-965eb3e2248c"
      },
      "source": [
        "class SiameseModel(Module):\n",
        "    def __init__(self, encoder, head):\n",
        "        self.encoder,self.head = encoder,head\n",
        "    \n",
        "    def forward(self, x):\n",
        "        x1, x2 = x\n",
        "        ftrs = torch.cat([self.encoder(x1), self.encoder(x2)], dim=1)\n",
        "        return self.head(ftrs)\n",
        "\n",
        "def create_timm_model_siamese(**cfg):\n",
        "    model_name = cfg.pop('arch')\n",
        "    \n",
        "    if 'img_size' in cfg.keys():\n",
        "        img_size = cfg.pop('img_size')\n",
        "        res = ResizingNetwork(img_size, cfg['in_chans'])\n",
        "    else:\n",
        "        img_size = 224\n",
        "        res = Identity()\n",
        "    body = timm.create_model(model_name, True, num_classes = 0, **cfg)\n",
        "    body = nn.Sequential(res, body)\n",
        "\n",
        "    ## head\n",
        "    nf = body(torch.randn((2, cfg['in_chans'], img_size,img_size))).shape[-1]\n",
        "    # head = create_head(nf*2, 1, ps=0.5)\n",
        "    head = nn.Linear(2*nf, 1)\n",
        "\n",
        "    # SiameseModel(body)\n",
        "    model = SiameseModel(body, head)\n",
        "\n",
        "    return model\n",
        "\n",
        "model = create_timm_model_siamese(**{\n",
        "    # 'arch':'swin_large_patch4_window7_224',\n",
        "    'arch':'resnet18',\n",
        "    'img_size':224,\n",
        "    'in_chans' : 1, \n",
        "})\n",
        "# model\n",
        "# model(torch.randn(2,1,300,400), torch.randn(2,1,300,400))\n",
        "def siamese_splitter(model):\n",
        "    return [params(model.encoder), params(model.head)]"
      ],
      "execution_count": 11,
      "outputs": [
        {
          "output_type": "stream",
          "text": [
            "/usr/local/lib/python3.7/dist-packages/torch/nn/functional.py:718: UserWarning: Named tensors and all their associated APIs are an experimental feature and subject to change. Please do not use them for anything important until they are released as stable. (Triggered internally at  /pytorch/c10/core/TensorImpl.h:1156.)\n",
            "  return torch.max_pool2d(input, kernel_size, stride, padding, dilation, ceil_mode)\n"
          ],
          "name": "stderr"
        }
      ]
    },
    {
      "cell_type": "code",
      "metadata": {
        "id": "sKbLds1Z31AO"
      },
      "source": [
        "class SaveAndLogBestModel(SaveModelCallback):\n",
        "\n",
        "    def __init__(self, mon='valid_loss', **kwargs):\n",
        "        super().__init__(monitor = mon, fname = mon, **kwargs)\n",
        "\n",
        "    def _save(self, name): \n",
        "        self.last_saved_path = self.learn.save(name, with_opt=self.with_opt)\n",
        "        self.model_path = Path(*list(self.last_saved_path.parts[:-1])) / (self.fname + '.pth')\n",
        "        self.metadata = {n:s for n,s in zip(self.recorder.metric_names, self.recorder.log) if n not in ['time']}\n",
        "\n",
        "    def after_fit(self, **kwargs):\n",
        "        metadata = self.metadata\n",
        "        for k,v in metadata.items(): metadata[k] = str(v)\n",
        "        name = f'run_{wandb.run.id}_model'\n",
        "        artifact_model = wandb.Artifact(name=name, type='model', metadata=metadata, description='trained model')\n",
        "        with artifact_model.new_file(name, mode='wb') as fa:\n",
        "            fa.write(self.model_path.read_bytes())\n",
        "        wandb.run.log_artifact(artifact_model, aliases = [f'best {self.fname}', f'epoch {metadata[\"epoch\"]}'])"
      ],
      "execution_count": 12,
      "outputs": []
    },
    {
      "cell_type": "code",
      "metadata": {
        "id": "3Kvqi8Eg5YlQ"
      },
      "source": [
        "class wandb_learner():\n",
        "\n",
        "    def __init__(self, df, **config):\n",
        "\n",
        "        cbs = []\n",
        "        if config['Fit']['n_epoch'] < 1:\n",
        "            df = df.sample(frac=config['Fit']['n_epoch']).reset_index(drop=True)\n",
        "            config['Fit']['n_epoch'] = 1\n",
        "            \n",
        "        self.df = df\n",
        "        self.config = config\n",
        "\n",
        "        self.dls = get_dls(df, **config['Dataloader'])\n",
        "        self.model = create_timm_model_siamese(**config['Model'])\n",
        "        self.learn = Learner(self.dls, self.model, **config['Learner']).add_cbs(cbs)\n",
        "\n",
        "        self.scheduler = self.config['Fit'].pop('scheduler')\n",
        "        self.wandb_config = self.config.pop('WandB')\n",
        "\n",
        "    def unfrozen_count(self):\n",
        "        return sum([np.prod(p.size()) for p in filter(lambda p: p.requires_grad, self.model.parameters())])\n",
        "\n",
        "    def fit(self):\n",
        "\n",
        "        if self.scheduler == 'fine_tune':\n",
        "\n",
        "            lr_max  = self.config['Fit'].pop('lr_max')\n",
        "            n_epoch = self.config['Fit'].pop('n_epoch')\n",
        "            freeze_lr = self.config['Fit'].pop('freeze_lr')\n",
        "            freeze_epochs = self.config['Fit'].pop('freeze_epochs')\n",
        "            lr_mult = self.config['Fit'].pop('lr_mult')\n",
        "            lr = slice(lr_max/lr_mult, lr_max)\n",
        "\n",
        "            self.learn.freeze()\n",
        "            print(f'Training {self.unfrozen_count()} parameters ...')\n",
        "            self.learn.fit_one_cycle(freeze_epochs, slice(freeze_lr), pct_start=0.99, **self.config['Fit'])\n",
        "\n",
        "            self.learn.unfreeze()\n",
        "            print(f'Training {self.unfrozen_count()} parameters ...')\n",
        "            self.learn.fit_one_cycle(n_epoch - freeze_epochs, lr, pct_start=0.3, div=5.0, **self.config['Fit'])    \n",
        "            \n",
        "            self.config['Fit']['lr_max'] = lr_max\n",
        "            self.config['Fit']['n_epoch'] = n_epoch\n",
        "            self.config['Fit']['freeze_lr'] = freeze_lr\n",
        "            self.config['Fit']['freeze_epochs'] = freeze_epochs\n",
        "            self.config['Fit']['lr_mult'] = lr_mult\n",
        "            \n",
        "        elif self.scheduler == 'one_cycle': \n",
        "          print(f'Training {self.unfrozen_count()} parameters ...')\n",
        "          self.learn.fit_one_cycle(**self.config['Fit'])\n",
        "\n",
        "        elif self.scheduler == 'cossine': print('not implemented')\n",
        "\n",
        "        elif self.scheduler == 'reduce_on_plateau': print('not implemented')\n",
        "\n",
        "        else: self.learn.fit(**self.config['Fit'])\n",
        "\n",
        "    def wandb_fit(self):\n",
        "        \n",
        "        with wandb.init(config = self.config, **self.wandb_config) as run:\n",
        "            self.learn.add_cb(WandbCallback(log=None, log_preds=False, log_model=False))\n",
        "            self.learn.add_cb(SaveAndLogBestModel())\n",
        "            self.fit()"
      ],
      "execution_count": 13,
      "outputs": []
    },
    {
      "cell_type": "code",
      "metadata": {
        "id": "DWDMhwozMa0i",
        "colab": {
          "base_uri": "https://localhost:8080/",
          "height": 416
        },
        "outputId": "c21e8ab7-d34d-4aa2-e692-a6cf2036608f"
      },
      "source": [
        "CFG = {\n",
        "    'WandB' : {\n",
        "        'project' : 'Seti V1',\n",
        "        'tags': ['resnet', 'SIAMESE'],\n",
        "        'notes':\n",
        "        \"\"\"\n",
        "        \"\"\",\n",
        "    },\n",
        "    'Dataloader' : {\n",
        "        'bs' : 16,\n",
        "        'fold' : 0, \n",
        "    },\n",
        "    'Model' : {\n",
        "        'arch':'swin_tiny_patch4_window7_224',\n",
        "        'img_size':224,\n",
        "        'in_chans' : 1,\n",
        "    },\n",
        "    'Learner' : {\n",
        "        'loss_func' : BCEWithLogitsLossFlat(),\n",
        "        'metrics' : RocAucMulti(),\n",
        "        'cbs' : [\n",
        "                #  GradientAccumulation(8192//8),\n",
        "                #  MixUp()\n",
        "                ],\n",
        "        'splitter' : siamese_splitter\n",
        "      },\n",
        "    'Fit' : {\n",
        "        'scheduler' : 'fine_tune',\n",
        "        'lr_max' : 0.001,\n",
        "        'n_epoch' : 10,\n",
        "        'freeze_lr' : 0.002,\n",
        "        'freeze_epochs' : 1,\n",
        "        'lr_mult' : 100,\n",
        "    }\n",
        "}\n",
        "\n",
        "learn = wandb_learner(train_df, **CFG)\n",
        "# learn.learn.lr_find()\n",
        "learn.wandb_fit()\n",
        "# learn.fit()"
      ],
      "execution_count": null,
      "outputs": [
        {
          "output_type": "stream",
          "text": [
            "\u001b[34m\u001b[1mwandb\u001b[0m: Currently logged in as: \u001b[33mcoldfir3\u001b[0m (use `wandb login --relogin` to force relogin)\n"
          ],
          "name": "stderr"
        },
        {
          "output_type": "display_data",
          "data": {
            "text/html": [
              "\n",
              "                Tracking run with wandb version 0.12.0<br/>\n",
              "                Syncing run <strong style=\"color:#cdcd00\">magic-universe-125</strong> to <a href=\"https://wandb.ai\" target=\"_blank\">Weights & Biases</a> <a href=\"https://docs.wandb.com/integrations/jupyter.html\" target=\"_blank\">(Documentation)</a>.<br/>\n",
              "                Project page: <a href=\"https://wandb.ai/coldfir3/Seti%20V1\" target=\"_blank\">https://wandb.ai/coldfir3/Seti%20V1</a><br/>\n",
              "                Run page: <a href=\"https://wandb.ai/coldfir3/Seti%20V1/runs/dqujjezv\" target=\"_blank\">https://wandb.ai/coldfir3/Seti%20V1/runs/dqujjezv</a><br/>\n",
              "                Run data is saved locally in <code>/content/wandb/run-20210816_001056-dqujjezv</code><br/><br/>\n",
              "            "
            ],
            "text/plain": [
              "<IPython.core.display.HTML object>"
            ]
          },
          "metadata": {
            "tags": []
          }
        },
        {
          "output_type": "stream",
          "text": [
            "Training 26433 parameters ...\n",
            "Could not gather input dimensions\n"
          ],
          "name": "stdout"
        },
        {
          "output_type": "display_data",
          "data": {
            "text/html": [
              "<table border=\"1\" class=\"dataframe\">\n",
              "  <thead>\n",
              "    <tr style=\"text-align: left;\">\n",
              "      <th>epoch</th>\n",
              "      <th>train_loss</th>\n",
              "      <th>valid_loss</th>\n",
              "      <th>roc_auc_score</th>\n",
              "      <th>time</th>\n",
              "    </tr>\n",
              "  </thead>\n",
              "  <tbody>\n",
              "    <tr>\n",
              "      <td>0</td>\n",
              "      <td>0.335793</td>\n",
              "      <td>0.320907</td>\n",
              "      <td>0.569859</td>\n",
              "      <td>19:52</td>\n",
              "    </tr>\n",
              "  </tbody>\n",
              "</table>"
            ],
            "text/plain": [
              "<IPython.core.display.HTML object>"
            ]
          },
          "metadata": {
            "tags": []
          }
        },
        {
          "output_type": "stream",
          "text": [
            "Better model found at epoch 0 with valid_loss value: 0.3209066689014435.\n",
            "Training 27526764 parameters ...\n",
            "Could not gather input dimensions\n"
          ],
          "name": "stdout"
        },
        {
          "output_type": "display_data",
          "data": {
            "text/html": [
              "\n",
              "    <div>\n",
              "        <style>\n",
              "            /* Turns off some styling */\n",
              "            progress {\n",
              "                /* gets rid of default border in Firefox and Opera. */\n",
              "                border: none;\n",
              "                /* Needs to be in here for Safari polyfill so background images work as expected. */\n",
              "                background-size: auto;\n",
              "            }\n",
              "            .progress-bar-interrupted, .progress-bar-interrupted::-webkit-progress-bar {\n",
              "                background: #F44336;\n",
              "            }\n",
              "        </style>\n",
              "      <progress value='1' class='' max='9' style='width:300px; height:20px; vertical-align: middle;'></progress>\n",
              "      11.11% [1/9 26:47<3:34:21]\n",
              "    </div>\n",
              "    \n",
              "<table border=\"1\" class=\"dataframe\">\n",
              "  <thead>\n",
              "    <tr style=\"text-align: left;\">\n",
              "      <th>epoch</th>\n",
              "      <th>train_loss</th>\n",
              "      <th>valid_loss</th>\n",
              "      <th>roc_auc_score</th>\n",
              "      <th>time</th>\n",
              "    </tr>\n",
              "  </thead>\n",
              "  <tbody>\n",
              "    <tr>\n",
              "      <td>0</td>\n",
              "      <td>0.266015</td>\n",
              "      <td>0.248505</td>\n",
              "      <td>0.745249</td>\n",
              "      <td>26:47</td>\n",
              "    </tr>\n",
              "  </tbody>\n",
              "</table><p>\n",
              "\n",
              "    <div>\n",
              "        <style>\n",
              "            /* Turns off some styling */\n",
              "            progress {\n",
              "                /* gets rid of default border in Firefox and Opera. */\n",
              "                border: none;\n",
              "                /* Needs to be in here for Safari polyfill so background images work as expected. */\n",
              "                background-size: auto;\n",
              "            }\n",
              "            .progress-bar-interrupted, .progress-bar-interrupted::-webkit-progress-bar {\n",
              "                background: #F44336;\n",
              "            }\n",
              "        </style>\n",
              "      <progress value='1742' class='' max='3125' style='width:300px; height:20px; vertical-align: middle;'></progress>\n",
              "      55.74% [1742/3125 13:59<11:06 0.2750]\n",
              "    </div>\n",
              "    "
            ],
            "text/plain": [
              "<IPython.core.display.HTML object>"
            ]
          },
          "metadata": {
            "tags": []
          }
        },
        {
          "output_type": "stream",
          "text": [
            "Better model found at epoch 0 with valid_loss value: 0.24850483238697052.\n"
          ],
          "name": "stdout"
        }
      ]
    },
    {
      "cell_type": "code",
      "metadata": {
        "id": "GA7DOtU38Pih"
      },
      "source": [
        "CFG = {\n",
        "    'WandB' : {\n",
        "        'project' : 'Seti V1',\n",
        "        'tags': ['resnet', 'SIAMESE'],\n",
        "        'notes':\n",
        "        \"\"\"\n",
        "        \"\"\",\n",
        "    },\n",
        "    'Dataloader' : {\n",
        "        'bs' : 32,\n",
        "        'fold' : 0, \n",
        "    },\n",
        "    'Model' : {\n",
        "        'arch':'resnet18',\n",
        "        'img_size':224,\n",
        "        'in_chans' : 1,\n",
        "    },\n",
        "    'Learner' : {\n",
        "        'loss_func' : BCEWithLogitsLossFlat(),\n",
        "        'metrics' : RocAucMulti(),\n",
        "        'cbs' : [\n",
        "                #  GradientAccumulation(8192//8),\n",
        "                #  MixUp()\n",
        "                ],\n",
        "        'splitter' : siamese_splitter\n",
        "      },\n",
        "    'Fit' : {\n",
        "        'scheduler' : 'fine_tune',\n",
        "        'lr_max' : 0.001,\n",
        "        'n_epoch' : 10,\n",
        "        'freeze_lr' : 0.002,\n",
        "        'freeze_epochs' : 1,\n",
        "        'lr_mult' : 100,\n",
        "    }\n",
        "}\n",
        "\n",
        "# learn = wandb_learner(train_df, **CFG)\n",
        "# # learn.learn.lr_find()\n",
        "# learn.wandb_fit()\n",
        "# # learn.fit()"
      ],
      "execution_count": null,
      "outputs": []
    },
    {
      "cell_type": "code",
      "metadata": {
        "id": "IyGCamccN898"
      },
      "source": [
        ""
      ],
      "execution_count": null,
      "outputs": []
    }
  ]
}
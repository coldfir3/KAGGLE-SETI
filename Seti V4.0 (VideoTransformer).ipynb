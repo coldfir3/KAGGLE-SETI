{
  "nbformat": 4,
  "nbformat_minor": 0,
  "metadata": {
    "accelerator": "GPU",
    "colab": {
      "name": "Seti V4.0 (VideoTransformer).ipynb",
      "provenance": [],
      "collapsed_sections": [],
      "authorship_tag": "ABX9TyOQGmVUy6nxzHXMmtjQWUlC",
      "include_colab_link": true
    },
    "kernelspec": {
      "display_name": "Python 3",
      "name": "python3"
    },
    "language_info": {
      "name": "python"
    },
    "widgets": {
      "application/vnd.jupyter.widget-state+json": {
        "1f1a6df7109a49d58f8342016fbd11ec": {
          "model_module": "@jupyter-widgets/controls",
          "model_name": "VBoxModel",
          "model_module_version": "1.5.0",
          "state": {
            "_dom_classes": [],
            "_model_module": "@jupyter-widgets/controls",
            "_model_module_version": "1.5.0",
            "_model_name": "VBoxModel",
            "_view_count": null,
            "_view_module": "@jupyter-widgets/controls",
            "_view_module_version": "1.5.0",
            "_view_name": "VBoxView",
            "box_style": "",
            "children": [
              "IPY_MODEL_c09ddbba76aa4188ba2e0bcbd67e3d37",
              "IPY_MODEL_7c5a84ed7ee8401892ceaf6cd82bedea"
            ],
            "layout": "IPY_MODEL_9d660e714b02430c91eca3dd9108ba52"
          }
        },
        "c09ddbba76aa4188ba2e0bcbd67e3d37": {
          "model_module": "@jupyter-widgets/controls",
          "model_name": "LabelModel",
          "model_module_version": "1.5.0",
          "state": {
            "_dom_classes": [],
            "_model_module": "@jupyter-widgets/controls",
            "_model_module_version": "1.5.0",
            "_model_name": "LabelModel",
            "_view_count": null,
            "_view_module": "@jupyter-widgets/controls",
            "_view_module_version": "1.5.0",
            "_view_name": "LabelView",
            "description": "",
            "description_tooltip": null,
            "layout": "IPY_MODEL_dca2402a592a49e79bcbf5c52fabf60a",
            "placeholder": "​",
            "style": "IPY_MODEL_d9029c0e4ea14e0d811616511b53a727",
            "value": " 925.32MB of 925.32MB uploaded (0.00MB deduped)\r"
          }
        },
        "7c5a84ed7ee8401892ceaf6cd82bedea": {
          "model_module": "@jupyter-widgets/controls",
          "model_name": "FloatProgressModel",
          "model_module_version": "1.5.0",
          "state": {
            "_dom_classes": [],
            "_model_module": "@jupyter-widgets/controls",
            "_model_module_version": "1.5.0",
            "_model_name": "FloatProgressModel",
            "_view_count": null,
            "_view_module": "@jupyter-widgets/controls",
            "_view_module_version": "1.5.0",
            "_view_name": "ProgressView",
            "bar_style": "",
            "description": "",
            "description_tooltip": null,
            "layout": "IPY_MODEL_d87ed3ad78154e2db2dbb183d5e44c65",
            "max": 1,
            "min": 0,
            "orientation": "horizontal",
            "style": "IPY_MODEL_9cfea248e6e74d05a0773b0dc09e6fbe",
            "value": 1
          }
        },
        "9d660e714b02430c91eca3dd9108ba52": {
          "model_module": "@jupyter-widgets/base",
          "model_name": "LayoutModel",
          "model_module_version": "1.2.0",
          "state": {
            "_model_module": "@jupyter-widgets/base",
            "_model_module_version": "1.2.0",
            "_model_name": "LayoutModel",
            "_view_count": null,
            "_view_module": "@jupyter-widgets/base",
            "_view_module_version": "1.2.0",
            "_view_name": "LayoutView",
            "align_content": null,
            "align_items": null,
            "align_self": null,
            "border": null,
            "bottom": null,
            "display": null,
            "flex": null,
            "flex_flow": null,
            "grid_area": null,
            "grid_auto_columns": null,
            "grid_auto_flow": null,
            "grid_auto_rows": null,
            "grid_column": null,
            "grid_gap": null,
            "grid_row": null,
            "grid_template_areas": null,
            "grid_template_columns": null,
            "grid_template_rows": null,
            "height": null,
            "justify_content": null,
            "justify_items": null,
            "left": null,
            "margin": null,
            "max_height": null,
            "max_width": null,
            "min_height": null,
            "min_width": null,
            "object_fit": null,
            "object_position": null,
            "order": null,
            "overflow": null,
            "overflow_x": null,
            "overflow_y": null,
            "padding": null,
            "right": null,
            "top": null,
            "visibility": null,
            "width": null
          }
        },
        "dca2402a592a49e79bcbf5c52fabf60a": {
          "model_module": "@jupyter-widgets/base",
          "model_name": "LayoutModel",
          "model_module_version": "1.2.0",
          "state": {
            "_model_module": "@jupyter-widgets/base",
            "_model_module_version": "1.2.0",
            "_model_name": "LayoutModel",
            "_view_count": null,
            "_view_module": "@jupyter-widgets/base",
            "_view_module_version": "1.2.0",
            "_view_name": "LayoutView",
            "align_content": null,
            "align_items": null,
            "align_self": null,
            "border": null,
            "bottom": null,
            "display": null,
            "flex": null,
            "flex_flow": null,
            "grid_area": null,
            "grid_auto_columns": null,
            "grid_auto_flow": null,
            "grid_auto_rows": null,
            "grid_column": null,
            "grid_gap": null,
            "grid_row": null,
            "grid_template_areas": null,
            "grid_template_columns": null,
            "grid_template_rows": null,
            "height": null,
            "justify_content": null,
            "justify_items": null,
            "left": null,
            "margin": null,
            "max_height": null,
            "max_width": null,
            "min_height": null,
            "min_width": null,
            "object_fit": null,
            "object_position": null,
            "order": null,
            "overflow": null,
            "overflow_x": null,
            "overflow_y": null,
            "padding": null,
            "right": null,
            "top": null,
            "visibility": null,
            "width": null
          }
        },
        "d9029c0e4ea14e0d811616511b53a727": {
          "model_module": "@jupyter-widgets/controls",
          "model_name": "DescriptionStyleModel",
          "model_module_version": "1.5.0",
          "state": {
            "_model_module": "@jupyter-widgets/controls",
            "_model_module_version": "1.5.0",
            "_model_name": "DescriptionStyleModel",
            "_view_count": null,
            "_view_module": "@jupyter-widgets/base",
            "_view_module_version": "1.2.0",
            "_view_name": "StyleView",
            "description_width": ""
          }
        },
        "d87ed3ad78154e2db2dbb183d5e44c65": {
          "model_module": "@jupyter-widgets/base",
          "model_name": "LayoutModel",
          "model_module_version": "1.2.0",
          "state": {
            "_model_module": "@jupyter-widgets/base",
            "_model_module_version": "1.2.0",
            "_model_name": "LayoutModel",
            "_view_count": null,
            "_view_module": "@jupyter-widgets/base",
            "_view_module_version": "1.2.0",
            "_view_name": "LayoutView",
            "align_content": null,
            "align_items": null,
            "align_self": null,
            "border": null,
            "bottom": null,
            "display": null,
            "flex": null,
            "flex_flow": null,
            "grid_area": null,
            "grid_auto_columns": null,
            "grid_auto_flow": null,
            "grid_auto_rows": null,
            "grid_column": null,
            "grid_gap": null,
            "grid_row": null,
            "grid_template_areas": null,
            "grid_template_columns": null,
            "grid_template_rows": null,
            "height": null,
            "justify_content": null,
            "justify_items": null,
            "left": null,
            "margin": null,
            "max_height": null,
            "max_width": null,
            "min_height": null,
            "min_width": null,
            "object_fit": null,
            "object_position": null,
            "order": null,
            "overflow": null,
            "overflow_x": null,
            "overflow_y": null,
            "padding": null,
            "right": null,
            "top": null,
            "visibility": null,
            "width": null
          }
        },
        "9cfea248e6e74d05a0773b0dc09e6fbe": {
          "model_module": "@jupyter-widgets/controls",
          "model_name": "ProgressStyleModel",
          "model_module_version": "1.5.0",
          "state": {
            "_model_module": "@jupyter-widgets/controls",
            "_model_module_version": "1.5.0",
            "_model_name": "ProgressStyleModel",
            "_view_count": null,
            "_view_module": "@jupyter-widgets/base",
            "_view_module_version": "1.2.0",
            "_view_name": "StyleView",
            "bar_color": null,
            "description_width": ""
          }
        }
      }
    }
  },
  "cells": [
    {
      "cell_type": "markdown",
      "metadata": {
        "id": "view-in-github",
        "colab_type": "text"
      },
      "source": [
        "<a href=\"https://colab.research.google.com/github/coldfir3/KAGGLE-SETI/blob/main/Seti%20V4.0%20(VideoTransformer).ipynb\" target=\"_parent\"><img src=\"https://colab.research.google.com/assets/colab-badge.svg\" alt=\"Open In Colab\"/></a>"
      ]
    },
    {
      "cell_type": "markdown",
      "metadata": {
        "id": "g_ie26T9NjC1"
      },
      "source": [
        "## Initial Setup"
      ]
    },
    {
      "cell_type": "code",
      "metadata": {
        "id": "TG1UcdQLNV_X",
        "colab": {
          "base_uri": "https://localhost:8080/"
        },
        "outputId": "cbb174e0-3373-4dee-d99e-ff41a4fa9264"
      },
      "source": [
        "import sys\n",
        "import os\n",
        "is_colab = 'google.colab' in sys.modules\n",
        "!nvidia-smi"
      ],
      "execution_count": 1,
      "outputs": [
        {
          "output_type": "stream",
          "text": [
            "Mon Aug 16 01:42:04 2021       \r\n",
            "+-----------------------------------------------------------------------------+\r\n",
            "| NVIDIA-SMI 460.91.03    Driver Version: 460.91.03    CUDA Version: 11.2     |\r\n",
            "|-------------------------------+----------------------+----------------------+\r\n",
            "| GPU  Name        Persistence-M| Bus-Id        Disp.A | Volatile Uncorr. ECC |\r\n",
            "| Fan  Temp  Perf  Pwr:Usage/Cap|         Memory-Usage | GPU-Util  Compute M. |\r\n",
            "|                               |                      |               MIG M. |\r\n",
            "|===============================+======================+======================|\r\n",
            "|   0  GeForce RTX 208...  Off  | 00000000:0A:00.0  On |                  N/A |\r\n",
            "| 44%   51C    P8    37W / 260W |    686MiB / 10997MiB |      7%      Default |\r\n",
            "|                               |                      |                  N/A |\r\n",
            "+-------------------------------+----------------------+----------------------+\r\n",
            "                                                                               \r\n",
            "+-----------------------------------------------------------------------------+\r\n",
            "| Processes:                                                                  |\r\n",
            "|  GPU   GI   CI        PID   Type   Process name                  GPU Memory |\r\n",
            "|        ID   ID                                                   Usage      |\r\n",
            "|=============================================================================|\r\n",
            "|    0   N/A  N/A      1788      G   /usr/lib/xorg/Xorg                195MiB |\r\n",
            "|    0   N/A  N/A      2034      G   /usr/bin/gnome-shell               49MiB |\r\n",
            "|    0   N/A  N/A      3108      G   ...AAAAAAAAA= --shared-files      425MiB |\r\n",
            "|    0   N/A  N/A      4603      G   ...AAAAAAAAA= --shared-files       12MiB |\r\n",
            "+-----------------------------------------------------------------------------+\r\n"
          ],
          "name": "stdout"
        }
      ]
    },
    {
      "cell_type": "markdown",
      "metadata": {
        "id": "67MUjz6-Nm6G"
      },
      "source": [
        "### Installing packages"
      ]
    },
    {
      "cell_type": "code",
      "metadata": {
        "id": "uQMtm6YEtMwg"
      },
      "source": [
        "if is_colab:\n",
        "    !pip install -Uqqq wandb\n",
        "    !pip install -Uqqq fastai\n",
        "    !pip install -Uqqq timm"
      ],
      "execution_count": 2,
      "outputs": []
    },
    {
      "cell_type": "markdown",
      "metadata": {
        "id": "aFs1gKxXNt1K"
      },
      "source": [
        "### Loading packages"
      ]
    },
    {
      "cell_type": "code",
      "metadata": {
        "id": "GfaReODVtOU0"
      },
      "source": [
        "from fastai.vision.all import *\n",
        "import wandb\n",
        "from fastai.callback.wandb import *\n",
        "from argparse import Namespace\n",
        "import timm"
      ],
      "execution_count": 3,
      "outputs": []
    },
    {
      "cell_type": "markdown",
      "metadata": {
        "id": "0HDbko4QJMoA"
      },
      "source": [
        "### Downloading data\n",
        "\n"
      ]
    },
    {
      "cell_type": "code",
      "metadata": {
        "id": "b5f5KDhnr1x2"
      },
      "source": [
        "wandb.Api()\n",
        "if is_colab:\n",
        "\n",
        "    from google.colab import drive\n",
        "    from os.path import exists\n",
        "\n",
        "    if not exists('/content/drive'):\n",
        "        drive.mount('/content/drive')\n",
        "    %run '/content/drive/MyDrive/Kaggle/My Kaggle [colab].ipynb'\n",
        "\n",
        "    if not exists('/content/train/'):\n",
        "        setup_kaggle()\n",
        "        get_kaggle_data('d', 'coldfir3/seti-spatial-dataset-v3')\n",
        "        ! kaggle competitions download -c seti-breakthrough-listen -f train_labels.csv"
      ],
      "execution_count": 4,
      "outputs": []
    },
    {
      "cell_type": "markdown",
      "metadata": {
        "id": "HYcpcs_qzYy6"
      },
      "source": [
        "## Setting up the DataFrames"
      ]
    },
    {
      "cell_type": "code",
      "metadata": {
        "colab": {
          "base_uri": "https://localhost:8080/",
          "height": 417
        },
        "id": "crhElQyIs9qe",
        "outputId": "40388fec-642b-4045-ccfb-969604e174d9"
      },
      "source": [
        "from sklearn.model_selection import StratifiedKFold\n",
        "if is_colab: \n",
        "    base_path = '/content/train/'\n",
        "    train_df = pd.read_csv('/content/train_labels.csv.zip')\n",
        "else:\n",
        "    base_path = '/media/passos/Data/DSET/seti-spatial-dataset-v3/train/'\n",
        "    train_df = pd.read_csv('/media/passos/Data/DSET/seti-spatial-dataset-v3/train_labels.csv.zip')\n",
        "\n",
        "# train_df = train_df.sample(n=10_000).reset_index(drop=True)\n",
        "train_df['fold'] = -1\n",
        "train_df['path'] = train_df['id'].apply(lambda x: base_path + x + '.png')\n",
        "train_df['label'] = train_df['target'].apply(lambda x: 'alien' if x == 1 else 'no-alien')\n",
        "skf = StratifiedKFold(n_splits = 6, random_state = 42, shuffle = True)\n",
        "for fold, (train_index, test_index) in enumerate(skf.split(train_df['id'], train_df['target'])):\n",
        "    train_df.loc[test_index, 'fold'] = fold\n",
        "train_df"
      ],
      "execution_count": 5,
      "outputs": [
        {
          "output_type": "execute_result",
          "data": {
            "text/plain": [
              "                    id  target  fold  \\\n",
              "0      0000799a2b2c42d       0     3   \n",
              "1      00042890562ff68       0     3   \n",
              "2      0005364cdcb8e5b       0     4   \n",
              "3      0007a5a46901c56       0     3   \n",
              "4      0009283e145448e       0     3   \n",
              "...                ...     ...   ...   \n",
              "59995  fff8217fe05aba3       0     4   \n",
              "59996  fffa939e610ed70       0     4   \n",
              "59997  fffbb1c9c3d6c31       1     5   \n",
              "59998  fffc9a763d23647       0     0   \n",
              "59999  ffff0a799efa529       0     1   \n",
              "\n",
              "                                                                            path  \\\n",
              "0      /media/passos/Data/DSET/seti-spatial-dataset-v3/train/0000799a2b2c42d.png   \n",
              "1      /media/passos/Data/DSET/seti-spatial-dataset-v3/train/00042890562ff68.png   \n",
              "2      /media/passos/Data/DSET/seti-spatial-dataset-v3/train/0005364cdcb8e5b.png   \n",
              "3      /media/passos/Data/DSET/seti-spatial-dataset-v3/train/0007a5a46901c56.png   \n",
              "4      /media/passos/Data/DSET/seti-spatial-dataset-v3/train/0009283e145448e.png   \n",
              "...                                                                          ...   \n",
              "59995  /media/passos/Data/DSET/seti-spatial-dataset-v3/train/fff8217fe05aba3.png   \n",
              "59996  /media/passos/Data/DSET/seti-spatial-dataset-v3/train/fffa939e610ed70.png   \n",
              "59997  /media/passos/Data/DSET/seti-spatial-dataset-v3/train/fffbb1c9c3d6c31.png   \n",
              "59998  /media/passos/Data/DSET/seti-spatial-dataset-v3/train/fffc9a763d23647.png   \n",
              "59999  /media/passos/Data/DSET/seti-spatial-dataset-v3/train/ffff0a799efa529.png   \n",
              "\n",
              "          label  \n",
              "0      no-alien  \n",
              "1      no-alien  \n",
              "2      no-alien  \n",
              "3      no-alien  \n",
              "4      no-alien  \n",
              "...         ...  \n",
              "59995  no-alien  \n",
              "59996  no-alien  \n",
              "59997     alien  \n",
              "59998  no-alien  \n",
              "59999  no-alien  \n",
              "\n",
              "[60000 rows x 5 columns]"
            ],
            "text/html": [
              "<div>\n",
              "<style scoped>\n",
              "    .dataframe tbody tr th:only-of-type {\n",
              "        vertical-align: middle;\n",
              "    }\n",
              "\n",
              "    .dataframe tbody tr th {\n",
              "        vertical-align: top;\n",
              "    }\n",
              "\n",
              "    .dataframe thead th {\n",
              "        text-align: right;\n",
              "    }\n",
              "</style>\n",
              "<table border=\"1\" class=\"dataframe\">\n",
              "  <thead>\n",
              "    <tr style=\"text-align: right;\">\n",
              "      <th></th>\n",
              "      <th>id</th>\n",
              "      <th>target</th>\n",
              "      <th>fold</th>\n",
              "      <th>path</th>\n",
              "      <th>label</th>\n",
              "    </tr>\n",
              "  </thead>\n",
              "  <tbody>\n",
              "    <tr>\n",
              "      <th>0</th>\n",
              "      <td>0000799a2b2c42d</td>\n",
              "      <td>0</td>\n",
              "      <td>3</td>\n",
              "      <td>/media/passos/Data/DSET/seti-spatial-dataset-v3/train/0000799a2b2c42d.png</td>\n",
              "      <td>no-alien</td>\n",
              "    </tr>\n",
              "    <tr>\n",
              "      <th>1</th>\n",
              "      <td>00042890562ff68</td>\n",
              "      <td>0</td>\n",
              "      <td>3</td>\n",
              "      <td>/media/passos/Data/DSET/seti-spatial-dataset-v3/train/00042890562ff68.png</td>\n",
              "      <td>no-alien</td>\n",
              "    </tr>\n",
              "    <tr>\n",
              "      <th>2</th>\n",
              "      <td>0005364cdcb8e5b</td>\n",
              "      <td>0</td>\n",
              "      <td>4</td>\n",
              "      <td>/media/passos/Data/DSET/seti-spatial-dataset-v3/train/0005364cdcb8e5b.png</td>\n",
              "      <td>no-alien</td>\n",
              "    </tr>\n",
              "    <tr>\n",
              "      <th>3</th>\n",
              "      <td>0007a5a46901c56</td>\n",
              "      <td>0</td>\n",
              "      <td>3</td>\n",
              "      <td>/media/passos/Data/DSET/seti-spatial-dataset-v3/train/0007a5a46901c56.png</td>\n",
              "      <td>no-alien</td>\n",
              "    </tr>\n",
              "    <tr>\n",
              "      <th>4</th>\n",
              "      <td>0009283e145448e</td>\n",
              "      <td>0</td>\n",
              "      <td>3</td>\n",
              "      <td>/media/passos/Data/DSET/seti-spatial-dataset-v3/train/0009283e145448e.png</td>\n",
              "      <td>no-alien</td>\n",
              "    </tr>\n",
              "    <tr>\n",
              "      <th>...</th>\n",
              "      <td>...</td>\n",
              "      <td>...</td>\n",
              "      <td>...</td>\n",
              "      <td>...</td>\n",
              "      <td>...</td>\n",
              "    </tr>\n",
              "    <tr>\n",
              "      <th>59995</th>\n",
              "      <td>fff8217fe05aba3</td>\n",
              "      <td>0</td>\n",
              "      <td>4</td>\n",
              "      <td>/media/passos/Data/DSET/seti-spatial-dataset-v3/train/fff8217fe05aba3.png</td>\n",
              "      <td>no-alien</td>\n",
              "    </tr>\n",
              "    <tr>\n",
              "      <th>59996</th>\n",
              "      <td>fffa939e610ed70</td>\n",
              "      <td>0</td>\n",
              "      <td>4</td>\n",
              "      <td>/media/passos/Data/DSET/seti-spatial-dataset-v3/train/fffa939e610ed70.png</td>\n",
              "      <td>no-alien</td>\n",
              "    </tr>\n",
              "    <tr>\n",
              "      <th>59997</th>\n",
              "      <td>fffbb1c9c3d6c31</td>\n",
              "      <td>1</td>\n",
              "      <td>5</td>\n",
              "      <td>/media/passos/Data/DSET/seti-spatial-dataset-v3/train/fffbb1c9c3d6c31.png</td>\n",
              "      <td>alien</td>\n",
              "    </tr>\n",
              "    <tr>\n",
              "      <th>59998</th>\n",
              "      <td>fffc9a763d23647</td>\n",
              "      <td>0</td>\n",
              "      <td>0</td>\n",
              "      <td>/media/passos/Data/DSET/seti-spatial-dataset-v3/train/fffc9a763d23647.png</td>\n",
              "      <td>no-alien</td>\n",
              "    </tr>\n",
              "    <tr>\n",
              "      <th>59999</th>\n",
              "      <td>ffff0a799efa529</td>\n",
              "      <td>0</td>\n",
              "      <td>1</td>\n",
              "      <td>/media/passos/Data/DSET/seti-spatial-dataset-v3/train/ffff0a799efa529.png</td>\n",
              "      <td>no-alien</td>\n",
              "    </tr>\n",
              "  </tbody>\n",
              "</table>\n",
              "<p>60000 rows × 5 columns</p>\n",
              "</div>"
            ]
          },
          "metadata": {
            "tags": []
          },
          "execution_count": 5
        }
      ]
    },
    {
      "cell_type": "markdown",
      "metadata": {
        "id": "fNzjXdp3zzA9"
      },
      "source": [
        "## DataBlock & DataLoader"
      ]
    },
    {
      "cell_type": "code",
      "metadata": {
        "id": "Y7Rh7M003veY",
        "colab": {
          "base_uri": "https://localhost:8080/"
        },
        "outputId": "10921f57-fadb-4a6a-f4b4-bc9b5bda183e"
      },
      "source": [
        "import albumentations as A\n",
        "class AlbumentationsTransform(Transform):\n",
        "    split_idx = 0\n",
        "    def __init__(self, aug): self.aug = aug\n",
        "    def encodes(self, img: PILImage):\n",
        "        aug_img = self.aug(image=np.array(img))['image']\n",
        "        return PILImage.create(aug_img)\n",
        "tfms = A.Compose([\n",
        "        A.HorizontalFlip(p=.5),\n",
        "        A.VerticalFlip(p=.5),\n",
        "        A.ShiftScaleRotate(rotate_limit=0, p=.25),\n",
        "        A.MotionBlur(p=.2),\n",
        "        A.IAASharpen(p=.25)\n",
        "])"
      ],
      "execution_count": 6,
      "outputs": [
        {
          "output_type": "stream",
          "text": [
            "/home/passos/anaconda3/lib/python3.8/site-packages/albumentations/imgaug/transforms.py:222: FutureWarning: IAASharpen is deprecated. Please use Sharpen instead\n",
            "  warnings.warn(\"IAASharpen is deprecated. Please use Sharpen instead\", FutureWarning)\n"
          ],
          "name": "stderr"
        }
      ]
    },
    {
      "cell_type": "code",
      "metadata": {
        "colab": {
          "base_uri": "https://localhost:8080/",
          "height": 273
        },
        "id": "y7B2iqV2zUfi",
        "outputId": "2a9df9cd-3d08-42a9-9b3c-0d8ce4e4ba79"
      },
      "source": [
        "def get_dls(df, **config):\n",
        "    is_colab = 'google.colab' in sys.modules\n",
        "    workers = 2 if is_colab else 10\n",
        "    splitter = IndexSplitter(df[df.fold == config['fold']].index)\n",
        "    return DataBlock(\n",
        "        blocks=(ImageBlock(cls=PILImageBW), CategoryBlock()),\n",
        "        splitter = splitter,\n",
        "        getters=[ColReader('path'), ColReader('target')],\n",
        "        item_tfms=[Resize((224, 224*3), method = 'sqish'), AlbumentationsTransform(tfms)],\n",
        "        batch_tfms=[Flip(), Normalize(mean = tensor(0.5), std = tensor(0.177))]\n",
        "        ).dataloaders(df, bs = config['bs'], num_workers = workers)\n",
        "\n",
        "dls = get_dls(train_df, **{'bs':8, 'fold':0})\n",
        "dls.show_batch()"
      ],
      "execution_count": 7,
      "outputs": [
        {
          "output_type": "display_data",
          "data": {
            "text/plain": [
              "<Figure size 864x432 with 8 Axes>"
            ],
            "image/png": "[encoded data removed]"
          },
          "metadata": {
            "tags": [],
            "needs_background": "light"
          }
        }
      ]
    },
    {
      "cell_type": "markdown",
      "metadata": {
        "id": "PGTfvvDbjzHY"
      },
      "source": [
        "## Playground"
      ]
    },
    {
      "cell_type": "code",
      "metadata": {
        "id": "ahDEhYHNkcJ7"
      },
      "source": [
        "from timesformer.models.vit import TimeSformer"
      ],
      "execution_count": 8,
      "outputs": []
    },
    {
      "cell_type": "code",
      "metadata": {
        "colab": {
          "base_uri": "https://localhost:8080/"
        },
        "id": "OQ0iKb1pjyta",
        "outputId": "e94dc02f-21ae-495d-c05a-b3b79cd05413"
      },
      "source": [
        "model = TimeSformer(img_size=224, num_classes=1, num_frames=3, attention_type='divided_space_time',  pretrained_model='/home/passos/Downloads/TimeSformer_divST_8x32_224_K400.pyth')\n",
        "dummy_video = torch.randn(2, 3, 8, 224, 224) # (batch x channels x frames x height x width)\n",
        "model(dummy_video) # (2, 1)"
      ],
      "execution_count": 9,
      "outputs": [
        {
          "output_type": "execute_result",
          "data": {
            "text/plain": [
              "tensor([[0.3197],\n",
              "        [0.1513]], grad_fn=<AddmmBackward>)"
            ]
          },
          "metadata": {
            "tags": []
          },
          "execution_count": 9
        }
      ]
    },
    {
      "cell_type": "code",
      "metadata": {
        "id": "LjS_KY-skdX7"
      },
      "source": [
        "xb, yb = dls.one_batch()"
      ],
      "execution_count": 10,
      "outputs": []
    },
    {
      "cell_type": "code",
      "metadata": {
        "colab": {
          "base_uri": "https://localhost:8080/"
        },
        "id": "5QGEXMlpkdNc",
        "outputId": "39e1f888-bb32-468e-8c52-7cf9f52c7387"
      },
      "source": [
        "xb = torch.split(xb.unsqueeze(1), 224, dim = -1)\n",
        "xb = torch.cat(xb, dim = 2)\n",
        "xb = torch.cat([xb] * 3, dim = 1)\n",
        "xb.shape"
      ],
      "execution_count": 11,
      "outputs": [
        {
          "output_type": "execute_result",
          "data": {
            "text/plain": [
              "torch.Size([8, 3, 3, 224, 224])"
            ]
          },
          "metadata": {
            "tags": []
          },
          "execution_count": 11
        }
      ]
    },
    {
      "cell_type": "code",
      "metadata": {
        "colab": {
          "base_uri": "https://localhost:8080/"
        },
        "id": "-ZtvgQKykdLR",
        "outputId": "8a8c47f3-88e6-4be8-a036-8923e66f0235"
      },
      "source": [
        "model(xb.cpu())"
      ],
      "execution_count": 12,
      "outputs": [
        {
          "output_type": "execute_result",
          "data": {
            "text/plain": [
              "tensor([[ 0.0508],\n",
              "        [ 0.6917],\n",
              "        [ 0.8910],\n",
              "        [ 0.5006],\n",
              "        [-0.0368],\n",
              "        [ 0.4828],\n",
              "        [ 0.4892],\n",
              "        [ 0.3487]], grad_fn=<AddmmBackward>)"
            ]
          },
          "metadata": {
            "tags": []
          },
          "execution_count": 12
        }
      ]
    },
    {
      "cell_type": "markdown",
      "metadata": {
        "id": "kPW0Kf-rmaIJ"
      },
      "source": [
        "## Training\n"
      ]
    },
    {
      "cell_type": "code",
      "metadata": {
        "id": "JVhKl1V0mgGM"
      },
      "source": [
        "class Img2Video(Callback):\n",
        "    def before_batch(self):\n",
        "        xb = self.learn.xb[0]\n",
        "        xb = torch.split(xb.unsqueeze(1), 224, dim = -1)\n",
        "        xb = torch.cat(xb, dim = 2)\n",
        "        xb = torch.cat([xb] * 3, dim = 1)\n",
        "        self.learn.xb = tuple([xb])"
      ],
      "execution_count": 13,
      "outputs": []
    },
    {
      "cell_type": "code",
      "metadata": {
        "id": "_vKQWtNolkF7"
      },
      "source": [
        "# learn = Learner(dls, model, loss_func=BCEWithLogitsLossFlat(), cbs = Img2Video())"
      ],
      "execution_count": 14,
      "outputs": []
    },
    {
      "cell_type": "code",
      "metadata": {
        "id": "2yoDtTttkdJG"
      },
      "source": [
        "# learn.fit_one_cycle(1, 1e-3)"
      ],
      "execution_count": 15,
      "outputs": []
    },
    {
      "cell_type": "code",
      "metadata": {
        "id": "sKbLds1Z31AO"
      },
      "source": [
        "class SaveAndLogBestModel(SaveModelCallback):\n",
        "\n",
        "    def __init__(self, mon='valid_loss', **kwargs):\n",
        "        super().__init__(monitor = mon, fname = mon, **kwargs)\n",
        "\n",
        "    def _save(self, name): \n",
        "        self.last_saved_path = self.learn.save(name, with_opt=self.with_opt)\n",
        "        self.model_path = Path(*list(self.last_saved_path.parts[:-1])) / (self.fname + '.pth')\n",
        "        self.metadata = {n:s for n,s in zip(self.recorder.metric_names, self.recorder.log) if n not in ['time']}\n",
        "\n",
        "    def after_fit(self, **kwargs):\n",
        "        metadata = self.metadata\n",
        "        for k,v in metadata.items(): metadata[k] = str(v)\n",
        "        name = f'run_{wandb.run.id}_model'\n",
        "        artifact_model = wandb.Artifact(name=name, type='model', metadata=metadata, description='trained model')\n",
        "        with artifact_model.new_file(name, mode='wb') as fa:\n",
        "            fa.write(self.model_path.read_bytes())\n",
        "        wandb.run.log_artifact(artifact_model, aliases = [f'best {self.fname}', f'epoch {metadata[\"epoch\"]}'])"
      ],
      "execution_count": 16,
      "outputs": []
    },
    {
      "cell_type": "code",
      "metadata": {
        "id": "3Kvqi8Eg5YlQ"
      },
      "source": [
        "class wandb_learner():\n",
        "\n",
        "    def __init__(self, df, **config):\n",
        "\n",
        "        cbs = []\n",
        "        if config['Fit']['n_epoch'] < 1:\n",
        "            df = df.sample(frac=config['Fit']['n_epoch']).reset_index(drop=True)\n",
        "            config['Fit']['n_epoch'] = 1\n",
        "            \n",
        "        self.df = df\n",
        "        self.config = config\n",
        "\n",
        "        self.dls = get_dls(df, **config['Dataloader'])\n",
        "        # if isinstance(config['Model'], Module):\n",
        "        self.model = config.pop('Model')\n",
        "        # else : print('error')\n",
        "        self.learn = Learner(self.dls, self.model, **config['Learner']).add_cbs(cbs)\n",
        "\n",
        "        self.scheduler = self.config['Fit'].pop('scheduler')\n",
        "        self.wandb_config = self.config.pop('WandB')\n",
        "\n",
        "    def unfrozen_count(self):\n",
        "        return sum([np.prod(p.size()) for p in filter(lambda p: p.requires_grad, self.model.parameters())])\n",
        "\n",
        "    def fit(self):\n",
        "\n",
        "        if self.scheduler == 'fine_tune':\n",
        "\n",
        "            lr_max  = self.config['Fit'].pop('lr_max')\n",
        "            n_epoch = self.config['Fit'].pop('n_epoch')\n",
        "            freeze_lr = self.config['Fit'].pop('freeze_lr')\n",
        "            freeze_epochs = self.config['Fit'].pop('freeze_epochs')\n",
        "            lr_mult = self.config['Fit'].pop('lr_mult')\n",
        "            lr = slice(lr_max/lr_mult, lr_max)\n",
        "\n",
        "            self.learn.freeze()\n",
        "            print(f'Training {self.unfrozen_count()} parameters ...')\n",
        "            self.learn.fit_one_cycle(freeze_epochs, slice(freeze_lr), pct_start=0.99, **self.config['Fit'])\n",
        "            \n",
        "            self.learn.unfreeze()\n",
        "            print(f'Training {self.unfrozen_count()} parameters ...')\n",
        "            self.learn.fit_one_cycle(n_epoch - freeze_epochs, lr, pct_start=0.3, div=5.0, **self.config['Fit'])    \n",
        "            \n",
        "            self.config['Fit']['lr_max'] = lr_max\n",
        "            self.config['Fit']['n_epoch'] = n_epoch\n",
        "            self.config['Fit']['freeze_lr'] = freeze_lr\n",
        "            self.config['Fit']['freeze_epochs'] = freeze_epochs\n",
        "            self.config['Fit']['lr_mult'] = lr_mult\n",
        "            \n",
        "        elif self.scheduler == 'one_cycle': \n",
        "          print(f'Training {self.unfrozen_count()} parameters ...')\n",
        "          self.learn.fit_one_cycle(**self.config['Fit'])\n",
        "\n",
        "        elif self.scheduler == 'cossine': print('not implemented')\n",
        "\n",
        "        elif self.scheduler == 'reduce_on_plateau': print('not implemented')\n",
        "\n",
        "        else: self.learn.fit(**self.config['Fit'])\n",
        "\n",
        "    def wandb_fit(self):\n",
        "        \n",
        "        with wandb.init(config = self.config, **self.wandb_config) as run:\n",
        "            self.learn.add_cb(WandbCallback(log=None, log_preds=False, log_model=False))\n",
        "            self.learn.add_cb(SaveAndLogBestModel())\n",
        "            self.fit()\n",
        "\n",
        "def my_splitter(m):\n",
        "    return [params(m)[:-2], params(m)[-2:]]"
      ],
      "execution_count": 17,
      "outputs": []
    },
    {
      "cell_type": "code",
      "metadata": {
        "id": "GA7DOtU38Pih",
        "colab": {
          "base_uri": "https://localhost:8080/",
          "height": 1000,
          "referenced_widgets": [
            "1f1a6df7109a49d58f8342016fbd11ec",
            "c09ddbba76aa4188ba2e0bcbd67e3d37",
            "7c5a84ed7ee8401892ceaf6cd82bedea",
            "9d660e714b02430c91eca3dd9108ba52",
            "dca2402a592a49e79bcbf5c52fabf60a",
            "d9029c0e4ea14e0d811616511b53a727",
            "d87ed3ad78154e2db2dbb183d5e44c65",
            "9cfea248e6e74d05a0773b0dc09e6fbe"
          ]
        },
        "outputId": "5be8e8e1-4268-4262-861e-0d87178d0351"
      },
      "source": [
        "CFG = {\n",
        "    'WandB' : {\n",
        "        'project' : 'Seti V1',\n",
        "        'tags': ['transformer', 'Video'],\n",
        "        'notes':\n",
        "        \"\"\"\n",
        "        \"\"\",\n",
        "    },\n",
        "    'Dataloader' : {\n",
        "        'bs' : 8,\n",
        "        'fold' : 0, \n",
        "    },\n",
        "    'Model' : TimeSformer(img_size=224, num_classes=1, num_frames=3, attention_type='divided_space_time',  pretrained_model='/home/passos/Downloads/TimeSformer_divST_8x32_224_K400.pyth'),\n",
        "    'Learner' : {\n",
        "        'loss_func' : BCEWithLogitsLossFlat(),\n",
        "        'metrics' : RocAucMulti(),\n",
        "        'cbs' : [Img2Video(),\n",
        "                 GradientAccumulation(32),\n",
        "                #  MixUp()\n",
        "                ],\n",
        "        'splitter' : my_splitter,\n",
        "      },\n",
        "    'Fit' : {\n",
        "        'scheduler' : 'fine_tune',\n",
        "        'lr_max' : 0.005,\n",
        "        'n_epoch' : 10,\n",
        "        'freeze_lr' : 0.010,\n",
        "        'freeze_epochs' : 1,\n",
        "        'lr_mult' : 100,\n",
        "    }\n",
        "}\n",
        "\n",
        "learn = wandb_learner(train_df, **CFG)\n",
        "# learn.learn.lr_find()\n",
        "learn.wandb_fit()\n",
        "# learn.fit()"
      ],
      "execution_count": 18,
      "outputs": [
        {
          "output_type": "stream",
          "text": [
            "\u001b[34m\u001b[1mwandb\u001b[0m: Currently logged in as: \u001b[33mcoldfir3\u001b[0m (use `wandb login --relogin` to force relogin)\n"
          ],
          "name": "stderr"
        },
        {
          "output_type": "display_data",
          "data": {
            "text/plain": [
              "<IPython.core.display.HTML object>"
            ],
            "text/html": [
              "\n",
              "                Tracking run with wandb version 0.12.0<br/>\n",
              "                Syncing run <strong style=\"color:#cdcd00\">balmy-snowball-136</strong> to <a href=\"https://wandb.ai\" target=\"_blank\">Weights & Biases</a> <a href=\"https://docs.wandb.com/integrations/jupyter.html\" target=\"_blank\">(Documentation)</a>.<br/>\n",
              "                Project page: <a href=\"https://wandb.ai/coldfir3/Seti%20V1\" target=\"_blank\">https://wandb.ai/coldfir3/Seti%20V1</a><br/>\n",
              "                Run page: <a href=\"https://wandb.ai/coldfir3/Seti%20V1/runs/31daw2nw\" target=\"_blank\">https://wandb.ai/coldfir3/Seti%20V1/runs/31daw2nw</a><br/>\n",
              "                Run data is saved locally in <code>/home/passos/wandb/run-20210816_014221-31daw2nw</code><br/><br/>\n",
              "            "
            ]
          },
          "metadata": {
            "tags": []
          }
        },
        {
          "output_type": "stream",
          "text": [
            "Training 57601 parameters ...\n"
          ],
          "name": "stdout"
        },
        {
          "output_type": "display_data",
          "data": {
            "text/plain": [
              "<IPython.core.display.HTML object>"
            ],
            "text/html": [
              "<table border=\"1\" class=\"dataframe\">\n",
              "  <thead>\n",
              "    <tr style=\"text-align: left;\">\n",
              "      <th>epoch</th>\n",
              "      <th>train_loss</th>\n",
              "      <th>valid_loss</th>\n",
              "      <th>roc_auc_score</th>\n",
              "      <th>time</th>\n",
              "    </tr>\n",
              "  </thead>\n",
              "  <tbody>\n",
              "    <tr>\n",
              "      <td>0</td>\n",
              "      <td>0.310608</td>\n",
              "      <td>0.267109</td>\n",
              "      <td>0.732152</td>\n",
              "      <td>43:22</td>\n",
              "    </tr>\n",
              "  </tbody>\n",
              "</table>"
            ]
          },
          "metadata": {
            "tags": []
          }
        },
        {
          "output_type": "stream",
          "text": [
            "Better model found at epoch 0 with valid_loss value: 0.2671090364456177.\n",
            "Training 121255681 parameters ...\n"
          ],
          "name": "stdout"
        },
        {
          "output_type": "display_data",
          "data": {
            "text/plain": [
              "<IPython.core.display.HTML object>"
            ],
            "text/html": [
              "<table border=\"1\" class=\"dataframe\">\n",
              "  <thead>\n",
              "    <tr style=\"text-align: left;\">\n",
              "      <th>epoch</th>\n",
              "      <th>train_loss</th>\n",
              "      <th>valid_loss</th>\n",
              "      <th>roc_auc_score</th>\n",
              "      <th>time</th>\n",
              "    </tr>\n",
              "  </thead>\n",
              "  <tbody>\n",
              "    <tr>\n",
              "      <td>0</td>\n",
              "      <td>0.251794</td>\n",
              "      <td>0.249491</td>\n",
              "      <td>0.752241</td>\n",
              "      <td>55:07</td>\n",
              "    </tr>\n",
              "    <tr>\n",
              "      <td>1</td>\n",
              "      <td>0.280587</td>\n",
              "      <td>0.268624</td>\n",
              "      <td>0.737547</td>\n",
              "      <td>54:58</td>\n",
              "    </tr>\n",
              "    <tr>\n",
              "      <td>2</td>\n",
              "      <td>0.207032</td>\n",
              "      <td>0.248674</td>\n",
              "      <td>0.777277</td>\n",
              "      <td>54:59</td>\n",
              "    </tr>\n",
              "    <tr>\n",
              "      <td>3</td>\n",
              "      <td>0.242566</td>\n",
              "      <td>0.249797</td>\n",
              "      <td>0.778489</td>\n",
              "      <td>54:59</td>\n",
              "    </tr>\n",
              "    <tr>\n",
              "      <td>4</td>\n",
              "      <td>0.209064</td>\n",
              "      <td>0.230238</td>\n",
              "      <td>0.784909</td>\n",
              "      <td>54:58</td>\n",
              "    </tr>\n",
              "    <tr>\n",
              "      <td>5</td>\n",
              "      <td>0.218874</td>\n",
              "      <td>0.220373</td>\n",
              "      <td>0.794081</td>\n",
              "      <td>54:58</td>\n",
              "    </tr>\n",
              "    <tr>\n",
              "      <td>6</td>\n",
              "      <td>0.227159</td>\n",
              "      <td>0.215809</td>\n",
              "      <td>0.804958</td>\n",
              "      <td>54:56</td>\n",
              "    </tr>\n",
              "    <tr>\n",
              "      <td>7</td>\n",
              "      <td>0.221667</td>\n",
              "      <td>0.212012</td>\n",
              "      <td>0.810934</td>\n",
              "      <td>54:56</td>\n",
              "    </tr>\n",
              "    <tr>\n",
              "      <td>8</td>\n",
              "      <td>0.202126</td>\n",
              "      <td>0.211614</td>\n",
              "      <td>0.811892</td>\n",
              "      <td>55:15</td>\n",
              "    </tr>\n",
              "  </tbody>\n",
              "</table>"
            ]
          },
          "metadata": {
            "tags": []
          }
        },
        {
          "output_type": "stream",
          "text": [
            "Better model found at epoch 0 with valid_loss value: 0.24949096143245697.\n",
            "Better model found at epoch 2 with valid_loss value: 0.24867390096187592.\n",
            "Better model found at epoch 4 with valid_loss value: 0.23023779690265656.\n",
            "Better model found at epoch 5 with valid_loss value: 0.22037282586097717.\n",
            "Better model found at epoch 6 with valid_loss value: 0.21580898761749268.\n",
            "Better model found at epoch 7 with valid_loss value: 0.21201196312904358.\n",
            "Better model found at epoch 8 with valid_loss value: 0.21161358058452606.\n"
          ],
          "name": "stdout"
        },
        {
          "output_type": "display_data",
          "data": {
            "text/plain": [
              "<IPython.core.display.HTML object>"
            ],
            "text/html": [
              "<br/>Waiting for W&B process to finish, PID 26965<br/>Program ended successfully."
            ]
          },
          "metadata": {
            "tags": []
          }
        },
        {
          "output_type": "display_data",
          "data": {
            "text/plain": [
              "VBox(children=(Label(value=' 925.30MB of 925.30MB uploaded (0.00MB deduped)\\r'), FloatProgress(value=1.0, max=…"
            ],
            "application/vnd.jupyter.widget-view+json": {
              "version_major": 2,
              "version_minor": 0,
              "model_id": "1f1a6df7109a49d58f8342016fbd11ec"
            }
          },
          "metadata": {
            "tags": []
          }
        },
        {
          "output_type": "display_data",
          "data": {
            "text/plain": [
              "<IPython.core.display.HTML object>"
            ],
            "text/html": [
              "Find user logs for this run at: <code>/home/passos/wandb/run-20210816_014221-31daw2nw/logs/debug.log</code>"
            ]
          },
          "metadata": {
            "tags": []
          }
        },
        {
          "output_type": "display_data",
          "data": {
            "text/plain": [
              "<IPython.core.display.HTML object>"
            ],
            "text/html": [
              "Find internal logs for this run at: <code>/home/passos/wandb/run-20210816_014221-31daw2nw/logs/debug-internal.log</code>"
            ]
          },
          "metadata": {
            "tags": []
          }
        },
        {
          "output_type": "display_data",
          "data": {
            "text/plain": [
              "<IPython.core.display.HTML object>"
            ],
            "text/html": [
              "<h3>Run summary:</h3><br/><style>\n",
              "    table.wandb td:nth-child(1) { padding: 0 10px; text-align: right }\n",
              "    </style><table class=\"wandb\">\n",
              "<tr><td>epoch</td><td>10</td></tr><tr><td>train_loss</td><td>0.20213</td></tr><tr><td>raw_loss</td><td>0.05573</td></tr><tr><td>wd_0</td><td>0.01</td></tr><tr><td>sqr_mom_0</td><td>0.99</td></tr><tr><td>lr_0</td><td>0.0</td></tr><tr><td>mom_0</td><td>0.95</td></tr><tr><td>eps_0</td><td>1e-05</td></tr><tr><td>wd_1</td><td>0.01</td></tr><tr><td>sqr_mom_1</td><td>0.99</td></tr><tr><td>lr_1</td><td>0.0</td></tr><tr><td>mom_1</td><td>0.95</td></tr><tr><td>eps_1</td><td>1e-05</td></tr><tr><td>_runtime</td><td>32323</td></tr><tr><td>_timestamp</td><td>1629121264</td></tr><tr><td>_step</td><td>62500</td></tr><tr><td>valid_loss</td><td>0.21161</td></tr><tr><td>roc_auc_score</td><td>0.81189</td></tr></table>"
            ]
          },
          "metadata": {
            "tags": []
          }
        },
        {
          "output_type": "display_data",
          "data": {
            "text/plain": [
              "<IPython.core.display.HTML object>"
            ],
            "text/html": [
              "<h3>Run history:</h3><br/><style>\n",
              "    table.wandb td:nth-child(1) { padding: 0 10px; text-align: right }\n",
              "    </style><table class=\"wandb\">\n",
              "<tr><td>epoch</td><td>▁▁▁▂▂▂▂▂▂▃▃▃▃▃▃▄▄▄▄▄▅▅▅▅▅▅▆▆▆▆▆▇▇▇▇▇▇███</td></tr><tr><td>train_loss</td><td>█▆▆▆▄▃▅▄▅▅▄▅▅▃▃▅▃▄▃▄▄▅▃▅▃▄▃▃▃▁▂▃▂▁▃▃▄▁▁▂</td></tr><tr><td>raw_loss</td><td>▅▃▃▃▁▁▄▁▁▄▁▁▄▁▁▁▃▂▃▁▄▂▃▃▁▁▆▁▁▅▃▃▁▁█▁▄▃▁▁</td></tr><tr><td>wd_0</td><td>▁▁▁▁▁▁▁▁▁▁▁▁▁▁▁▁▁▁▁▁▁▁▁▁▁▁▁▁▁▁▁▁▁▁▁▁▁▁▁▁</td></tr><tr><td>sqr_mom_0</td><td>▁▁▁▁▁▁▁▁▁▁▁▁▁▁▁▁▁▁▁▁▁▁▁▁▁▁▁▁▁▁▁▁▁▁▁▁▁▁▁▁</td></tr><tr><td>lr_0</td><td>▁▃▆█▁▁▁▁▁▁▁▁▁▁▁▁▁▁▁▁▁▁▁▁▁▁▁▁▁▁▁▁▁▁▁▁▁▁▁▁</td></tr><tr><td>mom_0</td><td>█▆▄▁██▇▇▆▅▃▃▂▁▁▁▁▁▁▂▂▂▃▃▃▄▄▅▅▅▆▆▇▇▇█████</td></tr><tr><td>eps_0</td><td>▁▁▁▁▁▁▁▁▁▁▁▁▁▁▁▁▁▁▁▁▁▁▁▁▁▁▁▁▁▁▁▁▁▁▁▁▁▁▁▁</td></tr><tr><td>wd_1</td><td>▁▁▁▁▁▁▁▁▁▁▁▁▁▁▁▁▁▁▁▁▁▁▁▁▁▁▁▁▁▁▁▁▁▁▁▁▁▁▁▁</td></tr><tr><td>sqr_mom_1</td><td>▁▁▁▁▁▁▁▁▁▁▁▁▁▁▁▁▁▁▁▁▁▁▁▁▁▁▁▁▁▁▁▁▁▁▁▁▁▁▁▁</td></tr><tr><td>lr_1</td><td>▁▃▆█▂▂▂▂▃▃▄▄▄▅▅▅▅▅▅▄▄▄▄▄▄▃▃▃▃▂▂▂▂▂▁▁▁▁▁▁</td></tr><tr><td>mom_1</td><td>█▆▄▁██▇▇▆▅▃▃▂▁▁▁▁▁▁▂▂▂▃▃▃▄▄▅▅▅▆▆▇▇▇█████</td></tr><tr><td>eps_1</td><td>▁▁▁▁▁▁▁▁▁▁▁▁▁▁▁▁▁▁▁▁▁▁▁▁▁▁▁▁▁▁▁▁▁▁▁▁▁▁▁▁</td></tr><tr><td>_runtime</td><td>▁▁▁▁▂▂▂▂▂▂▃▃▃▃▃▄▄▄▄▄▅▅▅▅▅▅▆▆▆▆▆▇▇▇▇▇▇███</td></tr><tr><td>_timestamp</td><td>▁▁▁▁▂▂▂▂▂▂▃▃▃▃▃▄▄▄▄▄▅▅▅▅▅▅▆▆▆▆▆▇▇▇▇▇▇███</td></tr><tr><td>_step</td><td>▁▁▁▂▂▂▂▂▂▃▃▃▃▃▃▄▄▄▄▄▅▅▅▅▅▅▆▆▆▆▆▇▇▇▇▇▇███</td></tr><tr><td>valid_loss</td><td>█▆█▆▆▃▂▂▁▁</td></tr><tr><td>roc_auc_score</td><td>▁▃▁▅▅▆▆▇██</td></tr></table><br/>"
            ]
          },
          "metadata": {
            "tags": []
          }
        },
        {
          "output_type": "display_data",
          "data": {
            "text/plain": [
              "<IPython.core.display.HTML object>"
            ],
            "text/html": [
              "Synced 6 W&B file(s), 0 media file(s), 2 artifact file(s) and 0 other file(s)"
            ]
          },
          "metadata": {
            "tags": []
          }
        },
        {
          "output_type": "display_data",
          "data": {
            "text/plain": [
              "<IPython.core.display.HTML object>"
            ],
            "text/html": [
              "\n",
              "                    <br/>Synced <strong style=\"color:#cdcd00\">balmy-snowball-136</strong>: <a href=\"https://wandb.ai/coldfir3/Seti%20V1/runs/31daw2nw\" target=\"_blank\">https://wandb.ai/coldfir3/Seti%20V1/runs/31daw2nw</a><br/>\n",
              "                "
            ]
          },
          "metadata": {
            "tags": []
          }
        }
      ]
    },
    {
      "cell_type": "code",
      "metadata": {
        "id": "3RpQzjtq95E0"
      },
      "source": [
        ""
      ],
      "execution_count": 18,
      "outputs": []
    }
  ]
}
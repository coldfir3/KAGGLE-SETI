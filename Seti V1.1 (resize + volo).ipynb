{
  "nbformat": 4,
  "nbformat_minor": 0,
  "metadata": {
    "colab": {
      "name": "Seti V1.1 (resize + volo).ipynb",
      "provenance": [],
      "authorship_tag": "ABX9TyNVwbOS90MqrFQYQVpHe8ZE",
      "include_colab_link": true
    },
    "kernelspec": {
      "name": "python3",
      "display_name": "Python 3"
    },
    "language_info": {
      "name": "python"
    },
    "accelerator": "GPU",
    "widgets": {
      "application/vnd.jupyter.widget-state+json": {
        "5e5baaa5967d4087b5c92b02f62c1614": {
          "model_module": "@jupyter-widgets/controls",
          "model_name": "HBoxModel",
          "model_module_version": "1.5.0",
          "state": {
            "_view_name": "HBoxView",
            "_dom_classes": [],
            "_model_name": "HBoxModel",
            "_view_module": "@jupyter-widgets/controls",
            "_model_module_version": "1.5.0",
            "_view_count": null,
            "_view_module_version": "1.5.0",
            "box_style": "",
            "layout": "IPY_MODEL_987163b8a3164840afbcb2ea53479b15",
            "_model_module": "@jupyter-widgets/controls",
            "children": [
              "IPY_MODEL_680ed783cd8c4a43990210106a5faaee",
              "IPY_MODEL_19dbef04a77b48b899716303f39464f2",
              "IPY_MODEL_d61a4b2669d74940bbb6e452a95af48a"
            ]
          }
        },
        "987163b8a3164840afbcb2ea53479b15": {
          "model_module": "@jupyter-widgets/base",
          "model_name": "LayoutModel",
          "model_module_version": "1.2.0",
          "state": {
            "_view_name": "LayoutView",
            "grid_template_rows": null,
            "right": null,
            "justify_content": null,
            "_view_module": "@jupyter-widgets/base",
            "overflow": null,
            "_model_module_version": "1.2.0",
            "_view_count": null,
            "flex_flow": null,
            "width": null,
            "min_width": null,
            "border": null,
            "align_items": null,
            "bottom": null,
            "_model_module": "@jupyter-widgets/base",
            "top": null,
            "grid_column": null,
            "overflow_y": null,
            "overflow_x": null,
            "grid_auto_flow": null,
            "grid_area": null,
            "grid_template_columns": null,
            "flex": null,
            "_model_name": "LayoutModel",
            "justify_items": null,
            "grid_row": null,
            "max_height": null,
            "align_content": null,
            "visibility": null,
            "align_self": null,
            "height": null,
            "min_height": null,
            "padding": null,
            "grid_auto_rows": null,
            "grid_gap": null,
            "max_width": null,
            "order": null,
            "_view_module_version": "1.2.0",
            "grid_template_areas": null,
            "object_position": null,
            "object_fit": null,
            "grid_auto_columns": null,
            "margin": null,
            "display": null,
            "left": null
          }
        },
        "680ed783cd8c4a43990210106a5faaee": {
          "model_module": "@jupyter-widgets/controls",
          "model_name": "HTMLModel",
          "model_module_version": "1.5.0",
          "state": {
            "_view_name": "HTMLView",
            "style": "IPY_MODEL_fca82d1b30744d02b75404294c9f4f8f",
            "_dom_classes": [],
            "description": "",
            "_model_name": "HTMLModel",
            "placeholder": "​",
            "_view_module": "@jupyter-widgets/controls",
            "_model_module_version": "1.5.0",
            "value": "Extracting: 100%",
            "_view_count": null,
            "_view_module_version": "1.5.0",
            "description_tooltip": null,
            "_model_module": "@jupyter-widgets/controls",
            "layout": "IPY_MODEL_3c661e73c07b4d6ea2f85f23c7f2e4b2"
          }
        },
        "19dbef04a77b48b899716303f39464f2": {
          "model_module": "@jupyter-widgets/controls",
          "model_name": "FloatProgressModel",
          "model_module_version": "1.5.0",
          "state": {
            "_view_name": "ProgressView",
            "style": "IPY_MODEL_b7b4d3e8fb854cc599463c848f0aea6e",
            "_dom_classes": [],
            "description": "",
            "_model_name": "FloatProgressModel",
            "bar_style": "success",
            "max": 99996,
            "_view_module": "@jupyter-widgets/controls",
            "_model_module_version": "1.5.0",
            "value": 99996,
            "_view_count": null,
            "_view_module_version": "1.5.0",
            "orientation": "horizontal",
            "min": 0,
            "description_tooltip": null,
            "_model_module": "@jupyter-widgets/controls",
            "layout": "IPY_MODEL_7caa35a5f423491d937b9c713506287b"
          }
        },
        "d61a4b2669d74940bbb6e452a95af48a": {
          "model_module": "@jupyter-widgets/controls",
          "model_name": "HTMLModel",
          "model_module_version": "1.5.0",
          "state": {
            "_view_name": "HTMLView",
            "style": "IPY_MODEL_e0ba071bd3f64be8a072cb2715576676",
            "_dom_classes": [],
            "description": "",
            "_model_name": "HTMLModel",
            "placeholder": "​",
            "_view_module": "@jupyter-widgets/controls",
            "_model_module_version": "1.5.0",
            "value": " 99996/99996 [04:02&lt;00:00, 457.32it/s]",
            "_view_count": null,
            "_view_module_version": "1.5.0",
            "description_tooltip": null,
            "_model_module": "@jupyter-widgets/controls",
            "layout": "IPY_MODEL_cfb7b440b8fa49fd870834cd81286a08"
          }
        },
        "fca82d1b30744d02b75404294c9f4f8f": {
          "model_module": "@jupyter-widgets/controls",
          "model_name": "DescriptionStyleModel",
          "model_module_version": "1.5.0",
          "state": {
            "_view_name": "StyleView",
            "_model_name": "DescriptionStyleModel",
            "description_width": "",
            "_view_module": "@jupyter-widgets/base",
            "_model_module_version": "1.5.0",
            "_view_count": null,
            "_view_module_version": "1.2.0",
            "_model_module": "@jupyter-widgets/controls"
          }
        },
        "3c661e73c07b4d6ea2f85f23c7f2e4b2": {
          "model_module": "@jupyter-widgets/base",
          "model_name": "LayoutModel",
          "model_module_version": "1.2.0",
          "state": {
            "_view_name": "LayoutView",
            "grid_template_rows": null,
            "right": null,
            "justify_content": null,
            "_view_module": "@jupyter-widgets/base",
            "overflow": null,
            "_model_module_version": "1.2.0",
            "_view_count": null,
            "flex_flow": null,
            "width": null,
            "min_width": null,
            "border": null,
            "align_items": null,
            "bottom": null,
            "_model_module": "@jupyter-widgets/base",
            "top": null,
            "grid_column": null,
            "overflow_y": null,
            "overflow_x": null,
            "grid_auto_flow": null,
            "grid_area": null,
            "grid_template_columns": null,
            "flex": null,
            "_model_name": "LayoutModel",
            "justify_items": null,
            "grid_row": null,
            "max_height": null,
            "align_content": null,
            "visibility": null,
            "align_self": null,
            "height": null,
            "min_height": null,
            "padding": null,
            "grid_auto_rows": null,
            "grid_gap": null,
            "max_width": null,
            "order": null,
            "_view_module_version": "1.2.0",
            "grid_template_areas": null,
            "object_position": null,
            "object_fit": null,
            "grid_auto_columns": null,
            "margin": null,
            "display": null,
            "left": null
          }
        },
        "b7b4d3e8fb854cc599463c848f0aea6e": {
          "model_module": "@jupyter-widgets/controls",
          "model_name": "ProgressStyleModel",
          "model_module_version": "1.5.0",
          "state": {
            "_view_name": "StyleView",
            "_model_name": "ProgressStyleModel",
            "description_width": "",
            "_view_module": "@jupyter-widgets/base",
            "_model_module_version": "1.5.0",
            "_view_count": null,
            "_view_module_version": "1.2.0",
            "bar_color": null,
            "_model_module": "@jupyter-widgets/controls"
          }
        },
        "7caa35a5f423491d937b9c713506287b": {
          "model_module": "@jupyter-widgets/base",
          "model_name": "LayoutModel",
          "model_module_version": "1.2.0",
          "state": {
            "_view_name": "LayoutView",
            "grid_template_rows": null,
            "right": null,
            "justify_content": null,
            "_view_module": "@jupyter-widgets/base",
            "overflow": null,
            "_model_module_version": "1.2.0",
            "_view_count": null,
            "flex_flow": null,
            "width": null,
            "min_width": null,
            "border": null,
            "align_items": null,
            "bottom": null,
            "_model_module": "@jupyter-widgets/base",
            "top": null,
            "grid_column": null,
            "overflow_y": null,
            "overflow_x": null,
            "grid_auto_flow": null,
            "grid_area": null,
            "grid_template_columns": null,
            "flex": null,
            "_model_name": "LayoutModel",
            "justify_items": null,
            "grid_row": null,
            "max_height": null,
            "align_content": null,
            "visibility": null,
            "align_self": null,
            "height": null,
            "min_height": null,
            "padding": null,
            "grid_auto_rows": null,
            "grid_gap": null,
            "max_width": null,
            "order": null,
            "_view_module_version": "1.2.0",
            "grid_template_areas": null,
            "object_position": null,
            "object_fit": null,
            "grid_auto_columns": null,
            "margin": null,
            "display": null,
            "left": null
          }
        },
        "e0ba071bd3f64be8a072cb2715576676": {
          "model_module": "@jupyter-widgets/controls",
          "model_name": "DescriptionStyleModel",
          "model_module_version": "1.5.0",
          "state": {
            "_view_name": "StyleView",
            "_model_name": "DescriptionStyleModel",
            "description_width": "",
            "_view_module": "@jupyter-widgets/base",
            "_model_module_version": "1.5.0",
            "_view_count": null,
            "_view_module_version": "1.2.0",
            "_model_module": "@jupyter-widgets/controls"
          }
        },
        "cfb7b440b8fa49fd870834cd81286a08": {
          "model_module": "@jupyter-widgets/base",
          "model_name": "LayoutModel",
          "model_module_version": "1.2.0",
          "state": {
            "_view_name": "LayoutView",
            "grid_template_rows": null,
            "right": null,
            "justify_content": null,
            "_view_module": "@jupyter-widgets/base",
            "overflow": null,
            "_model_module_version": "1.2.0",
            "_view_count": null,
            "flex_flow": null,
            "width": null,
            "min_width": null,
            "border": null,
            "align_items": null,
            "bottom": null,
            "_model_module": "@jupyter-widgets/base",
            "top": null,
            "grid_column": null,
            "overflow_y": null,
            "overflow_x": null,
            "grid_auto_flow": null,
            "grid_area": null,
            "grid_template_columns": null,
            "flex": null,
            "_model_name": "LayoutModel",
            "justify_items": null,
            "grid_row": null,
            "max_height": null,
            "align_content": null,
            "visibility": null,
            "align_self": null,
            "height": null,
            "min_height": null,
            "padding": null,
            "grid_auto_rows": null,
            "grid_gap": null,
            "max_width": null,
            "order": null,
            "_view_module_version": "1.2.0",
            "grid_template_areas": null,
            "object_position": null,
            "object_fit": null,
            "grid_auto_columns": null,
            "margin": null,
            "display": null,
            "left": null
          }
        }
      }
    }
  },
  "cells": [
    {
      "cell_type": "markdown",
      "metadata": {
        "id": "view-in-github",
        "colab_type": "text"
      },
      "source": [
        "<a href=\"https://colab.research.google.com/github/coldfir3/KAGGLE-SETI/blob/main/Seti%20V1.1%20(resize%20%2B%20volo).ipynb\" target=\"_parent\"><img src=\"https://colab.research.google.com/assets/colab-badge.svg\" alt=\"Open In Colab\"/></a>"
      ]
    },
    {
      "cell_type": "markdown",
      "metadata": {
        "id": "g_ie26T9NjC1"
      },
      "source": [
        "## Initial Setup"
      ]
    },
    {
      "cell_type": "code",
      "metadata": {
        "id": "TG1UcdQLNV_X"
      },
      "source": [
        "import sys\n",
        "import os\n",
        "is_colab = 'google.colab' in sys.modules"
      ],
      "execution_count": 1,
      "outputs": []
    },
    {
      "cell_type": "markdown",
      "metadata": {
        "id": "0HDbko4QJMoA"
      },
      "source": [
        "### Downloading data\n",
        "\n"
      ]
    },
    {
      "cell_type": "code",
      "metadata": {
        "id": "b5f5KDhnr1x2",
        "colab": {
          "base_uri": "https://localhost:8080/",
          "height": 379,
          "referenced_widgets": [
            "5e5baaa5967d4087b5c92b02f62c1614",
            "987163b8a3164840afbcb2ea53479b15",
            "680ed783cd8c4a43990210106a5faaee",
            "19dbef04a77b48b899716303f39464f2",
            "d61a4b2669d74940bbb6e452a95af48a",
            "fca82d1b30744d02b75404294c9f4f8f",
            "3c661e73c07b4d6ea2f85f23c7f2e4b2",
            "b7b4d3e8fb854cc599463c848f0aea6e",
            "7caa35a5f423491d937b9c713506287b",
            "e0ba071bd3f64be8a072cb2715576676",
            "cfb7b440b8fa49fd870834cd81286a08"
          ]
        },
        "outputId": "f1df57ef-b532-4cfc-b7bf-8d258d3d53ff"
      },
      "source": [
        "dataset = 'coldfir3/seti-spatial-dataset-v3'\n",
        "if is_colab:\n",
        "\n",
        "    from google.colab import drive\n",
        "    from os.path import exists\n",
        "\n",
        "    if not exists('/content/drive'):\n",
        "        drive.mount('/content/drive')\n",
        "    %run '/content/drive/MyDrive/Kaggle/My Kaggle [colab].ipynb'\n",
        "\n",
        "    if not exists('/content/train/'):\n",
        "        setup_kaggle()\n",
        "        get_kaggle_data('d', dataset)\n",
        "        ! kaggle competitions download -c seti-breakthrough-listen -f train_labels.csv\n",
        "        ! kaggle competitions download -c seti-breakthrough-listen -f sample_submission.csv"
      ],
      "execution_count": 2,
      "outputs": [
        {
          "output_type": "stream",
          "text": [
            "Mounted at /content/drive\n",
            "Downloading...\n",
            "From: https://drive.google.com/uc?id=19H3_BYiHuzIiY9vo9rBsVIu1aSlPlbKx\n",
            "To: /content/Kaggle/kaggle.json\n",
            "100% 64.0/64.0 [00:00<00:00, 57.0kB/s]\n",
            "drive  Kaggle  sample_data\n",
            "\u001b[K     |████████████████████████████████| 58 kB 6.3 MB/s \n",
            "\u001b[?25h  Building wheel for kaggle (setup.py) ... \u001b[?25l\u001b[?25hdone\n",
            "! kaggle datasets download -d coldfir3/seti-spatial-dataset-v3\n",
            "Downloading seti-spatial-dataset-v3.zip to /content\n",
            "100% 15.8G/15.8G [03:30<00:00, 71.9MB/s]\n",
            "100% 15.8G/15.8G [03:30<00:00, 80.3MB/s]\n",
            "seti-spatial-dataset-v3.zip\n"
          ],
          "name": "stdout"
        },
        {
          "output_type": "display_data",
          "data": {
            "application/vnd.jupyter.widget-view+json": {
              "model_id": "5e5baaa5967d4087b5c92b02f62c1614",
              "version_minor": 0,
              "version_major": 2
            },
            "text/plain": [
              "Extracting:   0%|          | 0/99996 [00:00<?, ?it/s]"
            ]
          },
          "metadata": {
            "tags": []
          }
        },
        {
          "output_type": "stream",
          "text": [
            "Downloading train_labels.csv.zip to /content\n",
            "\r  0% 0.00/522k [00:00<?, ?B/s]\n",
            "100% 522k/522k [00:00<00:00, 121MB/s]\n",
            "Downloading sample_submission.csv to /content\n",
            "  0% 0.00/781k [00:00<?, ?B/s]\n",
            "100% 781k/781k [00:00<00:00, 93.7MB/s]\n"
          ],
          "name": "stdout"
        }
      ]
    },
    {
      "cell_type": "markdown",
      "metadata": {
        "id": "67MUjz6-Nm6G"
      },
      "source": [
        "### Installing packages"
      ]
    },
    {
      "cell_type": "code",
      "metadata": {
        "id": "uQMtm6YEtMwg",
        "colab": {
          "base_uri": "https://localhost:8080/"
        },
        "outputId": "1621a41e-c271-420b-d74f-20bcece1d06e"
      },
      "source": [
        "if is_colab:\n",
        "    !pip install -Uqqq wandb\n",
        "    !pip install -Uqqq fastai\n",
        "    !pip install -Uqqq timm"
      ],
      "execution_count": 3,
      "outputs": [
        {
          "output_type": "stream",
          "text": [
            "\u001b[K     |████████████████████████████████| 1.6 MB 12.4 MB/s \n",
            "\u001b[K     |████████████████████████████████| 133 kB 71.5 MB/s \n",
            "\u001b[K     |████████████████████████████████| 97 kB 9.0 MB/s \n",
            "\u001b[K     |████████████████████████████████| 170 kB 67.1 MB/s \n",
            "\u001b[K     |████████████████████████████████| 63 kB 2.1 MB/s \n",
            "\u001b[?25h  Building wheel for subprocess32 (setup.py) ... \u001b[?25l\u001b[?25hdone\n",
            "  Building wheel for pathtools (setup.py) ... \u001b[?25l\u001b[?25hdone\n",
            "\u001b[K     |████████████████████████████████| 188 kB 11.9 MB/s \n",
            "\u001b[K     |████████████████████████████████| 56 kB 5.0 MB/s \n",
            "\u001b[K     |████████████████████████████████| 376 kB 15.8 MB/s \n",
            "\u001b[?25h"
          ],
          "name": "stdout"
        }
      ]
    },
    {
      "cell_type": "markdown",
      "metadata": {
        "id": "aFs1gKxXNt1K"
      },
      "source": [
        "### Loading packages"
      ]
    },
    {
      "cell_type": "code",
      "metadata": {
        "id": "GfaReODVtOU0"
      },
      "source": [
        "from fastai.vision.all import *\n",
        "import wandb\n",
        "from fastai.callback.wandb import *\n",
        "import timm"
      ],
      "execution_count": 4,
      "outputs": []
    },
    {
      "cell_type": "markdown",
      "metadata": {
        "id": "HYcpcs_qzYy6"
      },
      "source": [
        "## Setting up the DataFrames"
      ]
    },
    {
      "cell_type": "code",
      "metadata": {
        "colab": {
          "base_uri": "https://localhost:8080/",
          "height": 423
        },
        "id": "fxfx6KWbJ6IK",
        "outputId": "a3cfa2d5-b75f-439c-fd22-b9fe7cb15fbd"
      },
      "source": [
        "if is_colab:\n",
        "    base_path = '/content/test/'\n",
        "    test_df = pd.read_csv('/content/sample_submission.csv')\n",
        "test_df['fold'] = -1\n",
        "test_df['path'] = test_df['id'].apply(lambda x: base_path + x + '.png')\n",
        "test_df"
      ],
      "execution_count": 5,
      "outputs": [
        {
          "output_type": "execute_result",
          "data": {
            "text/html": [
              "<div>\n",
              "<style scoped>\n",
              "    .dataframe tbody tr th:only-of-type {\n",
              "        vertical-align: middle;\n",
              "    }\n",
              "\n",
              "    .dataframe tbody tr th {\n",
              "        vertical-align: top;\n",
              "    }\n",
              "\n",
              "    .dataframe thead th {\n",
              "        text-align: right;\n",
              "    }\n",
              "</style>\n",
              "<table border=\"1\" class=\"dataframe\">\n",
              "  <thead>\n",
              "    <tr style=\"text-align: right;\">\n",
              "      <th></th>\n",
              "      <th>id</th>\n",
              "      <th>target</th>\n",
              "      <th>fold</th>\n",
              "      <th>path</th>\n",
              "    </tr>\n",
              "  </thead>\n",
              "  <tbody>\n",
              "    <tr>\n",
              "      <th>0</th>\n",
              "      <td>000bf832cae9ff1</td>\n",
              "      <td>0.5</td>\n",
              "      <td>-1</td>\n",
              "      <td>/content/test/000bf832cae9ff1.png</td>\n",
              "    </tr>\n",
              "    <tr>\n",
              "      <th>1</th>\n",
              "      <td>000c74cc71a1140</td>\n",
              "      <td>0.5</td>\n",
              "      <td>-1</td>\n",
              "      <td>/content/test/000c74cc71a1140.png</td>\n",
              "    </tr>\n",
              "    <tr>\n",
              "      <th>2</th>\n",
              "      <td>000f5f9851161d3</td>\n",
              "      <td>0.5</td>\n",
              "      <td>-1</td>\n",
              "      <td>/content/test/000f5f9851161d3.png</td>\n",
              "    </tr>\n",
              "    <tr>\n",
              "      <th>3</th>\n",
              "      <td>000f7499e95aba6</td>\n",
              "      <td>0.5</td>\n",
              "      <td>-1</td>\n",
              "      <td>/content/test/000f7499e95aba6.png</td>\n",
              "    </tr>\n",
              "    <tr>\n",
              "      <th>4</th>\n",
              "      <td>00133ce6ec257f9</td>\n",
              "      <td>0.5</td>\n",
              "      <td>-1</td>\n",
              "      <td>/content/test/00133ce6ec257f9.png</td>\n",
              "    </tr>\n",
              "    <tr>\n",
              "      <th>...</th>\n",
              "      <td>...</td>\n",
              "      <td>...</td>\n",
              "      <td>...</td>\n",
              "      <td>...</td>\n",
              "    </tr>\n",
              "    <tr>\n",
              "      <th>39990</th>\n",
              "      <td>fff701540fb8aad</td>\n",
              "      <td>0.5</td>\n",
              "      <td>-1</td>\n",
              "      <td>/content/test/fff701540fb8aad.png</td>\n",
              "    </tr>\n",
              "    <tr>\n",
              "      <th>39991</th>\n",
              "      <td>fff9d92a46ea99a</td>\n",
              "      <td>0.5</td>\n",
              "      <td>-1</td>\n",
              "      <td>/content/test/fff9d92a46ea99a.png</td>\n",
              "    </tr>\n",
              "    <tr>\n",
              "      <th>39992</th>\n",
              "      <td>fffa40260ffe43d</td>\n",
              "      <td>0.5</td>\n",
              "      <td>-1</td>\n",
              "      <td>/content/test/fffa40260ffe43d.png</td>\n",
              "    </tr>\n",
              "    <tr>\n",
              "      <th>39993</th>\n",
              "      <td>fffbc626c9d269f</td>\n",
              "      <td>0.5</td>\n",
              "      <td>-1</td>\n",
              "      <td>/content/test/fffbc626c9d269f.png</td>\n",
              "    </tr>\n",
              "    <tr>\n",
              "      <th>39994</th>\n",
              "      <td>fffd28bc31bd500</td>\n",
              "      <td>0.5</td>\n",
              "      <td>-1</td>\n",
              "      <td>/content/test/fffd28bc31bd500.png</td>\n",
              "    </tr>\n",
              "  </tbody>\n",
              "</table>\n",
              "<p>39995 rows × 4 columns</p>\n",
              "</div>"
            ],
            "text/plain": [
              "                    id  target  fold                               path\n",
              "0      000bf832cae9ff1     0.5    -1  /content/test/000bf832cae9ff1.png\n",
              "1      000c74cc71a1140     0.5    -1  /content/test/000c74cc71a1140.png\n",
              "2      000f5f9851161d3     0.5    -1  /content/test/000f5f9851161d3.png\n",
              "3      000f7499e95aba6     0.5    -1  /content/test/000f7499e95aba6.png\n",
              "4      00133ce6ec257f9     0.5    -1  /content/test/00133ce6ec257f9.png\n",
              "...                ...     ...   ...                                ...\n",
              "39990  fff701540fb8aad     0.5    -1  /content/test/fff701540fb8aad.png\n",
              "39991  fff9d92a46ea99a     0.5    -1  /content/test/fff9d92a46ea99a.png\n",
              "39992  fffa40260ffe43d     0.5    -1  /content/test/fffa40260ffe43d.png\n",
              "39993  fffbc626c9d269f     0.5    -1  /content/test/fffbc626c9d269f.png\n",
              "39994  fffd28bc31bd500     0.5    -1  /content/test/fffd28bc31bd500.png\n",
              "\n",
              "[39995 rows x 4 columns]"
            ]
          },
          "metadata": {
            "tags": []
          },
          "execution_count": 5
        }
      ]
    },
    {
      "cell_type": "code",
      "metadata": {
        "id": "crhElQyIs9qe",
        "colab": {
          "base_uri": "https://localhost:8080/",
          "height": 423
        },
        "outputId": "00459626-5726-43b4-d732-f733bd10b111"
      },
      "source": [
        "from sklearn.model_selection import StratifiedKFold\n",
        "if is_colab: \n",
        "    base_path = '/content/train/'\n",
        "    train_df = pd.read_csv('/content/train_labels.csv.zip')\n",
        "else:\n",
        "    pass\n",
        "    # train_study = pd.read_csv('/media/passos/Data/DSET/siim-covid19-detection/train_study_level.csv')\n",
        "\n",
        "train_df['fold'] = -1\n",
        "train_df['path'] = train_df['id'].apply(lambda x: base_path + x + '.png')\n",
        "train_df['label'] = train_df['target'].apply(lambda x: 'alien' if x == 1 else 'no-alien')\n",
        "skf = StratifiedKFold(n_splits = 6, random_state = 42, shuffle = True)\n",
        "for fold, (train_index, test_index) in enumerate(skf.split(train_df['id'], train_df['target'])):\n",
        "    train_df.loc[test_index, 'fold'] = fold\n",
        "train_df"
      ],
      "execution_count": 6,
      "outputs": [
        {
          "output_type": "execute_result",
          "data": {
            "text/html": [
              "<div>\n",
              "<style scoped>\n",
              "    .dataframe tbody tr th:only-of-type {\n",
              "        vertical-align: middle;\n",
              "    }\n",
              "\n",
              "    .dataframe tbody tr th {\n",
              "        vertical-align: top;\n",
              "    }\n",
              "\n",
              "    .dataframe thead th {\n",
              "        text-align: right;\n",
              "    }\n",
              "</style>\n",
              "<table border=\"1\" class=\"dataframe\">\n",
              "  <thead>\n",
              "    <tr style=\"text-align: right;\">\n",
              "      <th></th>\n",
              "      <th>id</th>\n",
              "      <th>target</th>\n",
              "      <th>fold</th>\n",
              "      <th>path</th>\n",
              "      <th>label</th>\n",
              "    </tr>\n",
              "  </thead>\n",
              "  <tbody>\n",
              "    <tr>\n",
              "      <th>0</th>\n",
              "      <td>0000799a2b2c42d</td>\n",
              "      <td>0</td>\n",
              "      <td>3</td>\n",
              "      <td>/content/train/0000799a2b2c42d.png</td>\n",
              "      <td>no-alien</td>\n",
              "    </tr>\n",
              "    <tr>\n",
              "      <th>1</th>\n",
              "      <td>00042890562ff68</td>\n",
              "      <td>0</td>\n",
              "      <td>3</td>\n",
              "      <td>/content/train/00042890562ff68.png</td>\n",
              "      <td>no-alien</td>\n",
              "    </tr>\n",
              "    <tr>\n",
              "      <th>2</th>\n",
              "      <td>0005364cdcb8e5b</td>\n",
              "      <td>0</td>\n",
              "      <td>4</td>\n",
              "      <td>/content/train/0005364cdcb8e5b.png</td>\n",
              "      <td>no-alien</td>\n",
              "    </tr>\n",
              "    <tr>\n",
              "      <th>3</th>\n",
              "      <td>0007a5a46901c56</td>\n",
              "      <td>0</td>\n",
              "      <td>3</td>\n",
              "      <td>/content/train/0007a5a46901c56.png</td>\n",
              "      <td>no-alien</td>\n",
              "    </tr>\n",
              "    <tr>\n",
              "      <th>4</th>\n",
              "      <td>0009283e145448e</td>\n",
              "      <td>0</td>\n",
              "      <td>3</td>\n",
              "      <td>/content/train/0009283e145448e.png</td>\n",
              "      <td>no-alien</td>\n",
              "    </tr>\n",
              "    <tr>\n",
              "      <th>...</th>\n",
              "      <td>...</td>\n",
              "      <td>...</td>\n",
              "      <td>...</td>\n",
              "      <td>...</td>\n",
              "      <td>...</td>\n",
              "    </tr>\n",
              "    <tr>\n",
              "      <th>59995</th>\n",
              "      <td>fff8217fe05aba3</td>\n",
              "      <td>0</td>\n",
              "      <td>4</td>\n",
              "      <td>/content/train/fff8217fe05aba3.png</td>\n",
              "      <td>no-alien</td>\n",
              "    </tr>\n",
              "    <tr>\n",
              "      <th>59996</th>\n",
              "      <td>fffa939e610ed70</td>\n",
              "      <td>0</td>\n",
              "      <td>4</td>\n",
              "      <td>/content/train/fffa939e610ed70.png</td>\n",
              "      <td>no-alien</td>\n",
              "    </tr>\n",
              "    <tr>\n",
              "      <th>59997</th>\n",
              "      <td>fffbb1c9c3d6c31</td>\n",
              "      <td>1</td>\n",
              "      <td>5</td>\n",
              "      <td>/content/train/fffbb1c9c3d6c31.png</td>\n",
              "      <td>alien</td>\n",
              "    </tr>\n",
              "    <tr>\n",
              "      <th>59998</th>\n",
              "      <td>fffc9a763d23647</td>\n",
              "      <td>0</td>\n",
              "      <td>0</td>\n",
              "      <td>/content/train/fffc9a763d23647.png</td>\n",
              "      <td>no-alien</td>\n",
              "    </tr>\n",
              "    <tr>\n",
              "      <th>59999</th>\n",
              "      <td>ffff0a799efa529</td>\n",
              "      <td>0</td>\n",
              "      <td>1</td>\n",
              "      <td>/content/train/ffff0a799efa529.png</td>\n",
              "      <td>no-alien</td>\n",
              "    </tr>\n",
              "  </tbody>\n",
              "</table>\n",
              "<p>60000 rows × 5 columns</p>\n",
              "</div>"
            ],
            "text/plain": [
              "                    id  target  ...                                path     label\n",
              "0      0000799a2b2c42d       0  ...  /content/train/0000799a2b2c42d.png  no-alien\n",
              "1      00042890562ff68       0  ...  /content/train/00042890562ff68.png  no-alien\n",
              "2      0005364cdcb8e5b       0  ...  /content/train/0005364cdcb8e5b.png  no-alien\n",
              "3      0007a5a46901c56       0  ...  /content/train/0007a5a46901c56.png  no-alien\n",
              "4      0009283e145448e       0  ...  /content/train/0009283e145448e.png  no-alien\n",
              "...                ...     ...  ...                                 ...       ...\n",
              "59995  fff8217fe05aba3       0  ...  /content/train/fff8217fe05aba3.png  no-alien\n",
              "59996  fffa939e610ed70       0  ...  /content/train/fffa939e610ed70.png  no-alien\n",
              "59997  fffbb1c9c3d6c31       1  ...  /content/train/fffbb1c9c3d6c31.png     alien\n",
              "59998  fffc9a763d23647       0  ...  /content/train/fffc9a763d23647.png  no-alien\n",
              "59999  ffff0a799efa529       0  ...  /content/train/ffff0a799efa529.png  no-alien\n",
              "\n",
              "[60000 rows x 5 columns]"
            ]
          },
          "metadata": {
            "tags": []
          },
          "execution_count": 6
        }
      ]
    },
    {
      "cell_type": "markdown",
      "metadata": {
        "id": "fNzjXdp3zzA9"
      },
      "source": [
        "## DataBlock & DataLoader"
      ]
    },
    {
      "cell_type": "code",
      "metadata": {
        "colab": {
          "base_uri": "https://localhost:8080/",
          "height": 270
        },
        "id": "y7B2iqV2zUfi",
        "outputId": "9b7bc836-8818-4283-a315-a85747141a10"
      },
      "source": [
        "def get_dls(df, **config):\n",
        "    is_colab = 'google.colab' in sys.modules\n",
        "    workers = 2 if is_colab else 10\n",
        "    splitter = IndexSplitter(df[df.fold == config['fold']].index)\n",
        "    return DataBlock(\n",
        "        blocks=(ImageBlock(cls=PILImageBW), CategoryBlock()),\n",
        "        splitter = splitter,\n",
        "        getters=[ColReader('path'), ColReader('target')],\n",
        "        #item_tfms=Resize(config['img_size'], method = 'squish'),\n",
        "        batch_tfms = Flip()\n",
        "        ).dataloaders(df, bs = config['bs'], num_workers = workers)\n",
        "\n",
        "dls = get_dls(train_df, **{'img_size':224, 'bs':32, 'fold':0})\n",
        "dls.show_batch(max_n = 8)"
      ],
      "execution_count": 7,
      "outputs": [
        {
          "output_type": "display_data",
          "data": {
            "image/png": "[encoded data removed]",
            "text/plain": [
              "<Figure size 864x432 with 8 Axes>"
            ]
          },
          "metadata": {
            "tags": [],
            "needs_background": "light"
          }
        }
      ]
    },
    {
      "cell_type": "markdown",
      "metadata": {
        "id": "CK7ppNWQ70ay"
      },
      "source": [
        "## Trainer"
      ]
    },
    {
      "cell_type": "markdown",
      "metadata": {
        "id": "PklKWqu97wHa"
      },
      "source": [
        "### Volo model"
      ]
    },
    {
      "cell_type": "code",
      "metadata": {
        "id": "5E_sdGd_tGqv"
      },
      "source": [
        "# #https://github.com/sail-sg/volo\n",
        "\n",
        "# if not exists('/content/volo'):\n",
        "#     !git clone https://github.com/sail-sg/volo.git\n",
        "# sys.path.append(\"/content/volo/\")\n",
        "\n",
        "# from volo.models import volo  # register model to timm\n",
        "# from volo.utils import load_pretrained_weights\n",
        "\n",
        "# VOLO_CHECHPOINTS = {\n",
        "#     \"volo_d1\": \"https://github.com/sail-sg/volo/releases/download/volo_1/d1_224_84.2.pth.tar\",\n",
        "#     \"volo_d1-384\": \"https://github.com/sail-sg/volo/releases/download/volo_1/d1_384_85.2.pth.tar\",\n",
        "#     \"volo_d2\": \"https://github.com/sail-sg/volo/releases/download/volo_1/d2_224_85.2.pth.tar\",\n",
        "#     \"volo_d2-384\": \"https://github.com/sail-sg/volo/releases/download/volo_1/d2_384_86.0.pth.tar\",\n",
        "#     \"volo_d3\": \"https://github.com/sail-sg/volo/releases/download/volo_1/d3_224_85.4.pth.tar\",\n",
        "#     \"volo_d3-448\": \"https://github.com/sail-sg/volo/releases/download/volo_1/d3_448_86.3.pth.tar\",\n",
        "#     \"volo_d4\": \"https://github.com/sail-sg/volo/releases/download/volo_1/d4_224_85.7.pth.tar\",\n",
        "#     \"volo_d4-448\": \"https://github.com/sail-sg/volo/releases/download/volo_1/d4_448_86.79.pth.tar\",\n",
        "#     \"volo_d5\": \"https://github.com/sail-sg/volo/releases/download/volo_1/d5_224_86.10.pth.tar\",\n",
        "#     \"volo_d5-448\": \"https://github.com/sail-sg/volo/releases/download/volo_1/d5_448_87.0.pth.tar\",\n",
        "#     \"volo_d5-512\": \"https://github.com/sail-sg/volo/releases/download/volo_1/d5_512_87.07.pth.tar\",\n",
        "# }\n",
        "\n",
        "# class VoloBackbone(nn.Module):\n",
        "    \n",
        "#     def __init__(\n",
        "#         self, base_name: str,\n",
        "#         pretrained=False, in_channels: int=3, image_size: int=224 \n",
        "#     ):\n",
        "#         \"\"\"Initialize\"\"\"\n",
        "#         self.base_name = base_name\n",
        "#         super().__init__()\n",
        "#         model_name = base_name.split(\"-\")[0]\n",
        "#         assert timm.is_model(model_name), \"you can use only models in timm.\"\n",
        "        \n",
        "#         base_model = timm.create_model(\n",
        "#             model_name, img_size=image_size,\n",
        "#             mix_token=False, return_dense=False, drop_path_rate=0.1)\n",
        "#         in_features = base_model.head.in_features\n",
        "#         if pretrained:\n",
        "#             model_url = VOLO_CHECHPOINTS[base_name]\n",
        "#             model_path = model_url.split('/')[-1]\n",
        "#             if not os.path.isfile(model_path):      \n",
        "#                 print(f'Downloading {model_path} ...')        \n",
        "#                 !wget $model_url, -O $model_path\n",
        "#             load_pretrained_weights(base_model, model_path, strict=False)\n",
        "        \n",
        "#         if in_channels != 3:\n",
        "#             # # change input channel\n",
        "#             # # I follow the manner used in timm.\n",
        "#             first_conv = base_model.patch_embed.conv[0]\n",
        "#             w_t = first_conv.weight.data  # shape: (out_ch, 3, 7, 7)\n",
        "#             if in_channels == 1:\n",
        "#                 new_w_t = w_t.sum(axis=1, keepdims=True)  # shape: (out_ch, 1, 7, 7)\n",
        "#             else:\n",
        "#                 n_repeats = (in_channels + 3 - 1) // 3\n",
        "#                 new_w_t = w_t.repeat((1, n_repeats, 1, 1))\n",
        "#                 new_w_t = new_w_t[:, :in_channels]\n",
        "#                 new_w_t = new_w_t * 3 / in_channels  # shape: (out_ch, in_channels, 7, 7)\n",
        "\n",
        "#             first_conv.weight.data = new_w_t\n",
        "            \n",
        "#         base_model.reset_classifier(num_classes=0)\n",
        "#         self.backbone = base_model\n",
        "  \n",
        "#     def forward(self, x):\n",
        "#         \"\"\"Forward\"\"\"\n",
        "#         h = self.backbone(x)\n",
        "#         return h"
      ],
      "execution_count": 8,
      "outputs": []
    },
    {
      "cell_type": "markdown",
      "metadata": {
        "id": "OZUNy-TB914V"
      },
      "source": [
        "### Resizing head"
      ]
    },
    {
      "cell_type": "code",
      "metadata": {
        "id": "EbXHBbL093oX"
      },
      "source": [
        "class ResizingHead(nn.Module):\n",
        "    def __init__(self, img_size, n = 16, slope = .1, r = 1):\n",
        "        super().__init__()\n",
        "        self.img_size = img_size\n",
        "        self.n = n\n",
        "        self.slope = slope\n",
        "        self.r = r\n",
        "        self.block1 = nn.Sequential(\n",
        "                nn.Conv2d(1, self.n, kernel_size=(7, 7), stride=(1,1), padding=(1, 1), bias=False),\n",
        "                nn.LeakyReLU(negative_slope=self.slope),\n",
        "                nn.Conv2d(self.n, self.n, kernel_size=(1, 1), stride=(1,1), padding=(1, 1), bias=False),\n",
        "                nn.LeakyReLU(negative_slope=self.slope),\n",
        "                nn.BatchNorm2d(self.n))\n",
        "        self.block2 = nn.Sequential(\n",
        "                nn.Conv2d(self.n, self.n, kernel_size=(3, 3), stride=(1,1), padding=(1, 1), bias=False),\n",
        "                nn.BatchNorm2d(self.n),\n",
        "                nn.LeakyReLU(negative_slope=self.slope),\n",
        "                nn.Conv2d(self.n, self.n, kernel_size=(3, 3), stride=(1,1), padding=(1, 1), bias=False),\n",
        "                nn.BatchNorm2d(self.n))\n",
        "        self.block3 = nn.Sequential(\n",
        "                nn.Conv2d(self.n, self.n, kernel_size=(3, 3), stride=(1,1), padding=(1, 1), bias=False),\n",
        "                nn.BatchNorm2d(self.n))\n",
        "        self.block4 = nn.Sequential(\n",
        "                nn.Conv2d(self.n, 1, kernel_size=(7, 7), stride=(1, 1), padding=(3, 3), bias=False))\n",
        "\n",
        "    def forward(self, x):\n",
        "        res1 = F.interpolate(x, size=(self.img_size, self.img_size), mode='bilinear', align_corners=False)\n",
        "        x = self.block1(x)\n",
        "        res2 = F.interpolate(x, size=(self.img_size, self.img_size), mode='bilinear', align_corners=False)\n",
        "        x = self.block2(res2)\n",
        "        x += res2\n",
        "        if self.r > 1:\n",
        "            for _ in range(self.r):\n",
        "                res2 = x\n",
        "                x = self.block2(x)\n",
        "                x += res2\n",
        "        x = self.block3(x)\n",
        "        x += res2\n",
        "        x = self.block4(x)\n",
        "        x += res1\n",
        "        return x\n",
        "\n",
        "# def split_3(m):\n",
        "#     \"Default split of a model between body and head\"\n",
        "#     return L(m[1], nn.Sequential(m[0], m[2])).map(params)"
      ],
      "execution_count": 9,
      "outputs": []
    },
    {
      "cell_type": "markdown",
      "metadata": {
        "id": "mRPxWjul72gI"
      },
      "source": [
        "### Timm model"
      ]
    },
    {
      "cell_type": "code",
      "metadata": {
        "id": "wEKD8ny83UQN"
      },
      "source": [
        "def create_timm_model(**config):\n",
        "\n",
        "    if 'pretrained' not in config: config['pretrained'] = False\n",
        "\n",
        "    if config['fastai_head']:\n",
        "        if config['is_transformer']:\n",
        "            if 'volo' in config['arch']:\n",
        "                body = VoloBackbone('volo_d1', True, 1, 224)\n",
        "            else:\n",
        "                body = timm.create_model(config['arch'], pretrained=config['pretrained'], num_classes = 0, in_chans = config['in_chans'], img_size = config['img_size'])\n",
        "            n_features = body(torch.randn((1, config['in_chans'], config['img_size'], config['img_size']))).shape.numel()\n",
        "            head = create_head(n_features, config['num_classes'], concat_pool = False)\n",
        "            head = nn.Sequential(*list(head.children())[2:])\n",
        "        else:\n",
        "            body = timm.create_model(config['arch'], pretrained=config['pretrained'], num_classes = 0, in_chans = config['in_chans'])\n",
        "            body = nn.Sequential(*list(body.children())[:-2])\n",
        "            head = create_head(num_features_model(body), config['num_classes'], concat_pool=True)\n",
        "\n",
        "        model = nn.Sequential(body, head)\n",
        "        apply_init(model[1], nn.init.kaiming_normal_)\n",
        "\n",
        "    else:\n",
        "        if config['is_transformer']:\n",
        "            model = timm.create_model(config['arch'], pretrained=config['pretrained'], num_classes = config['num_classes'], in_chans = config['in_chans'], img_size = config['img_size'])\n",
        "        else:\n",
        "            model = timm.create_model(config['arch'], pretrained=config['pretrained'], num_classes = config['num_classes'], in_chans = config['in_chans'])\n",
        "\n",
        "    if config['resizing_learning']:\n",
        "        res = ResizingHead(config['img_size'])\n",
        "        body = nn.Sequential(*list(res.children()), *list(body.children()))\n",
        "        model = nn.Sequential(body, head)\n",
        "\n",
        "    return model\n",
        "\n",
        "# create_timm_model(**{\n",
        "#         'arch' : 'resnet18',\n",
        "#         'resizing_learning' : True,\n",
        "#         'fastai_head' : True,\n",
        "#         'is_transformer' : False,\n",
        "#         'in_chans' : 1, \n",
        "#         'num_classes' : 1,\n",
        "#         'img_size' : 384, \n",
        "#     })"
      ],
      "execution_count": 10,
      "outputs": []
    },
    {
      "cell_type": "markdown",
      "metadata": {
        "id": "ZCcNFXdS74EE"
      },
      "source": [
        "### Helper"
      ]
    },
    {
      "cell_type": "code",
      "metadata": {
        "id": "sKbLds1Z31AO"
      },
      "source": [
        "class SaveAndLogBestModel(SaveModelCallback):\n",
        "\n",
        "    def __init__(self, mon='valid_loss', **kwargs):\n",
        "        super().__init__(monitor = mon, fname = mon, **kwargs)\n",
        "\n",
        "    def _save(self, name): \n",
        "        self.last_saved_path = self.learn.save(name, with_opt=self.with_opt)\n",
        "        self.model_path = Path(*list(self.last_saved_path.parts[:-1])) / (self.fname + '.pth')\n",
        "        self.metadata = {n:s for n,s in zip(self.recorder.metric_names, self.recorder.log) if n not in ['time']}\n",
        "\n",
        "    def after_fit(self, **kwargs):\n",
        "        metadata = self.metadata\n",
        "        for k,v in metadata.items(): metadata[k] = str(v)\n",
        "        name = f'run_{wandb.run.id}_model'\n",
        "        artifact_model = wandb.Artifact(name=name, type='model', metadata=metadata, description='trained model')\n",
        "        with artifact_model.new_file(name, mode='wb') as fa:\n",
        "            fa.write(self.model_path.read_bytes())\n",
        "        wandb.run.log_artifact(artifact_model, aliases = [f'best {self.fname}', f'epoch {metadata[\"epoch\"]}'])"
      ],
      "execution_count": 11,
      "outputs": []
    },
    {
      "cell_type": "code",
      "metadata": {
        "id": "2B1Bcada0d0P"
      },
      "source": [
        "def download_model(project, run_id, entity = 'coldfir3', best = None):\n",
        "    metadata = []\n",
        "    run = wandb.Api().run(entity + \"/\" + project + \"/\" + run_id)\n",
        "    for artifact in run.logged_artifacts():\n",
        "        if best is None or 'best ' + best in artifact.aliases:\n",
        "            artifact.download(run_id)\n",
        "            model_path = f'{run_id}/model_{artifact.version}.pth'\n",
        "            os.rename(f'{run_id}/run_{run_id}_model', model_path)\n",
        "            meta = artifact.metadata\n",
        "            meta['path'] = model_path\n",
        "            meta['id'] = run_id\n",
        "            metadata.append(meta)\n",
        "    metadata = pd.DataFrame(metadata)\n",
        "\n",
        "    config = run.config\n",
        "    config['Model']['pretrained'] = False\n",
        "    model = create_timm_model(**config['Model'])\n",
        "    model.load_state_dict(torch.load(metadata.loc[0, 'path']))\n",
        "    \n",
        "    return metadata, config, model"
      ],
      "execution_count": 12,
      "outputs": []
    },
    {
      "cell_type": "markdown",
      "metadata": {
        "id": "3YiQfM1g76I_"
      },
      "source": [
        "### Learner"
      ]
    },
    {
      "cell_type": "code",
      "metadata": {
        "id": "3Kvqi8Eg5YlQ"
      },
      "source": [
        "class wandb_learner():\n",
        "\n",
        "    def __init__(self, df, run = None, **config):\n",
        "\n",
        "        if run is not None:\n",
        "            _, cfg, model = download_model('Seti V1', 'k8ss5b0p', best = 'valid_loss')\n",
        "            cfg['Learner'] = config['Learner']\n",
        "            config = cfg\n",
        "\n",
        "        if config['Fit']['n_epoch'] < 1:\n",
        "            df = df.sample(frac=config['Fit']['n_epoch']).reset_index(drop=True)\n",
        "            config['Fit']['n_epoch'] = 1\n",
        "            \n",
        "        self.df = df\n",
        "        self.config = config\n",
        "\n",
        "        self.dls = get_dls(df, **config['Dataloader'])\n",
        "        if run is not None:\n",
        "            self.model = model\n",
        "        else:\n",
        "            self.model = create_timm_model(**config['Model'])\n",
        "            self.scheduler = self.config['Fit'].pop('scheduler')\n",
        "            self.wandb_config = self.config.pop('WandB')\n",
        "        self.learn = Learner(self.dls, self.model, **config['Learner'])\n",
        "\n",
        "    def unfrozen_count(self):\n",
        "        return sum([np.prod(p.size()) for p in filter(lambda p: p.requires_grad, self.model.parameters())])\n",
        "\n",
        "    def fit(self):\n",
        "\n",
        "        if self.scheduler == 'fine_tune':\n",
        "\n",
        "            lr_max  = self.config['Fit'].pop('lr_max')\n",
        "            n_epoch = self.config['Fit'].pop('n_epoch')\n",
        "            freeze_lr = self.config['Fit'].pop('freeze_lr')\n",
        "            freeze_epochs = self.config['Fit'].pop('freeze_epochs')\n",
        "            lr_mult = self.config['Fit'].pop('lr_mult')\n",
        "            lr = slice(lr_max/lr_mult, lr_max)\n",
        "\n",
        "            self.learn.freeze()\n",
        "            print(f'Training {self.unfrozen_count()} parameters ...')\n",
        "            self.learn.fit_one_cycle(freeze_epochs, slice(freeze_lr), pct_start=0.99, **self.config['Fit'])\n",
        "\n",
        "            self.learn.unfreeze()\n",
        "            print(f'Training {self.unfrozen_count()} parameters ...')\n",
        "            self.learn.fit_one_cycle(n_epoch - freeze_epochs, lr, pct_start=0.3, div=5.0, **self.config['Fit'])    \n",
        "            \n",
        "            self.config['Fit']['lr_max'] = lr_max\n",
        "            self.config['Fit']['n_epoch'] = n_epoch\n",
        "            self.config['Fit']['freeze_lr'] = freeze_lr\n",
        "            self.config['Fit']['freeze_epochs'] = freeze_epochs\n",
        "            self.config['Fit']['lr_mult'] = lr_mult\n",
        "            \n",
        "        elif self.scheduler == 'one_cycle': self.learn.fit_one_cycle(**self.config['Fit'])\n",
        "\n",
        "        elif self.scheduler == 'cossine': print('not implemented')\n",
        "\n",
        "        elif self.scheduler == 'reduce_on_plateau': print('not implemented')\n",
        "\n",
        "        else: self.learn.fit(**self.config['Fit'])\n",
        "\n",
        "    def wandb_fit(self, valid_df = None, test_df = None):\n",
        "        \n",
        "        with wandb.init(config = self.config, **self.wandb_config) as run:\n",
        "            self.learn.add_cb(WandbCallback(log_model=False))\n",
        "            self.learn.add_cb(SaveAndLogBestModel())\n",
        "            self.fit()\n",
        "            if valid_df is not None: \n",
        "                if valid_df == 'auto':\n",
        "                    valid_df = self.df[self.df['fold'] == self.config['Dataloader']['fold']].reset_index(drop = True)\n",
        "                preds = self.tta(valid_df)\n",
        "                table = wandb.Table(columns=[\"id\", 'is_alien'], data=list(zip(valid_df['id'].tolist(), preds[:,0].tolist())))\n",
        "                run.log({\"valid_table\": table})\n",
        "            if test_df is not None:\n",
        "                preds = self.tta(test_df)\n",
        "                table = wandb.Table(columns=[\"id\", 'is_alien'], data=list(zip(test_df['id'].tolist(), preds[:,0].tolist())))\n",
        "                run.log({\"test_table\": table})\n",
        "        self.run = run.id\n",
        "\n",
        "    def tta(self, df):\n",
        "        dl = self.dls.test_dl(df)\n",
        "        preds, _ = self.learn.tta(dl = dl)\n",
        "        return preds"
      ],
      "execution_count": 13,
      "outputs": []
    },
    {
      "cell_type": "markdown",
      "metadata": {
        "id": "RH_vKWKR79lw"
      },
      "source": [
        "## Experiments"
      ]
    },
    {
      "cell_type": "code",
      "metadata": {
        "colab": {
          "base_uri": "https://localhost:8080/",
          "height": 341
        },
        "id": "-SJvMv5OGXa8",
        "outputId": "a582d978-cd2c-45a5-f6be-981e4ce5332e"
      },
      "source": [
        "bs = 16\n",
        "CFG = {\n",
        "    'WandB' : {\n",
        "        'project' : 'Seti V1',\n",
        "        'tags': ['resnet', 'Resize'],\n",
        "        'notes':\n",
        "        \"\"\"First attempt at resizing learning\n",
        "        \"\"\"\n",
        "    },\n",
        "    'Dataset':dataset,\n",
        "    'Dataloader' : {\n",
        "        'bs' : bs,\n",
        "        'fold' : 0, \n",
        "    },\n",
        "    'Model' : {\n",
        "        'arch' : 'resnet50',\n",
        "        'resizing_learning' : True,\n",
        "        'fastai_head' : True,\n",
        "        'is_transformer' : False,\n",
        "        'in_chans' : 1, \n",
        "        'num_classes' : 2,\n",
        "        'img_size' : 256, \n",
        "    },\n",
        "    'Learner' : {\n",
        "        'loss_func' : CrossEntropyLossFlat(),\n",
        "        'metrics' : RocAucBinary(),\n",
        "        'cbs' : GradientAccumulation(1024//bs),\n",
        "        'splitter' : default_split\n",
        "      },\n",
        "    'Fit' : {\n",
        "        'scheduler' : 'fine_tune',\n",
        "        'lr_max' : 1e-3,\n",
        "        'n_epoch' : 10,\n",
        "        'freeze_lr' : 2e-3,\n",
        "        'freeze_epochs' : 1,\n",
        "        'lr_mult' : 100,\n",
        "    }\n",
        "}\n",
        "learn = wandb_learner(train_df, **CFG)\n",
        "# learn.learn.lr_find()\n",
        "learn.wandb_fit('auto', test_df)"
      ],
      "execution_count": null,
      "outputs": [
        {
          "output_type": "stream",
          "text": [
            "/usr/local/lib/python3.7/dist-packages/torch/nn/functional.py:718: UserWarning: Named tensors and all their associated APIs are an experimental feature and subject to change. Please do not use them for anything important until they are released as stable. (Triggered internally at  /pytorch/c10/core/TensorImpl.h:1156.)\n",
            "  return torch.max_pool2d(input, kernel_size, stride, padding, dilation, ceil_mode)\n"
          ],
          "name": "stderr"
        },
        {
          "output_type": "display_data",
          "data": {
            "application/javascript": [
              "\n",
              "        window._wandbApiKey = new Promise((resolve, reject) => {\n",
              "            function loadScript(url) {\n",
              "            return new Promise(function(resolve, reject) {\n",
              "                let newScript = document.createElement(\"script\");\n",
              "                newScript.onerror = reject;\n",
              "                newScript.onload = resolve;\n",
              "                document.body.appendChild(newScript);\n",
              "                newScript.src = url;\n",
              "            });\n",
              "            }\n",
              "            loadScript(\"https://cdn.jsdelivr.net/npm/postmate/build/postmate.min.js\").then(() => {\n",
              "            const iframe = document.createElement('iframe')\n",
              "            iframe.style.cssText = \"width:0;height:0;border:none\"\n",
              "            document.body.appendChild(iframe)\n",
              "            const handshake = new Postmate({\n",
              "                container: iframe,\n",
              "                url: 'https://wandb.ai/authorize'\n",
              "            });\n",
              "            const timeout = setTimeout(() => reject(\"Couldn't auto authenticate\"), 5000)\n",
              "            handshake.then(function(child) {\n",
              "                child.on('authorize', data => {\n",
              "                    clearTimeout(timeout)\n",
              "                    resolve(data)\n",
              "                });\n",
              "            });\n",
              "            })\n",
              "        });\n",
              "    "
            ],
            "text/plain": [
              "<IPython.core.display.Javascript object>"
            ]
          },
          "metadata": {
            "tags": []
          }
        },
        {
          "output_type": "stream",
          "text": [
            "\u001b[34m\u001b[1mwandb\u001b[0m: You can find your API key in your browser here: https://wandb.ai/authorize\n"
          ],
          "name": "stderr"
        },
        {
          "output_type": "stream",
          "text": [
            "wandb: Paste an API key from your profile and hit enter: ··········\n"
          ],
          "name": "stdout"
        },
        {
          "output_type": "stream",
          "text": [
            "\u001b[34m\u001b[1mwandb\u001b[0m: Appending key for api.wandb.ai to your netrc file: /root/.netrc\n"
          ],
          "name": "stderr"
        },
        {
          "output_type": "display_data",
          "data": {
            "text/html": [
              "\n",
              "                Tracking run with wandb version 0.12.0<br/>\n",
              "                Syncing run <strong style=\"color:#cdcd00\">feasible-paper-59</strong> to <a href=\"https://wandb.ai\" target=\"_blank\">Weights & Biases</a> <a href=\"https://docs.wandb.com/integrations/jupyter.html\" target=\"_blank\">(Documentation)</a>.<br/>\n",
              "                Project page: <a href=\"https://wandb.ai/coldfir3/Seti%20V1\" target=\"_blank\">https://wandb.ai/coldfir3/Seti%20V1</a><br/>\n",
              "                Run page: <a href=\"https://wandb.ai/coldfir3/Seti%20V1/runs/qd3bs3bn\" target=\"_blank\">https://wandb.ai/coldfir3/Seti%20V1/runs/qd3bs3bn</a><br/>\n",
              "                Run data is saved locally in <code>/content/wandb/run-20210813_201353-qd3bs3bn</code><br/><br/>\n",
              "            "
            ],
            "text/plain": [
              "<IPython.core.display.HTML object>"
            ]
          },
          "metadata": {
            "tags": []
          }
        },
        {
          "output_type": "stream",
          "text": [
            "Training 2160640 parameters ...\n"
          ],
          "name": "stdout"
        },
        {
          "output_type": "display_data",
          "data": {
            "text/html": [
              "\n",
              "    <div>\n",
              "        <style>\n",
              "            /* Turns off some styling */\n",
              "            progress {\n",
              "                /* gets rid of default border in Firefox and Opera. */\n",
              "                border: none;\n",
              "                /* Needs to be in here for Safari polyfill so background images work as expected. */\n",
              "                background-size: auto;\n",
              "            }\n",
              "            .progress-bar-interrupted, .progress-bar-interrupted::-webkit-progress-bar {\n",
              "                background: #F44336;\n",
              "            }\n",
              "        </style>\n",
              "      <progress value='0' class='' max='1' style='width:300px; height:20px; vertical-align: middle;'></progress>\n",
              "      0.00% [0/1 00:00<00:00]\n",
              "    </div>\n",
              "    \n",
              "<table border=\"1\" class=\"dataframe\">\n",
              "  <thead>\n",
              "    <tr style=\"text-align: left;\">\n",
              "      <th>epoch</th>\n",
              "      <th>train_loss</th>\n",
              "      <th>valid_loss</th>\n",
              "      <th>roc_auc_score</th>\n",
              "      <th>time</th>\n",
              "    </tr>\n",
              "  </thead>\n",
              "  <tbody>\n",
              "  </tbody>\n",
              "</table><p>\n",
              "\n",
              "    <div>\n",
              "        <style>\n",
              "            /* Turns off some styling */\n",
              "            progress {\n",
              "                /* gets rid of default border in Firefox and Opera. */\n",
              "                border: none;\n",
              "                /* Needs to be in here for Safari polyfill so background images work as expected. */\n",
              "                background-size: auto;\n",
              "            }\n",
              "            .progress-bar-interrupted, .progress-bar-interrupted::-webkit-progress-bar {\n",
              "                background: #F44336;\n",
              "            }\n",
              "        </style>\n",
              "      <progress value='1618' class='' max='3125' style='width:300px; height:20px; vertical-align: middle;'></progress>\n",
              "      51.78% [1618/3125 10:41<09:57 0.4469]\n",
              "    </div>\n",
              "    "
            ],
            "text/plain": [
              "<IPython.core.display.HTML object>"
            ]
          },
          "metadata": {
            "tags": []
          }
        }
      ]
    },
    {
      "cell_type": "markdown",
      "metadata": {
        "id": "ygr5yuU8Smtw"
      },
      "source": [
        "# Old configs"
      ]
    }
  ]
}